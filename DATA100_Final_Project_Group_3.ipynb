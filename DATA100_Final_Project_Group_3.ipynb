{
 "cells": [
  {
   "cell_type": "markdown",
   "id": "4e9ab664-e200-4433-967e-d1cb1ac1739f",
   "metadata": {
    "tags": []
   },
   "source": [
    "# DATA100 - Final Project: Storytelling with Data "
   ]
  },
  {
   "cell_type": "markdown",
   "id": "441a6d10-ecb5-4717-b214-f08dc79ad22c",
   "metadata": {},
   "source": [
    "<hr>\n",
    "<hr>\n",
    "\n",
    "## Group 3 Members \n",
    "* Argonza, Antoinette Joy \n",
    "* Jamia, Gillian Nicole \n",
    "* Magsano, Niño Matthew \n",
    "* Reyes, Anton Gabriel"
   ]
  },
  {
   "cell_type": "markdown",
   "id": "aba8aea6-21f9-4b26-82c4-f4a65dd873a8",
   "metadata": {
    "tags": []
   },
   "source": [
    "<hr>\n",
    "<hr>\n",
    "\n",
    "## Motivation\n",
    "\n",
    "*As Lasallian students, we would want to determine the possible causes of child mortality and provide credible, consolidated information and insights that help prevent or solve this pressing social issue.*\n"
   ]
  },
  {
   "cell_type": "markdown",
   "id": "e55139f1-a936-4093-a81b-90dc63f9aedf",
   "metadata": {},
   "source": [
    "<hr>\n",
    "<hr>\n",
    "\n",
    "## Libraries, Packages, or Modules"
   ]
  },
  {
   "cell_type": "code",
   "execution_count": 2,
   "id": "a49b1fb1-2602-4434-a6a3-0fdba223a831",
   "metadata": {},
   "outputs": [
    {
     "name": "stdout",
     "output_type": "stream",
     "text": [
      "Populating the interactive namespace from numpy and matplotlib\n"
     ]
    }
   ],
   "source": [
    "import os \n",
    "import csv\n",
    "import time\n",
    "import numpy as np\n",
    "import pandas as pd\n",
    "import seaborn as sns\n",
    "import requests \n",
    "import datetime as dt\n",
    "import geopandas as gpd\n",
    "import matplotlib.pyplot as plt\n",
    "\n",
    "from shapely.geometry import Point\n",
    "from IPython.core.display import HTML\n",
    "\n",
    "%matplotlib inline\n",
    "%pylab inline"
   ]
  },
  {
   "cell_type": "code",
   "execution_count": 3,
   "id": "eb6bccaf-f2ab-4e92-b8d8-f43300e60c6f",
   "metadata": {},
   "outputs": [],
   "source": [
    "plt.style.use('seaborn-whitegrid')"
   ]
  },
  {
   "cell_type": "markdown",
   "id": "73fd2beb-11c2-41ef-a3f9-0680c67238ce",
   "metadata": {},
   "source": [
    "<hr>\n",
    "<hr>\n",
    "\n",
    "## Data Collection"
   ]
  },
  {
   "cell_type": "markdown",
   "id": "334027ed-2fc0-4a03-9d4a-6401ebec260f",
   "metadata": {},
   "source": [
    "### Datasets"
   ]
  },
  {
   "cell_type": "markdown",
   "id": "ba690cc1-6ea8-45a4-a90f-df6884802c31",
   "metadata": {},
   "source": [
    "(To be removed) The dataset for **Mortality among children** can be found here: [`Kaggle` Dataset Source](https://www.kaggle.com/mpwolke/cusersmarildownloadsdeathscsv) <br>\n",
    "(To be removed) The dataset for **WHO - Immunization coverage estimates by country** can be found here: [`Kaggle` Dataset Source](https://www.kaggle.com/lsind18/who-immunization-coverage) <br>\n",
    "The dataset for **Malnutrition across the globe** can be found here: [`Kaggle` Dataset Source](https://www.kaggle.com/ruchi798/malnutrition-across-the-globe) <br>\n",
    "(To be removed) The dataset for **Child Health Dataset** can be found here: [`Kaggle` Dataset Source](https://www.kaggle.com/hijest/child-health-dataset-who) <br>\n",
    "(To be removed) The dataset for **Out of School Rates Global Data** can be found here: [`Kaggle` Dataset Source](https://www.kaggle.com/komalkhetlani/out-of-school-rates-global-data?select=Primary.csv) <br>\n",
    "(To be decided on) The dataset for **World Health Statistics 2020** can be found here: [`Kaggle` Dataset Source](https://www.kaggle.com/utkarshxy/who-worldhealth-statistics-2020-complete?select=adolescentBirthRate.csv) <br>"
   ]
  },
  {
   "cell_type": "markdown",
   "id": "839f3a19-5726-4ae5-a755-ea09a96eed4b",
   "metadata": {
    "tags": []
   },
   "source": [
    "<hr>\n",
    "<hr>\n",
    "\n",
    "## Data Wrangling & Exploratory Data Analysis"
   ]
  },
  {
   "cell_type": "markdown",
   "id": "546f1545-3905-427a-8d0c-d6995f0182ed",
   "metadata": {},
   "source": [
    "<hr>\n",
    "\n",
    "### Mortality among children"
   ]
  },
  {
   "cell_type": "code",
   "execution_count": 4,
   "id": "3fff35bd-36f4-4559-bdee-95feb5a9076e",
   "metadata": {},
   "outputs": [
    {
     "data": {
      "text/html": [
       "<div>\n",
       "<style scoped>\n",
       "    .dataframe tbody tr th:only-of-type {\n",
       "        vertical-align: middle;\n",
       "    }\n",
       "\n",
       "    .dataframe tbody tr th {\n",
       "        vertical-align: top;\n",
       "    }\n",
       "\n",
       "    .dataframe thead th {\n",
       "        text-align: right;\n",
       "    }\n",
       "</style>\n",
       "<table border=\"1\" class=\"dataframe\">\n",
       "  <thead>\n",
       "    <tr style=\"text-align: right;\">\n",
       "      <th></th>\n",
       "      <th>region</th>\n",
       "      <th>median</th>\n",
       "      <th>upper</th>\n",
       "      <th>lower</th>\n",
       "      <th>median.1</th>\n",
       "      <th>upper.1</th>\n",
       "    </tr>\n",
       "  </thead>\n",
       "  <tbody>\n",
       "    <tr>\n",
       "      <th>0</th>\n",
       "      <td>Sub-Saharan Africa</td>\n",
       "      <td>39,820157</td>\n",
       "      <td>42,396932</td>\n",
       "      <td>568662</td>\n",
       "      <td>591774</td>\n",
       "      <td>626820</td>\n",
       "    </tr>\n",
       "    <tr>\n",
       "      <th>1</th>\n",
       "      <td>West and Central Africa</td>\n",
       "      <td>40,214721</td>\n",
       "      <td>44,137154</td>\n",
       "      <td>262349</td>\n",
       "      <td>279006</td>\n",
       "      <td>303798</td>\n",
       "    </tr>\n",
       "  </tbody>\n",
       "</table>\n",
       "</div>"
      ],
      "text/plain": [
       "                    region     median      upper   lower  median.1  upper.1\n",
       "0       Sub-Saharan Africa  39,820157  42,396932  568662    591774   626820\n",
       "1  West and Central Africa  40,214721  44,137154  262349    279006   303798"
      ]
     },
     "execution_count": 4,
     "metadata": {},
     "output_type": "execute_result"
    }
   ],
   "source": [
    "mortality = pd.read_csv('mortality_children.csv', delimiter=';')\n",
    "mortality.drop(['Unnamed: 1', 'Unnamed: 2'], axis=1, inplace=True)\n",
    "mortality.head(2)"
   ]
  },
  {
   "cell_type": "code",
   "execution_count": 5,
   "id": "20b69328-af99-4750-9624-324c4555e299",
   "metadata": {},
   "outputs": [
    {
     "name": "stdout",
     "output_type": "stream",
     "text": [
      "<class 'pandas.core.frame.DataFrame'>\n",
      "RangeIndex: 348 entries, 0 to 347\n",
      "Data columns (total 6 columns):\n",
      " #   Column    Non-Null Count  Dtype \n",
      "---  ------    --------------  ----- \n",
      " 0   region    348 non-null    object\n",
      " 1   median    348 non-null    object\n",
      " 2   upper     348 non-null    object\n",
      " 3   lower     348 non-null    int64 \n",
      " 4   median.1  348 non-null    int64 \n",
      " 5   upper.1   348 non-null    int64 \n",
      "dtypes: int64(3), object(3)\n",
      "memory usage: 16.4+ KB\n"
     ]
    }
   ],
   "source": [
    "mortality.info()"
   ]
  },
  {
   "cell_type": "code",
   "execution_count": 6,
   "id": "42c3dae7-53ae-458b-bab8-72d545c7d17d",
   "metadata": {},
   "outputs": [
    {
     "data": {
      "text/html": [
       "<div>\n",
       "<style scoped>\n",
       "    .dataframe tbody tr th:only-of-type {\n",
       "        vertical-align: middle;\n",
       "    }\n",
       "\n",
       "    .dataframe tbody tr th {\n",
       "        vertical-align: top;\n",
       "    }\n",
       "\n",
       "    .dataframe thead th {\n",
       "        text-align: right;\n",
       "    }\n",
       "</style>\n",
       "<table border=\"1\" class=\"dataframe\">\n",
       "  <thead>\n",
       "    <tr style=\"text-align: right;\">\n",
       "      <th></th>\n",
       "      <th>lower</th>\n",
       "      <th>median.1</th>\n",
       "      <th>upper.1</th>\n",
       "    </tr>\n",
       "  </thead>\n",
       "  <tbody>\n",
       "    <tr>\n",
       "      <th>count</th>\n",
       "      <td>3.480000e+02</td>\n",
       "      <td>3.480000e+02</td>\n",
       "      <td>3.480000e+02</td>\n",
       "    </tr>\n",
       "    <tr>\n",
       "      <th>mean</th>\n",
       "      <td>2.581479e+05</td>\n",
       "      <td>2.693984e+05</td>\n",
       "      <td>2.858912e+05</td>\n",
       "    </tr>\n",
       "    <tr>\n",
       "      <th>std</th>\n",
       "      <td>3.618285e+05</td>\n",
       "      <td>3.713697e+05</td>\n",
       "      <td>3.867885e+05</td>\n",
       "    </tr>\n",
       "    <tr>\n",
       "      <th>min</th>\n",
       "      <td>4.043000e+03</td>\n",
       "      <td>4.173000e+03</td>\n",
       "      <td>4.337000e+03</td>\n",
       "    </tr>\n",
       "    <tr>\n",
       "      <th>25%</th>\n",
       "      <td>2.852650e+04</td>\n",
       "      <td>2.955600e+04</td>\n",
       "      <td>3.077225e+04</td>\n",
       "    </tr>\n",
       "    <tr>\n",
       "      <th>50%</th>\n",
       "      <td>7.565650e+04</td>\n",
       "      <td>8.906800e+04</td>\n",
       "      <td>1.119010e+05</td>\n",
       "    </tr>\n",
       "    <tr>\n",
       "      <th>75%</th>\n",
       "      <td>2.985790e+05</td>\n",
       "      <td>3.262318e+05</td>\n",
       "      <td>3.560085e+05</td>\n",
       "    </tr>\n",
       "    <tr>\n",
       "      <th>max</th>\n",
       "      <td>1.678924e+06</td>\n",
       "      <td>1.718785e+06</td>\n",
       "      <td>1.783894e+06</td>\n",
       "    </tr>\n",
       "  </tbody>\n",
       "</table>\n",
       "</div>"
      ],
      "text/plain": [
       "              lower      median.1       upper.1\n",
       "count  3.480000e+02  3.480000e+02  3.480000e+02\n",
       "mean   2.581479e+05  2.693984e+05  2.858912e+05\n",
       "std    3.618285e+05  3.713697e+05  3.867885e+05\n",
       "min    4.043000e+03  4.173000e+03  4.337000e+03\n",
       "25%    2.852650e+04  2.955600e+04  3.077225e+04\n",
       "50%    7.565650e+04  8.906800e+04  1.119010e+05\n",
       "75%    2.985790e+05  3.262318e+05  3.560085e+05\n",
       "max    1.678924e+06  1.718785e+06  1.783894e+06"
      ]
     },
     "execution_count": 6,
     "metadata": {},
     "output_type": "execute_result"
    }
   ],
   "source": [
    "mortality.describe()"
   ]
  },
  {
   "cell_type": "code",
   "execution_count": 7,
   "id": "2ac8266b-2157-4001-b865-607b11c12820",
   "metadata": {},
   "outputs": [
    {
     "data": {
      "text/html": [
       "<div>\n",
       "<style scoped>\n",
       "    .dataframe tbody tr th:only-of-type {\n",
       "        vertical-align: middle;\n",
       "    }\n",
       "\n",
       "    .dataframe tbody tr th {\n",
       "        vertical-align: top;\n",
       "    }\n",
       "\n",
       "    .dataframe thead th {\n",
       "        text-align: right;\n",
       "    }\n",
       "</style>\n",
       "<table border=\"1\" class=\"dataframe\">\n",
       "  <thead>\n",
       "    <tr style=\"text-align: right;\">\n",
       "      <th></th>\n",
       "      <th>region</th>\n",
       "      <th>median</th>\n",
       "      <th>upper</th>\n",
       "    </tr>\n",
       "  </thead>\n",
       "  <tbody>\n",
       "    <tr>\n",
       "      <th>count</th>\n",
       "      <td>348</td>\n",
       "      <td>348</td>\n",
       "      <td>348</td>\n",
       "    </tr>\n",
       "    <tr>\n",
       "      <th>unique</th>\n",
       "      <td>12</td>\n",
       "      <td>348</td>\n",
       "      <td>348</td>\n",
       "    </tr>\n",
       "    <tr>\n",
       "      <th>top</th>\n",
       "      <td>Sub-Saharan Africa</td>\n",
       "      <td>39,820157</td>\n",
       "      <td>42,396932</td>\n",
       "    </tr>\n",
       "    <tr>\n",
       "      <th>freq</th>\n",
       "      <td>29</td>\n",
       "      <td>1</td>\n",
       "      <td>1</td>\n",
       "    </tr>\n",
       "  </tbody>\n",
       "</table>\n",
       "</div>"
      ],
      "text/plain": [
       "                    region     median      upper\n",
       "count                  348        348        348\n",
       "unique                  12        348        348\n",
       "top     Sub-Saharan Africa  39,820157  42,396932\n",
       "freq                    29          1          1"
      ]
     },
     "execution_count": 7,
     "metadata": {},
     "output_type": "execute_result"
    }
   ],
   "source": [
    "mortality.describe(include=object)"
   ]
  },
  {
   "cell_type": "code",
   "execution_count": 8,
   "id": "26f3ddc5-7245-49a2-8cb8-cd16b7d2af95",
   "metadata": {},
   "outputs": [
    {
     "data": {
      "text/plain": [
       "region      0\n",
       "median      0\n",
       "upper       0\n",
       "lower       0\n",
       "median.1    0\n",
       "upper.1     0\n",
       "dtype: int64"
      ]
     },
     "execution_count": 8,
     "metadata": {},
     "output_type": "execute_result"
    }
   ],
   "source": [
    "mortality.isnull().sum()"
   ]
  },
  {
   "cell_type": "code",
   "execution_count": 9,
   "id": "c296579f-c23a-44b7-8bf6-01017e115958",
   "metadata": {},
   "outputs": [
    {
     "data": {
      "text/plain": [
       "0"
      ]
     },
     "execution_count": 9,
     "metadata": {},
     "output_type": "execute_result"
    }
   ],
   "source": [
    "mortality.duplicated().sum()"
   ]
  },
  {
   "cell_type": "markdown",
   "id": "d6e5b420-88c8-48d8-91d9-ad44b61db711",
   "metadata": {},
   "source": [
    "<hr>\n",
    "\n",
    "### WHO - Immunization coverage estimates by country"
   ]
  },
  {
   "cell_type": "code",
   "execution_count": 10,
   "id": "87ebea84-7489-49e3-abe9-9f6ce3166356",
   "metadata": {},
   "outputs": [
    {
     "data": {
      "text/html": [
       "<div>\n",
       "<style scoped>\n",
       "    .dataframe tbody tr th:only-of-type {\n",
       "        vertical-align: middle;\n",
       "    }\n",
       "\n",
       "    .dataframe tbody tr th {\n",
       "        vertical-align: top;\n",
       "    }\n",
       "\n",
       "    .dataframe thead th {\n",
       "        text-align: right;\n",
       "    }\n",
       "</style>\n",
       "<table border=\"1\" class=\"dataframe\">\n",
       "  <thead>\n",
       "    <tr style=\"text-align: right;\">\n",
       "      <th></th>\n",
       "      <th>Country</th>\n",
       "      <th>2020</th>\n",
       "      <th>2019</th>\n",
       "      <th>2018</th>\n",
       "      <th>2017</th>\n",
       "      <th>2016</th>\n",
       "      <th>2015</th>\n",
       "      <th>2014</th>\n",
       "      <th>2013</th>\n",
       "      <th>2012</th>\n",
       "      <th>2011</th>\n",
       "      <th>2010</th>\n",
       "      <th>2009</th>\n",
       "      <th>2008</th>\n",
       "      <th>2007</th>\n",
       "      <th>2006</th>\n",
       "    </tr>\n",
       "  </thead>\n",
       "  <tbody>\n",
       "    <tr>\n",
       "      <th>0</th>\n",
       "      <td>Afghanistan</td>\n",
       "      <td>62.0</td>\n",
       "      <td>58.0</td>\n",
       "      <td>45.0</td>\n",
       "      <td>NaN</td>\n",
       "      <td>NaN</td>\n",
       "      <td>NaN</td>\n",
       "      <td>NaN</td>\n",
       "      <td>NaN</td>\n",
       "      <td>NaN</td>\n",
       "      <td>NaN</td>\n",
       "      <td>NaN</td>\n",
       "      <td>NaN</td>\n",
       "      <td>NaN</td>\n",
       "      <td>NaN</td>\n",
       "      <td>NaN</td>\n",
       "    </tr>\n",
       "    <tr>\n",
       "      <th>1</th>\n",
       "      <td>Angola</td>\n",
       "      <td>39.0</td>\n",
       "      <td>58.0</td>\n",
       "      <td>48.0</td>\n",
       "      <td>43.0</td>\n",
       "      <td>44.0</td>\n",
       "      <td>40.0</td>\n",
       "      <td>18.0</td>\n",
       "      <td>NaN</td>\n",
       "      <td>NaN</td>\n",
       "      <td>NaN</td>\n",
       "      <td>NaN</td>\n",
       "      <td>NaN</td>\n",
       "      <td>NaN</td>\n",
       "      <td>NaN</td>\n",
       "      <td>NaN</td>\n",
       "    </tr>\n",
       "  </tbody>\n",
       "</table>\n",
       "</div>"
      ],
      "text/plain": [
       "       Country   2020   2019   2018   2017   2016   2015   2014   2013   2012  \\\n",
       "0  Afghanistan   62.0   58.0   45.0    NaN    NaN    NaN    NaN    NaN    NaN   \n",
       "1       Angola   39.0   58.0   48.0   43.0   44.0   40.0   18.0    NaN    NaN   \n",
       "\n",
       "    2011   2010   2009   2008   2007   2006  \n",
       "0    NaN    NaN    NaN    NaN    NaN    NaN  \n",
       "1    NaN    NaN    NaN    NaN    NaN    NaN  "
      ]
     },
     "execution_count": 10,
     "metadata": {},
     "output_type": "execute_result"
    }
   ],
   "source": [
    "rotac = pd.read_csv('Immunization/ROTAC.csv')\n",
    "rotac.head(2)"
   ]
  },
  {
   "cell_type": "code",
   "execution_count": 11,
   "id": "51651fc4-f07c-4e02-a531-aafc39941c52",
   "metadata": {},
   "outputs": [
    {
     "name": "stdout",
     "output_type": "stream",
     "text": [
      "<class 'pandas.core.frame.DataFrame'>\n",
      "RangeIndex: 108 entries, 0 to 107\n",
      "Data columns (total 16 columns):\n",
      " #   Column   Non-Null Count  Dtype  \n",
      "---  ------   --------------  -----  \n",
      " 0   Country  108 non-null    object \n",
      " 1    2020    93 non-null     float64\n",
      " 2    2019    101 non-null    float64\n",
      " 3    2018    99 non-null     float64\n",
      " 4    2017    93 non-null     float64\n",
      " 5    2016    85 non-null     float64\n",
      " 6    2015    78 non-null     float64\n",
      " 7    2014    67 non-null     float64\n",
      " 8    2013    45 non-null     float64\n",
      " 9    2012    38 non-null     float64\n",
      " 10   2011    27 non-null     float64\n",
      " 11   2010    26 non-null     float64\n",
      " 12   2009    20 non-null     float64\n",
      " 13   2008    12 non-null     float64\n",
      " 14   2007    5 non-null      float64\n",
      " 15   2006    4 non-null      float64\n",
      "dtypes: float64(15), object(1)\n",
      "memory usage: 13.6+ KB\n"
     ]
    }
   ],
   "source": [
    "rotac.info()"
   ]
  },
  {
   "cell_type": "code",
   "execution_count": 12,
   "id": "0ad6e8e4-1e8e-462c-8ff2-8bf9eeb7be2b",
   "metadata": {},
   "outputs": [
    {
     "data": {
      "text/html": [
       "<div>\n",
       "<style scoped>\n",
       "    .dataframe tbody tr th:only-of-type {\n",
       "        vertical-align: middle;\n",
       "    }\n",
       "\n",
       "    .dataframe tbody tr th {\n",
       "        vertical-align: top;\n",
       "    }\n",
       "\n",
       "    .dataframe thead th {\n",
       "        text-align: right;\n",
       "    }\n",
       "</style>\n",
       "<table border=\"1\" class=\"dataframe\">\n",
       "  <thead>\n",
       "    <tr style=\"text-align: right;\">\n",
       "      <th></th>\n",
       "      <th>2020</th>\n",
       "      <th>2019</th>\n",
       "      <th>2018</th>\n",
       "      <th>2017</th>\n",
       "      <th>2016</th>\n",
       "      <th>2015</th>\n",
       "      <th>2014</th>\n",
       "      <th>2013</th>\n",
       "      <th>2012</th>\n",
       "      <th>2011</th>\n",
       "      <th>2010</th>\n",
       "      <th>2009</th>\n",
       "      <th>2008</th>\n",
       "      <th>2007</th>\n",
       "      <th>2006</th>\n",
       "    </tr>\n",
       "  </thead>\n",
       "  <tbody>\n",
       "    <tr>\n",
       "      <th>count</th>\n",
       "      <td>93.000000</td>\n",
       "      <td>101.000000</td>\n",
       "      <td>99.000000</td>\n",
       "      <td>93.000000</td>\n",
       "      <td>85.000000</td>\n",
       "      <td>78.000000</td>\n",
       "      <td>67.000000</td>\n",
       "      <td>45.000000</td>\n",
       "      <td>38.000000</td>\n",
       "      <td>27.000000</td>\n",
       "      <td>26.000000</td>\n",
       "      <td>20.000000</td>\n",
       "      <td>12.000000</td>\n",
       "      <td>5.000000</td>\n",
       "      <td>4.00000</td>\n",
       "    </tr>\n",
       "    <tr>\n",
       "      <th>mean</th>\n",
       "      <td>76.333333</td>\n",
       "      <td>78.732673</td>\n",
       "      <td>78.262626</td>\n",
       "      <td>77.516129</td>\n",
       "      <td>77.529412</td>\n",
       "      <td>76.076923</td>\n",
       "      <td>68.402985</td>\n",
       "      <td>75.200000</td>\n",
       "      <td>71.236842</td>\n",
       "      <td>79.111111</td>\n",
       "      <td>68.846154</td>\n",
       "      <td>67.100000</td>\n",
       "      <td>61.416667</td>\n",
       "      <td>63.800000</td>\n",
       "      <td>41.75000</td>\n",
       "    </tr>\n",
       "    <tr>\n",
       "      <th>std</th>\n",
       "      <td>18.485208</td>\n",
       "      <td>20.608683</td>\n",
       "      <td>21.138796</td>\n",
       "      <td>23.223682</td>\n",
       "      <td>21.260621</td>\n",
       "      <td>21.740960</td>\n",
       "      <td>28.096187</td>\n",
       "      <td>23.385699</td>\n",
       "      <td>27.979176</td>\n",
       "      <td>18.690461</td>\n",
       "      <td>24.235003</td>\n",
       "      <td>24.106998</td>\n",
       "      <td>24.857625</td>\n",
       "      <td>20.523158</td>\n",
       "      <td>30.30264</td>\n",
       "    </tr>\n",
       "    <tr>\n",
       "      <th>min</th>\n",
       "      <td>0.000000</td>\n",
       "      <td>0.000000</td>\n",
       "      <td>0.000000</td>\n",
       "      <td>3.000000</td>\n",
       "      <td>4.000000</td>\n",
       "      <td>2.000000</td>\n",
       "      <td>1.000000</td>\n",
       "      <td>7.000000</td>\n",
       "      <td>5.000000</td>\n",
       "      <td>27.000000</td>\n",
       "      <td>2.000000</td>\n",
       "      <td>15.000000</td>\n",
       "      <td>3.000000</td>\n",
       "      <td>29.000000</td>\n",
       "      <td>13.00000</td>\n",
       "    </tr>\n",
       "    <tr>\n",
       "      <th>25%</th>\n",
       "      <td>70.000000</td>\n",
       "      <td>71.000000</td>\n",
       "      <td>70.000000</td>\n",
       "      <td>70.000000</td>\n",
       "      <td>68.000000</td>\n",
       "      <td>62.500000</td>\n",
       "      <td>51.000000</td>\n",
       "      <td>69.000000</td>\n",
       "      <td>60.250000</td>\n",
       "      <td>69.000000</td>\n",
       "      <td>56.750000</td>\n",
       "      <td>54.750000</td>\n",
       "      <td>48.500000</td>\n",
       "      <td>66.000000</td>\n",
       "      <td>22.00000</td>\n",
       "    </tr>\n",
       "    <tr>\n",
       "      <th>50%</th>\n",
       "      <td>82.000000</td>\n",
       "      <td>86.000000</td>\n",
       "      <td>85.000000</td>\n",
       "      <td>85.000000</td>\n",
       "      <td>85.000000</td>\n",
       "      <td>85.000000</td>\n",
       "      <td>83.000000</td>\n",
       "      <td>84.000000</td>\n",
       "      <td>85.000000</td>\n",
       "      <td>85.000000</td>\n",
       "      <td>74.500000</td>\n",
       "      <td>73.500000</td>\n",
       "      <td>62.500000</td>\n",
       "      <td>66.000000</td>\n",
       "      <td>36.00000</td>\n",
       "    </tr>\n",
       "    <tr>\n",
       "      <th>75%</th>\n",
       "      <td>89.000000</td>\n",
       "      <td>92.000000</td>\n",
       "      <td>92.500000</td>\n",
       "      <td>93.000000</td>\n",
       "      <td>93.000000</td>\n",
       "      <td>91.000000</td>\n",
       "      <td>90.500000</td>\n",
       "      <td>89.000000</td>\n",
       "      <td>90.750000</td>\n",
       "      <td>92.000000</td>\n",
       "      <td>88.500000</td>\n",
       "      <td>86.000000</td>\n",
       "      <td>81.250000</td>\n",
       "      <td>78.000000</td>\n",
       "      <td>55.75000</td>\n",
       "    </tr>\n",
       "    <tr>\n",
       "      <th>max</th>\n",
       "      <td>99.000000</td>\n",
       "      <td>99.000000</td>\n",
       "      <td>99.000000</td>\n",
       "      <td>99.000000</td>\n",
       "      <td>99.000000</td>\n",
       "      <td>99.000000</td>\n",
       "      <td>99.000000</td>\n",
       "      <td>99.000000</td>\n",
       "      <td>99.000000</td>\n",
       "      <td>98.000000</td>\n",
       "      <td>98.000000</td>\n",
       "      <td>97.000000</td>\n",
       "      <td>89.000000</td>\n",
       "      <td>80.000000</td>\n",
       "      <td>82.00000</td>\n",
       "    </tr>\n",
       "  </tbody>\n",
       "</table>\n",
       "</div>"
      ],
      "text/plain": [
       "            2020        2019       2018       2017       2016       2015  \\\n",
       "count  93.000000  101.000000  99.000000  93.000000  85.000000  78.000000   \n",
       "mean   76.333333   78.732673  78.262626  77.516129  77.529412  76.076923   \n",
       "std    18.485208   20.608683  21.138796  23.223682  21.260621  21.740960   \n",
       "min     0.000000    0.000000   0.000000   3.000000   4.000000   2.000000   \n",
       "25%    70.000000   71.000000  70.000000  70.000000  68.000000  62.500000   \n",
       "50%    82.000000   86.000000  85.000000  85.000000  85.000000  85.000000   \n",
       "75%    89.000000   92.000000  92.500000  93.000000  93.000000  91.000000   \n",
       "max    99.000000   99.000000  99.000000  99.000000  99.000000  99.000000   \n",
       "\n",
       "            2014       2013       2012       2011       2010       2009  \\\n",
       "count  67.000000  45.000000  38.000000  27.000000  26.000000  20.000000   \n",
       "mean   68.402985  75.200000  71.236842  79.111111  68.846154  67.100000   \n",
       "std    28.096187  23.385699  27.979176  18.690461  24.235003  24.106998   \n",
       "min     1.000000   7.000000   5.000000  27.000000   2.000000  15.000000   \n",
       "25%    51.000000  69.000000  60.250000  69.000000  56.750000  54.750000   \n",
       "50%    83.000000  84.000000  85.000000  85.000000  74.500000  73.500000   \n",
       "75%    90.500000  89.000000  90.750000  92.000000  88.500000  86.000000   \n",
       "max    99.000000  99.000000  99.000000  98.000000  98.000000  97.000000   \n",
       "\n",
       "            2008       2007      2006  \n",
       "count  12.000000   5.000000   4.00000  \n",
       "mean   61.416667  63.800000  41.75000  \n",
       "std    24.857625  20.523158  30.30264  \n",
       "min     3.000000  29.000000  13.00000  \n",
       "25%    48.500000  66.000000  22.00000  \n",
       "50%    62.500000  66.000000  36.00000  \n",
       "75%    81.250000  78.000000  55.75000  \n",
       "max    89.000000  80.000000  82.00000  "
      ]
     },
     "execution_count": 12,
     "metadata": {},
     "output_type": "execute_result"
    }
   ],
   "source": [
    "rotac.describe()"
   ]
  },
  {
   "cell_type": "code",
   "execution_count": 13,
   "id": "917d65af-c87c-4f56-a908-e94d00f2f6bd",
   "metadata": {
    "tags": []
   },
   "outputs": [
    {
     "data": {
      "text/html": [
       "<div>\n",
       "<style scoped>\n",
       "    .dataframe tbody tr th:only-of-type {\n",
       "        vertical-align: middle;\n",
       "    }\n",
       "\n",
       "    .dataframe tbody tr th {\n",
       "        vertical-align: top;\n",
       "    }\n",
       "\n",
       "    .dataframe thead th {\n",
       "        text-align: right;\n",
       "    }\n",
       "</style>\n",
       "<table border=\"1\" class=\"dataframe\">\n",
       "  <thead>\n",
       "    <tr style=\"text-align: right;\">\n",
       "      <th></th>\n",
       "      <th>Country</th>\n",
       "    </tr>\n",
       "  </thead>\n",
       "  <tbody>\n",
       "    <tr>\n",
       "      <th>count</th>\n",
       "      <td>108</td>\n",
       "    </tr>\n",
       "    <tr>\n",
       "      <th>unique</th>\n",
       "      <td>108</td>\n",
       "    </tr>\n",
       "    <tr>\n",
       "      <th>top</th>\n",
       "      <td>Afghanistan</td>\n",
       "    </tr>\n",
       "    <tr>\n",
       "      <th>freq</th>\n",
       "      <td>1</td>\n",
       "    </tr>\n",
       "  </tbody>\n",
       "</table>\n",
       "</div>"
      ],
      "text/plain": [
       "            Country\n",
       "count           108\n",
       "unique          108\n",
       "top     Afghanistan\n",
       "freq              1"
      ]
     },
     "execution_count": 13,
     "metadata": {},
     "output_type": "execute_result"
    }
   ],
   "source": [
    "rotac.describe(include=object)"
   ]
  },
  {
   "cell_type": "code",
   "execution_count": 43,
   "id": "7a58a285-ca5e-458f-b16b-33881bf7e8ae",
   "metadata": {},
   "outputs": [
    {
     "data": {
      "text/html": [
       "<div>\n",
       "<style scoped>\n",
       "    .dataframe tbody tr th:only-of-type {\n",
       "        vertical-align: middle;\n",
       "    }\n",
       "\n",
       "    .dataframe tbody tr th {\n",
       "        vertical-align: top;\n",
       "    }\n",
       "\n",
       "    .dataframe thead th {\n",
       "        text-align: right;\n",
       "    }\n",
       "</style>\n",
       "<table border=\"1\" class=\"dataframe\">\n",
       "  <thead>\n",
       "    <tr style=\"text-align: right;\">\n",
       "      <th></th>\n",
       "      <th>Country</th>\n",
       "    </tr>\n",
       "  </thead>\n",
       "  <tbody>\n",
       "    <tr>\n",
       "      <th>0</th>\n",
       "      <td>Afghanistan</td>\n",
       "    </tr>\n",
       "    <tr>\n",
       "      <th>1</th>\n",
       "      <td>Angola</td>\n",
       "    </tr>\n",
       "    <tr>\n",
       "      <th>2</th>\n",
       "      <td>Argentina</td>\n",
       "    </tr>\n",
       "    <tr>\n",
       "      <th>3</th>\n",
       "      <td>Armenia</td>\n",
       "    </tr>\n",
       "    <tr>\n",
       "      <th>4</th>\n",
       "      <td>Australia</td>\n",
       "    </tr>\n",
       "    <tr>\n",
       "      <th>...</th>\n",
       "      <td>...</td>\n",
       "    </tr>\n",
       "    <tr>\n",
       "      <th>103</th>\n",
       "      <td>Uzbekistan</td>\n",
       "    </tr>\n",
       "    <tr>\n",
       "      <th>104</th>\n",
       "      <td>Venezuela (Bolivarian Republic of)</td>\n",
       "    </tr>\n",
       "    <tr>\n",
       "      <th>105</th>\n",
       "      <td>Yemen</td>\n",
       "    </tr>\n",
       "    <tr>\n",
       "      <th>106</th>\n",
       "      <td>Zambia</td>\n",
       "    </tr>\n",
       "    <tr>\n",
       "      <th>107</th>\n",
       "      <td>Zimbabwe</td>\n",
       "    </tr>\n",
       "  </tbody>\n",
       "</table>\n",
       "<p>108 rows × 1 columns</p>\n",
       "</div>"
      ],
      "text/plain": [
       "                                Country\n",
       "0                           Afghanistan\n",
       "1                                Angola\n",
       "2                             Argentina\n",
       "3                               Armenia\n",
       "4                             Australia\n",
       "..                                  ...\n",
       "103                          Uzbekistan\n",
       "104  Venezuela (Bolivarian Republic of)\n",
       "105                               Yemen\n",
       "106                              Zambia\n",
       "107                            Zimbabwe\n",
       "\n",
       "[108 rows x 1 columns]"
      ]
     },
     "execution_count": 43,
     "metadata": {},
     "output_type": "execute_result"
    }
   ],
   "source": [
    "new_rotac = rotac.dropna(axis=1) ############### CONCERN so dropping even the observations or columns with null will not be suggestable? So determining the right year nalang siguro?\n",
    "new_rotac"
   ]
  },
  {
   "cell_type": "code",
   "execution_count": 15,
   "id": "c4721f91-8bc8-424e-887f-7372918ced0a",
   "metadata": {
    "tags": []
   },
   "outputs": [
    {
     "data": {
      "text/plain": [
       "Country    0\n",
       " 2020      0\n",
       " 2019      0\n",
       " 2018      0\n",
       " 2017      0\n",
       " 2016      0\n",
       " 2015      0\n",
       " 2014      0\n",
       " 2013      0\n",
       " 2012      0\n",
       " 2011      0\n",
       " 2010      0\n",
       " 2009      0\n",
       " 2008      0\n",
       " 2007      0\n",
       " 2006      0\n",
       "dtype: int64"
      ]
     },
     "execution_count": 15,
     "metadata": {},
     "output_type": "execute_result"
    }
   ],
   "source": [
    "new_rotac.isnull().sum() ############################## NOT YET FINAL"
   ]
  },
  {
   "cell_type": "code",
   "execution_count": 16,
   "id": "f88cbe2d-252b-44f3-a187-ee039875b071",
   "metadata": {},
   "outputs": [
    {
     "data": {
      "text/plain": [
       "0"
      ]
     },
     "execution_count": 16,
     "metadata": {},
     "output_type": "execute_result"
    }
   ],
   "source": [
    "new_rotac.duplicated().sum()"
   ]
  },
  {
   "cell_type": "markdown",
   "id": "9b3582d9-f70e-4bae-a13d-1dcede060d5b",
   "metadata": {
    "tags": []
   },
   "source": [
    "<hr>\n",
    "\n",
    "### Malnutrition across the globe"
   ]
  },
  {
   "cell_type": "code",
   "execution_count": 17,
   "id": "9aa85c69-2323-4c74-beb4-ed1cd5cb0d27",
   "metadata": {},
   "outputs": [
    {
     "data": {
      "text/html": [
       "<div>\n",
       "<style scoped>\n",
       "    .dataframe tbody tr th:only-of-type {\n",
       "        vertical-align: middle;\n",
       "    }\n",
       "\n",
       "    .dataframe tbody tr th {\n",
       "        vertical-align: top;\n",
       "    }\n",
       "\n",
       "    .dataframe thead th {\n",
       "        text-align: right;\n",
       "    }\n",
       "</style>\n",
       "<table border=\"1\" class=\"dataframe\">\n",
       "  <thead>\n",
       "    <tr style=\"text-align: right;\">\n",
       "      <th></th>\n",
       "      <th>Country</th>\n",
       "      <th>Income Classification</th>\n",
       "      <th>Severe Wasting</th>\n",
       "      <th>Wasting</th>\n",
       "      <th>Overweight</th>\n",
       "      <th>Stunting</th>\n",
       "      <th>Underweight</th>\n",
       "      <th>U5 Population ('000s)</th>\n",
       "    </tr>\n",
       "  </thead>\n",
       "  <tbody>\n",
       "    <tr>\n",
       "      <th>0</th>\n",
       "      <td>AFGHANISTAN</td>\n",
       "      <td>0.0</td>\n",
       "      <td>3.033333</td>\n",
       "      <td>10.35</td>\n",
       "      <td>5.125</td>\n",
       "      <td>47.775</td>\n",
       "      <td>30.375</td>\n",
       "      <td>4918.5615</td>\n",
       "    </tr>\n",
       "    <tr>\n",
       "      <th>1</th>\n",
       "      <td>ALBANIA</td>\n",
       "      <td>2.0</td>\n",
       "      <td>4.075000</td>\n",
       "      <td>7.76</td>\n",
       "      <td>20.800</td>\n",
       "      <td>24.160</td>\n",
       "      <td>7.700</td>\n",
       "      <td>232.8598</td>\n",
       "    </tr>\n",
       "  </tbody>\n",
       "</table>\n",
       "</div>"
      ],
      "text/plain": [
       "       Country  Income Classification  Severe Wasting  Wasting  Overweight  \\\n",
       "0  AFGHANISTAN                    0.0        3.033333    10.35       5.125   \n",
       "1      ALBANIA                    2.0        4.075000     7.76      20.800   \n",
       "\n",
       "   Stunting  Underweight  U5 Population ('000s)  \n",
       "0    47.775       30.375              4918.5615  \n",
       "1    24.160        7.700               232.8598  "
      ]
     },
     "execution_count": 17,
     "metadata": {},
     "output_type": "execute_result"
    }
   ],
   "source": [
    "malnutrition = pd.read_csv('malnutrition_country_avg.csv')\n",
    "malnutrition.head(2)"
   ]
  },
  {
   "cell_type": "code",
   "execution_count": 18,
   "id": "a760c63d-cf00-4f2c-910f-521298a00da8",
   "metadata": {},
   "outputs": [
    {
     "name": "stdout",
     "output_type": "stream",
     "text": [
      "<class 'pandas.core.frame.DataFrame'>\n",
      "RangeIndex: 152 entries, 0 to 151\n",
      "Data columns (total 8 columns):\n",
      " #   Column                 Non-Null Count  Dtype  \n",
      "---  ------                 --------------  -----  \n",
      " 0   Country                152 non-null    object \n",
      " 1   Income Classification  152 non-null    float64\n",
      " 2   Severe Wasting         140 non-null    float64\n",
      " 3   Wasting                150 non-null    float64\n",
      " 4   Overweight             149 non-null    float64\n",
      " 5   Stunting               151 non-null    float64\n",
      " 6   Underweight            150 non-null    float64\n",
      " 7   U5 Population ('000s)  152 non-null    float64\n",
      "dtypes: float64(7), object(1)\n",
      "memory usage: 9.6+ KB\n"
     ]
    }
   ],
   "source": [
    "malnutrition.info()"
   ]
  },
  {
   "cell_type": "code",
   "execution_count": 19,
   "id": "ac0f3ed2-e57d-4925-ae48-8fdd45099d80",
   "metadata": {},
   "outputs": [
    {
     "data": {
      "text/html": [
       "<div>\n",
       "<style scoped>\n",
       "    .dataframe tbody tr th:only-of-type {\n",
       "        vertical-align: middle;\n",
       "    }\n",
       "\n",
       "    .dataframe tbody tr th {\n",
       "        vertical-align: top;\n",
       "    }\n",
       "\n",
       "    .dataframe thead th {\n",
       "        text-align: right;\n",
       "    }\n",
       "</style>\n",
       "<table border=\"1\" class=\"dataframe\">\n",
       "  <thead>\n",
       "    <tr style=\"text-align: right;\">\n",
       "      <th></th>\n",
       "      <th>Income Classification</th>\n",
       "      <th>Severe Wasting</th>\n",
       "      <th>Wasting</th>\n",
       "      <th>Overweight</th>\n",
       "      <th>Stunting</th>\n",
       "      <th>Underweight</th>\n",
       "      <th>U5 Population ('000s)</th>\n",
       "    </tr>\n",
       "  </thead>\n",
       "  <tbody>\n",
       "    <tr>\n",
       "      <th>count</th>\n",
       "      <td>152.000000</td>\n",
       "      <td>140.000000</td>\n",
       "      <td>150.000000</td>\n",
       "      <td>149.000000</td>\n",
       "      <td>151.000000</td>\n",
       "      <td>150.000000</td>\n",
       "      <td>152.000000</td>\n",
       "    </tr>\n",
       "    <tr>\n",
       "      <th>mean</th>\n",
       "      <td>1.427632</td>\n",
       "      <td>2.168650</td>\n",
       "      <td>6.599257</td>\n",
       "      <td>7.201638</td>\n",
       "      <td>25.814728</td>\n",
       "      <td>13.503047</td>\n",
       "      <td>4042.927052</td>\n",
       "    </tr>\n",
       "    <tr>\n",
       "      <th>std</th>\n",
       "      <td>0.967019</td>\n",
       "      <td>1.708939</td>\n",
       "      <td>4.481723</td>\n",
       "      <td>4.649144</td>\n",
       "      <td>14.686807</td>\n",
       "      <td>10.895839</td>\n",
       "      <td>13164.191927</td>\n",
       "    </tr>\n",
       "    <tr>\n",
       "      <th>min</th>\n",
       "      <td>0.000000</td>\n",
       "      <td>0.000000</td>\n",
       "      <td>0.000000</td>\n",
       "      <td>0.962500</td>\n",
       "      <td>1.000000</td>\n",
       "      <td>0.100000</td>\n",
       "      <td>1.000000</td>\n",
       "    </tr>\n",
       "    <tr>\n",
       "      <th>25%</th>\n",
       "      <td>1.000000</td>\n",
       "      <td>0.900000</td>\n",
       "      <td>3.262500</td>\n",
       "      <td>3.850000</td>\n",
       "      <td>13.485000</td>\n",
       "      <td>4.305000</td>\n",
       "      <td>241.765813</td>\n",
       "    </tr>\n",
       "    <tr>\n",
       "      <th>50%</th>\n",
       "      <td>1.000000</td>\n",
       "      <td>1.872500</td>\n",
       "      <td>5.710714</td>\n",
       "      <td>6.300000</td>\n",
       "      <td>24.160000</td>\n",
       "      <td>10.380000</td>\n",
       "      <td>981.233486</td>\n",
       "    </tr>\n",
       "    <tr>\n",
       "      <th>75%</th>\n",
       "      <td>2.000000</td>\n",
       "      <td>2.822727</td>\n",
       "      <td>8.740476</td>\n",
       "      <td>9.080000</td>\n",
       "      <td>36.564935</td>\n",
       "      <td>19.496875</td>\n",
       "      <td>3002.433080</td>\n",
       "    </tr>\n",
       "    <tr>\n",
       "      <th>max</th>\n",
       "      <td>3.000000</td>\n",
       "      <td>11.400000</td>\n",
       "      <td>23.650000</td>\n",
       "      <td>26.500000</td>\n",
       "      <td>57.600000</td>\n",
       "      <td>46.266667</td>\n",
       "      <td>123014.491000</td>\n",
       "    </tr>\n",
       "  </tbody>\n",
       "</table>\n",
       "</div>"
      ],
      "text/plain": [
       "       Income Classification  Severe Wasting     Wasting  Overweight  \\\n",
       "count             152.000000      140.000000  150.000000  149.000000   \n",
       "mean                1.427632        2.168650    6.599257    7.201638   \n",
       "std                 0.967019        1.708939    4.481723    4.649144   \n",
       "min                 0.000000        0.000000    0.000000    0.962500   \n",
       "25%                 1.000000        0.900000    3.262500    3.850000   \n",
       "50%                 1.000000        1.872500    5.710714    6.300000   \n",
       "75%                 2.000000        2.822727    8.740476    9.080000   \n",
       "max                 3.000000       11.400000   23.650000   26.500000   \n",
       "\n",
       "         Stunting  Underweight  U5 Population ('000s)  \n",
       "count  151.000000   150.000000             152.000000  \n",
       "mean    25.814728    13.503047            4042.927052  \n",
       "std     14.686807    10.895839           13164.191927  \n",
       "min      1.000000     0.100000               1.000000  \n",
       "25%     13.485000     4.305000             241.765813  \n",
       "50%     24.160000    10.380000             981.233486  \n",
       "75%     36.564935    19.496875            3002.433080  \n",
       "max     57.600000    46.266667          123014.491000  "
      ]
     },
     "execution_count": 19,
     "metadata": {},
     "output_type": "execute_result"
    }
   ],
   "source": [
    "malnutrition.describe()"
   ]
  },
  {
   "cell_type": "code",
   "execution_count": 20,
   "id": "81fad018-06b9-4589-9765-588424ddbfa5",
   "metadata": {},
   "outputs": [
    {
     "data": {
      "text/html": [
       "<div>\n",
       "<style scoped>\n",
       "    .dataframe tbody tr th:only-of-type {\n",
       "        vertical-align: middle;\n",
       "    }\n",
       "\n",
       "    .dataframe tbody tr th {\n",
       "        vertical-align: top;\n",
       "    }\n",
       "\n",
       "    .dataframe thead th {\n",
       "        text-align: right;\n",
       "    }\n",
       "</style>\n",
       "<table border=\"1\" class=\"dataframe\">\n",
       "  <thead>\n",
       "    <tr style=\"text-align: right;\">\n",
       "      <th></th>\n",
       "      <th>Country</th>\n",
       "    </tr>\n",
       "  </thead>\n",
       "  <tbody>\n",
       "    <tr>\n",
       "      <th>count</th>\n",
       "      <td>152</td>\n",
       "    </tr>\n",
       "    <tr>\n",
       "      <th>unique</th>\n",
       "      <td>152</td>\n",
       "    </tr>\n",
       "    <tr>\n",
       "      <th>top</th>\n",
       "      <td>AFGHANISTAN</td>\n",
       "    </tr>\n",
       "    <tr>\n",
       "      <th>freq</th>\n",
       "      <td>1</td>\n",
       "    </tr>\n",
       "  </tbody>\n",
       "</table>\n",
       "</div>"
      ],
      "text/plain": [
       "            Country\n",
       "count           152\n",
       "unique          152\n",
       "top     AFGHANISTAN\n",
       "freq              1"
      ]
     },
     "execution_count": 20,
     "metadata": {},
     "output_type": "execute_result"
    }
   ],
   "source": [
    "malnutrition.describe(include=object)"
   ]
  },
  {
   "cell_type": "code",
   "execution_count": 21,
   "id": "94efde31-174d-48c1-afe5-b67c83c0746d",
   "metadata": {},
   "outputs": [
    {
     "data": {
      "text/plain": [
       "Country                   0\n",
       "Income Classification     0\n",
       "Severe Wasting           12\n",
       "Wasting                   2\n",
       "Overweight                3\n",
       "Stunting                  1\n",
       "Underweight               2\n",
       "U5 Population ('000s)     0\n",
       "dtype: int64"
      ]
     },
     "execution_count": 21,
     "metadata": {},
     "output_type": "execute_result"
    }
   ],
   "source": [
    "malnutrition.isnull().sum()"
   ]
  },
  {
   "cell_type": "code",
   "execution_count": 22,
   "id": "0e80b753-2f3c-4f8c-a1aa-581e55e8ee24",
   "metadata": {},
   "outputs": [
    {
     "data": {
      "text/plain": [
       "0"
      ]
     },
     "execution_count": 22,
     "metadata": {},
     "output_type": "execute_result"
    }
   ],
   "source": [
    "malnutrition.duplicated().sum()"
   ]
  },
  {
   "cell_type": "markdown",
   "id": "27fa0f9a-ce7a-4d24-9186-39931262a8b0",
   "metadata": {},
   "source": [
    "<hr>\n",
    "\n",
    "### Child Health Dataset"
   ]
  },
  {
   "cell_type": "code",
   "execution_count": 23,
   "id": "6d1ffa4a-f87f-4ac5-bb9c-5b4e13a847ce",
   "metadata": {},
   "outputs": [
    {
     "data": {
      "text/html": [
       "<div>\n",
       "<style scoped>\n",
       "    .dataframe tbody tr th:only-of-type {\n",
       "        vertical-align: middle;\n",
       "    }\n",
       "\n",
       "    .dataframe tbody tr th {\n",
       "        vertical-align: top;\n",
       "    }\n",
       "\n",
       "    .dataframe thead th {\n",
       "        text-align: right;\n",
       "    }\n",
       "</style>\n",
       "<table border=\"1\" class=\"dataframe\">\n",
       "  <thead>\n",
       "    <tr style=\"text-align: right;\">\n",
       "      <th></th>\n",
       "      <th>Country</th>\n",
       "      <th>Year</th>\n",
       "      <th>Early initiation of breastfeeding (%)</th>\n",
       "      <th>Infants exclusively breastfed for the first six months of life (%)</th>\n",
       "      <th>Low-birth-weight newborns (%)</th>\n",
       "    </tr>\n",
       "  </thead>\n",
       "  <tbody>\n",
       "    <tr>\n",
       "      <th>0</th>\n",
       "      <td>Afghanistan</td>\n",
       "      <td>2015-2016</td>\n",
       "      <td>40.9</td>\n",
       "      <td>NaN</td>\n",
       "      <td>NaN</td>\n",
       "    </tr>\n",
       "    <tr>\n",
       "      <th>1</th>\n",
       "      <td>Afghanistan</td>\n",
       "      <td>2015</td>\n",
       "      <td>NaN</td>\n",
       "      <td>43.1</td>\n",
       "      <td>NaN</td>\n",
       "    </tr>\n",
       "  </tbody>\n",
       "</table>\n",
       "</div>"
      ],
      "text/plain": [
       "       Country        Year  Early initiation of breastfeeding (%)  \\\n",
       "0  Afghanistan   2015-2016                                   40.9   \n",
       "1  Afghanistan        2015                                    NaN   \n",
       "\n",
       "   Infants exclusively breastfed for the first six months of life (%)  \\\n",
       "0                                                NaN                    \n",
       "1                                               43.1                    \n",
       "\n",
       "   Low-birth-weight newborns (%)  \n",
       "0                            NaN  \n",
       "1                            NaN  "
      ]
     },
     "execution_count": 23,
     "metadata": {},
     "output_type": "execute_result"
    }
   ],
   "source": [
    "bfd = pd.read_csv('Breastfeeding.csv', encoding='latin1')\n",
    "bfd.head(2)"
   ]
  },
  {
   "cell_type": "code",
   "execution_count": 24,
   "id": "2099b37e-cca9-4511-8707-aee9c172c8e2",
   "metadata": {},
   "outputs": [
    {
     "name": "stdout",
     "output_type": "stream",
     "text": [
      "<class 'pandas.core.frame.DataFrame'>\n",
      "RangeIndex: 785 entries, 0 to 784\n",
      "Data columns (total 5 columns):\n",
      " #   Column                                                              Non-Null Count  Dtype  \n",
      "---  ------                                                              --------------  -----  \n",
      " 0   Country                                                             785 non-null    object \n",
      " 1   Year                                                                785 non-null    object \n",
      " 2   Early initiation of breastfeeding (%)                               400 non-null    float64\n",
      " 3   Infants exclusively breastfed for the first six months of life (%)  530 non-null    float64\n",
      " 4   Low-birth-weight newborns (%)                                       215 non-null    float64\n",
      "dtypes: float64(3), object(2)\n",
      "memory usage: 30.8+ KB\n"
     ]
    }
   ],
   "source": [
    "bfd.info()"
   ]
  },
  {
   "cell_type": "code",
   "execution_count": 25,
   "id": "64904c50-d17a-41d7-9e53-7a31a8cbd25f",
   "metadata": {},
   "outputs": [
    {
     "data": {
      "text/html": [
       "<div>\n",
       "<style scoped>\n",
       "    .dataframe tbody tr th:only-of-type {\n",
       "        vertical-align: middle;\n",
       "    }\n",
       "\n",
       "    .dataframe tbody tr th {\n",
       "        vertical-align: top;\n",
       "    }\n",
       "\n",
       "    .dataframe thead th {\n",
       "        text-align: right;\n",
       "    }\n",
       "</style>\n",
       "<table border=\"1\" class=\"dataframe\">\n",
       "  <thead>\n",
       "    <tr style=\"text-align: right;\">\n",
       "      <th></th>\n",
       "      <th>Early initiation of breastfeeding (%)</th>\n",
       "      <th>Infants exclusively breastfed for the first six months of life (%)</th>\n",
       "      <th>Low-birth-weight newborns (%)</th>\n",
       "    </tr>\n",
       "  </thead>\n",
       "  <tbody>\n",
       "    <tr>\n",
       "      <th>count</th>\n",
       "      <td>400.000000</td>\n",
       "      <td>530.000000</td>\n",
       "      <td>215.000000</td>\n",
       "    </tr>\n",
       "    <tr>\n",
       "      <th>mean</th>\n",
       "      <td>47.605250</td>\n",
       "      <td>31.698113</td>\n",
       "      <td>10.404651</td>\n",
       "    </tr>\n",
       "    <tr>\n",
       "      <th>std</th>\n",
       "      <td>18.300769</td>\n",
       "      <td>20.501557</td>\n",
       "      <td>5.814016</td>\n",
       "    </tr>\n",
       "    <tr>\n",
       "      <th>min</th>\n",
       "      <td>6.000000</td>\n",
       "      <td>0.000000</td>\n",
       "      <td>0.000000</td>\n",
       "    </tr>\n",
       "    <tr>\n",
       "      <th>25%</th>\n",
       "      <td>33.700000</td>\n",
       "      <td>14.050000</td>\n",
       "      <td>6.000000</td>\n",
       "    </tr>\n",
       "    <tr>\n",
       "      <th>50%</th>\n",
       "      <td>48.050000</td>\n",
       "      <td>29.550000</td>\n",
       "      <td>9.000000</td>\n",
       "    </tr>\n",
       "    <tr>\n",
       "      <th>75%</th>\n",
       "      <td>60.500000</td>\n",
       "      <td>46.800000</td>\n",
       "      <td>12.000000</td>\n",
       "    </tr>\n",
       "    <tr>\n",
       "      <th>max</th>\n",
       "      <td>94.500000</td>\n",
       "      <td>88.400000</td>\n",
       "      <td>34.000000</td>\n",
       "    </tr>\n",
       "  </tbody>\n",
       "</table>\n",
       "</div>"
      ],
      "text/plain": [
       "       Early initiation of breastfeeding (%)  \\\n",
       "count                             400.000000   \n",
       "mean                               47.605250   \n",
       "std                                18.300769   \n",
       "min                                 6.000000   \n",
       "25%                                33.700000   \n",
       "50%                                48.050000   \n",
       "75%                                60.500000   \n",
       "max                                94.500000   \n",
       "\n",
       "       Infants exclusively breastfed for the first six months of life (%)  \\\n",
       "count                                         530.000000                    \n",
       "mean                                           31.698113                    \n",
       "std                                            20.501557                    \n",
       "min                                             0.000000                    \n",
       "25%                                            14.050000                    \n",
       "50%                                            29.550000                    \n",
       "75%                                            46.800000                    \n",
       "max                                            88.400000                    \n",
       "\n",
       "       Low-birth-weight newborns (%)  \n",
       "count                     215.000000  \n",
       "mean                       10.404651  \n",
       "std                         5.814016  \n",
       "min                         0.000000  \n",
       "25%                         6.000000  \n",
       "50%                         9.000000  \n",
       "75%                        12.000000  \n",
       "max                        34.000000  "
      ]
     },
     "execution_count": 25,
     "metadata": {},
     "output_type": "execute_result"
    }
   ],
   "source": [
    "bfd.describe()"
   ]
  },
  {
   "cell_type": "code",
   "execution_count": 26,
   "id": "eeba5e3b-80ab-45b0-83c5-8414143db89f",
   "metadata": {},
   "outputs": [
    {
     "data": {
      "text/html": [
       "<div>\n",
       "<style scoped>\n",
       "    .dataframe tbody tr th:only-of-type {\n",
       "        vertical-align: middle;\n",
       "    }\n",
       "\n",
       "    .dataframe tbody tr th {\n",
       "        vertical-align: top;\n",
       "    }\n",
       "\n",
       "    .dataframe thead th {\n",
       "        text-align: right;\n",
       "    }\n",
       "</style>\n",
       "<table border=\"1\" class=\"dataframe\">\n",
       "  <thead>\n",
       "    <tr style=\"text-align: right;\">\n",
       "      <th></th>\n",
       "      <th>Country</th>\n",
       "      <th>Year</th>\n",
       "    </tr>\n",
       "  </thead>\n",
       "  <tbody>\n",
       "    <tr>\n",
       "      <th>count</th>\n",
       "      <td>785</td>\n",
       "      <td>785</td>\n",
       "    </tr>\n",
       "    <tr>\n",
       "      <th>unique</th>\n",
       "      <td>188</td>\n",
       "      <td>56</td>\n",
       "    </tr>\n",
       "    <tr>\n",
       "      <th>top</th>\n",
       "      <td>Peru</td>\n",
       "      <td>2000</td>\n",
       "    </tr>\n",
       "    <tr>\n",
       "      <th>freq</th>\n",
       "      <td>16</td>\n",
       "      <td>66</td>\n",
       "    </tr>\n",
       "  </tbody>\n",
       "</table>\n",
       "</div>"
      ],
      "text/plain": [
       "       Country   Year\n",
       "count      785    785\n",
       "unique     188     56\n",
       "top       Peru   2000\n",
       "freq        16     66"
      ]
     },
     "execution_count": 26,
     "metadata": {},
     "output_type": "execute_result"
    }
   ],
   "source": [
    "bfd.describe(include=object)"
   ]
  },
  {
   "cell_type": "code",
   "execution_count": 27,
   "id": "83d97e1c-1ced-4513-9563-5efe085df0cf",
   "metadata": {},
   "outputs": [
    {
     "data": {
      "text/plain": [
       "Country                                                                 0\n",
       "Year                                                                    0\n",
       "Early initiation of breastfeeding (%)                                 385\n",
       "Infants exclusively breastfed for the first six months of life (%)    255\n",
       "Low-birth-weight newborns (%)                                         570\n",
       "dtype: int64"
      ]
     },
     "execution_count": 27,
     "metadata": {},
     "output_type": "execute_result"
    }
   ],
   "source": [
    "bfd.isnull().sum()"
   ]
  },
  {
   "cell_type": "code",
   "execution_count": 28,
   "id": "ceebb850-bcca-47c0-bb05-1f7d05531773",
   "metadata": {},
   "outputs": [
    {
     "data": {
      "text/plain": [
       "0"
      ]
     },
     "execution_count": 28,
     "metadata": {},
     "output_type": "execute_result"
    }
   ],
   "source": [
    "bfd.duplicated().sum()"
   ]
  },
  {
   "cell_type": "markdown",
   "id": "460c7794-ce96-4871-aaa0-f0b6e6039ba0",
   "metadata": {},
   "source": [
    "<hr>\n",
    "\n",
    "### Out of School Rates Global Data"
   ]
  },
  {
   "cell_type": "code",
   "execution_count": 29,
   "id": "67599bfc-06aa-49cd-a746-98b48112399b",
   "metadata": {
    "tags": []
   },
   "outputs": [
    {
     "data": {
      "text/html": [
       "<div>\n",
       "<style scoped>\n",
       "    .dataframe tbody tr th:only-of-type {\n",
       "        vertical-align: middle;\n",
       "    }\n",
       "\n",
       "    .dataframe tbody tr th {\n",
       "        vertical-align: top;\n",
       "    }\n",
       "\n",
       "    .dataframe thead th {\n",
       "        text-align: right;\n",
       "    }\n",
       "</style>\n",
       "<table border=\"1\" class=\"dataframe\">\n",
       "  <thead>\n",
       "    <tr style=\"text-align: right;\">\n",
       "      <th></th>\n",
       "      <th>ISO3</th>\n",
       "      <th>Countries and areas</th>\n",
       "      <th>Region</th>\n",
       "      <th>Sub-region</th>\n",
       "      <th>Development Regions</th>\n",
       "      <th>Total</th>\n",
       "      <th>Female</th>\n",
       "      <th>Male</th>\n",
       "      <th>Rural_Residence</th>\n",
       "      <th>Urban_Residence</th>\n",
       "      <th>Poorest_Wealth quintile</th>\n",
       "      <th>Second_Wealth quintile</th>\n",
       "      <th>Middle_Wealth quintile</th>\n",
       "      <th>Fourth_Wealth quintile</th>\n",
       "      <th>Richest_Wealth quintile</th>\n",
       "      <th>Data source</th>\n",
       "      <th>Time period</th>\n",
       "    </tr>\n",
       "  </thead>\n",
       "  <tbody>\n",
       "    <tr>\n",
       "      <th>0</th>\n",
       "      <td>AFG</td>\n",
       "      <td>Afghanistan</td>\n",
       "      <td>SA</td>\n",
       "      <td>SA</td>\n",
       "      <td>Least Developed</td>\n",
       "      <td>37.0</td>\n",
       "      <td>47.0</td>\n",
       "      <td>28.0</td>\n",
       "      <td>42.0</td>\n",
       "      <td>19.0</td>\n",
       "      <td>42.0</td>\n",
       "      <td>47.0</td>\n",
       "      <td>46.0</td>\n",
       "      <td>32.0</td>\n",
       "      <td>16.0</td>\n",
       "      <td>DHS 2015</td>\n",
       "      <td>2015.0</td>\n",
       "    </tr>\n",
       "    <tr>\n",
       "      <th>1</th>\n",
       "      <td>ALB</td>\n",
       "      <td>Albania</td>\n",
       "      <td>ECA</td>\n",
       "      <td>EECA</td>\n",
       "      <td>More Developed</td>\n",
       "      <td>2.0</td>\n",
       "      <td>2.0</td>\n",
       "      <td>3.0</td>\n",
       "      <td>4.0</td>\n",
       "      <td>1.0</td>\n",
       "      <td>4.0</td>\n",
       "      <td>3.0</td>\n",
       "      <td>2.0</td>\n",
       "      <td>2.0</td>\n",
       "      <td>1.0</td>\n",
       "      <td>DHS 2017-18</td>\n",
       "      <td>2018.0</td>\n",
       "    </tr>\n",
       "  </tbody>\n",
       "</table>\n",
       "</div>"
      ],
      "text/plain": [
       "  ISO3 Countries and areas Region Sub-region Development Regions  Total  \\\n",
       "0  AFG         Afghanistan     SA         SA     Least Developed   37.0   \n",
       "1  ALB             Albania    ECA       EECA      More Developed    2.0   \n",
       "\n",
       "   Female  Male  Rural_Residence  Urban_Residence  Poorest_Wealth quintile  \\\n",
       "0    47.0  28.0             42.0             19.0                     42.0   \n",
       "1     2.0   3.0              4.0              1.0                      4.0   \n",
       "\n",
       "   Second_Wealth quintile  Middle_Wealth quintile  Fourth_Wealth quintile  \\\n",
       "0                    47.0                    46.0                    32.0   \n",
       "1                     3.0                     2.0                     2.0   \n",
       "\n",
       "   Richest_Wealth quintile  Data source  Time period  \n",
       "0                     16.0     DHS 2015       2015.0  \n",
       "1                      1.0  DHS 2017-18       2018.0  "
      ]
     },
     "execution_count": 29,
     "metadata": {},
     "output_type": "execute_result"
    }
   ],
   "source": [
    "outofschool = pd.read_csv('Primary_out_of_school_rates.csv', encoding='latin1')\n",
    "outofschool.head(2)"
   ]
  },
  {
   "cell_type": "code",
   "execution_count": 30,
   "id": "8d8af528-6bb0-458c-b2ba-fef6d69848d0",
   "metadata": {
    "tags": []
   },
   "outputs": [
    {
     "name": "stdout",
     "output_type": "stream",
     "text": [
      "<class 'pandas.core.frame.DataFrame'>\n",
      "RangeIndex: 202 entries, 0 to 201\n",
      "Data columns (total 17 columns):\n",
      " #   Column                   Non-Null Count  Dtype  \n",
      "---  ------                   --------------  -----  \n",
      " 0   ISO3                     202 non-null    object \n",
      " 1   Countries and areas      202 non-null    object \n",
      " 2   Region                   200 non-null    object \n",
      " 3   Sub-region               200 non-null    object \n",
      " 4   Development Regions      202 non-null    object \n",
      " 5   Total                    112 non-null    float64\n",
      " 6   Female                   112 non-null    float64\n",
      " 7   Male                     112 non-null    float64\n",
      " 8   Rural_Residence          109 non-null    float64\n",
      " 9   Urban_Residence          109 non-null    float64\n",
      " 10  Poorest_Wealth quintile  103 non-null    float64\n",
      " 11  Second_Wealth quintile   103 non-null    float64\n",
      " 12  Middle_Wealth quintile   103 non-null    float64\n",
      " 13  Fourth_Wealth quintile   103 non-null    float64\n",
      " 14  Richest_Wealth quintile  103 non-null    float64\n",
      " 15  Data source              112 non-null    object \n",
      " 16  Time period              112 non-null    float64\n",
      "dtypes: float64(11), object(6)\n",
      "memory usage: 27.0+ KB\n"
     ]
    }
   ],
   "source": [
    "outofschool.info()"
   ]
  },
  {
   "cell_type": "code",
   "execution_count": 31,
   "id": "88f33216-fbaa-42ff-ad1e-beaef4882d0b",
   "metadata": {},
   "outputs": [
    {
     "data": {
      "text/html": [
       "<div>\n",
       "<style scoped>\n",
       "    .dataframe tbody tr th:only-of-type {\n",
       "        vertical-align: middle;\n",
       "    }\n",
       "\n",
       "    .dataframe tbody tr th {\n",
       "        vertical-align: top;\n",
       "    }\n",
       "\n",
       "    .dataframe thead th {\n",
       "        text-align: right;\n",
       "    }\n",
       "</style>\n",
       "<table border=\"1\" class=\"dataframe\">\n",
       "  <thead>\n",
       "    <tr style=\"text-align: right;\">\n",
       "      <th></th>\n",
       "      <th>Total</th>\n",
       "      <th>Female</th>\n",
       "      <th>Male</th>\n",
       "      <th>Rural_Residence</th>\n",
       "      <th>Urban_Residence</th>\n",
       "      <th>Poorest_Wealth quintile</th>\n",
       "      <th>Second_Wealth quintile</th>\n",
       "      <th>Middle_Wealth quintile</th>\n",
       "      <th>Fourth_Wealth quintile</th>\n",
       "      <th>Richest_Wealth quintile</th>\n",
       "      <th>Time period</th>\n",
       "    </tr>\n",
       "  </thead>\n",
       "  <tbody>\n",
       "    <tr>\n",
       "      <th>count</th>\n",
       "      <td>112.000000</td>\n",
       "      <td>112.000000</td>\n",
       "      <td>112.000000</td>\n",
       "      <td>109.000000</td>\n",
       "      <td>109.000000</td>\n",
       "      <td>103.000000</td>\n",
       "      <td>103.000000</td>\n",
       "      <td>103.000000</td>\n",
       "      <td>103.000000</td>\n",
       "      <td>103.000000</td>\n",
       "      <td>112.000000</td>\n",
       "    </tr>\n",
       "    <tr>\n",
       "      <th>mean</th>\n",
       "      <td>10.160714</td>\n",
       "      <td>10.357143</td>\n",
       "      <td>10.017857</td>\n",
       "      <td>12.321101</td>\n",
       "      <td>5.889908</td>\n",
       "      <td>17.650485</td>\n",
       "      <td>13.000000</td>\n",
       "      <td>9.932039</td>\n",
       "      <td>7.281553</td>\n",
       "      <td>3.864078</td>\n",
       "      <td>2015.455357</td>\n",
       "    </tr>\n",
       "    <tr>\n",
       "      <th>std</th>\n",
       "      <td>13.637226</td>\n",
       "      <td>14.520478</td>\n",
       "      <td>12.971891</td>\n",
       "      <td>16.380250</td>\n",
       "      <td>7.763089</td>\n",
       "      <td>20.584931</td>\n",
       "      <td>17.414778</td>\n",
       "      <td>14.955661</td>\n",
       "      <td>11.614239</td>\n",
       "      <td>6.082841</td>\n",
       "      <td>2.581599</td>\n",
       "    </tr>\n",
       "    <tr>\n",
       "      <th>min</th>\n",
       "      <td>0.000000</td>\n",
       "      <td>0.000000</td>\n",
       "      <td>0.000000</td>\n",
       "      <td>0.000000</td>\n",
       "      <td>0.000000</td>\n",
       "      <td>0.000000</td>\n",
       "      <td>0.000000</td>\n",
       "      <td>0.000000</td>\n",
       "      <td>0.000000</td>\n",
       "      <td>0.000000</td>\n",
       "      <td>2010.000000</td>\n",
       "    </tr>\n",
       "    <tr>\n",
       "      <th>25%</th>\n",
       "      <td>1.750000</td>\n",
       "      <td>2.000000</td>\n",
       "      <td>2.000000</td>\n",
       "      <td>2.000000</td>\n",
       "      <td>1.000000</td>\n",
       "      <td>2.000000</td>\n",
       "      <td>2.000000</td>\n",
       "      <td>1.000000</td>\n",
       "      <td>1.000000</td>\n",
       "      <td>1.000000</td>\n",
       "      <td>2013.750000</td>\n",
       "    </tr>\n",
       "    <tr>\n",
       "      <th>50%</th>\n",
       "      <td>4.000000</td>\n",
       "      <td>3.000000</td>\n",
       "      <td>4.000000</td>\n",
       "      <td>5.000000</td>\n",
       "      <td>3.000000</td>\n",
       "      <td>8.000000</td>\n",
       "      <td>4.000000</td>\n",
       "      <td>3.000000</td>\n",
       "      <td>3.000000</td>\n",
       "      <td>2.000000</td>\n",
       "      <td>2016.000000</td>\n",
       "    </tr>\n",
       "    <tr>\n",
       "      <th>75%</th>\n",
       "      <td>15.250000</td>\n",
       "      <td>14.250000</td>\n",
       "      <td>15.000000</td>\n",
       "      <td>19.000000</td>\n",
       "      <td>7.000000</td>\n",
       "      <td>32.000000</td>\n",
       "      <td>21.000000</td>\n",
       "      <td>14.000000</td>\n",
       "      <td>6.500000</td>\n",
       "      <td>4.000000</td>\n",
       "      <td>2018.000000</td>\n",
       "    </tr>\n",
       "    <tr>\n",
       "      <th>max</th>\n",
       "      <td>72.000000</td>\n",
       "      <td>75.000000</td>\n",
       "      <td>70.000000</td>\n",
       "      <td>78.000000</td>\n",
       "      <td>56.000000</td>\n",
       "      <td>86.000000</td>\n",
       "      <td>84.000000</td>\n",
       "      <td>77.000000</td>\n",
       "      <td>65.000000</td>\n",
       "      <td>44.000000</td>\n",
       "      <td>2019.000000</td>\n",
       "    </tr>\n",
       "  </tbody>\n",
       "</table>\n",
       "</div>"
      ],
      "text/plain": [
       "            Total      Female        Male  Rural_Residence  Urban_Residence  \\\n",
       "count  112.000000  112.000000  112.000000       109.000000       109.000000   \n",
       "mean    10.160714   10.357143   10.017857        12.321101         5.889908   \n",
       "std     13.637226   14.520478   12.971891        16.380250         7.763089   \n",
       "min      0.000000    0.000000    0.000000         0.000000         0.000000   \n",
       "25%      1.750000    2.000000    2.000000         2.000000         1.000000   \n",
       "50%      4.000000    3.000000    4.000000         5.000000         3.000000   \n",
       "75%     15.250000   14.250000   15.000000        19.000000         7.000000   \n",
       "max     72.000000   75.000000   70.000000        78.000000        56.000000   \n",
       "\n",
       "       Poorest_Wealth quintile  Second_Wealth quintile  \\\n",
       "count               103.000000              103.000000   \n",
       "mean                 17.650485               13.000000   \n",
       "std                  20.584931               17.414778   \n",
       "min                   0.000000                0.000000   \n",
       "25%                   2.000000                2.000000   \n",
       "50%                   8.000000                4.000000   \n",
       "75%                  32.000000               21.000000   \n",
       "max                  86.000000               84.000000   \n",
       "\n",
       "       Middle_Wealth quintile  Fourth_Wealth quintile  \\\n",
       "count              103.000000              103.000000   \n",
       "mean                 9.932039                7.281553   \n",
       "std                 14.955661               11.614239   \n",
       "min                  0.000000                0.000000   \n",
       "25%                  1.000000                1.000000   \n",
       "50%                  3.000000                3.000000   \n",
       "75%                 14.000000                6.500000   \n",
       "max                 77.000000               65.000000   \n",
       "\n",
       "       Richest_Wealth quintile  Time period  \n",
       "count               103.000000   112.000000  \n",
       "mean                  3.864078  2015.455357  \n",
       "std                   6.082841     2.581599  \n",
       "min                   0.000000  2010.000000  \n",
       "25%                   1.000000  2013.750000  \n",
       "50%                   2.000000  2016.000000  \n",
       "75%                   4.000000  2018.000000  \n",
       "max                  44.000000  2019.000000  "
      ]
     },
     "execution_count": 31,
     "metadata": {},
     "output_type": "execute_result"
    }
   ],
   "source": [
    "outofschool.describe()"
   ]
  },
  {
   "cell_type": "code",
   "execution_count": 32,
   "id": "2ec98500-9b4e-4b41-8323-46cc7b4ece7c",
   "metadata": {},
   "outputs": [
    {
     "data": {
      "text/html": [
       "<div>\n",
       "<style scoped>\n",
       "    .dataframe tbody tr th:only-of-type {\n",
       "        vertical-align: middle;\n",
       "    }\n",
       "\n",
       "    .dataframe tbody tr th {\n",
       "        vertical-align: top;\n",
       "    }\n",
       "\n",
       "    .dataframe thead th {\n",
       "        text-align: right;\n",
       "    }\n",
       "</style>\n",
       "<table border=\"1\" class=\"dataframe\">\n",
       "  <thead>\n",
       "    <tr style=\"text-align: right;\">\n",
       "      <th></th>\n",
       "      <th>ISO3</th>\n",
       "      <th>Countries and areas</th>\n",
       "      <th>Region</th>\n",
       "      <th>Sub-region</th>\n",
       "      <th>Development Regions</th>\n",
       "      <th>Data source</th>\n",
       "    </tr>\n",
       "  </thead>\n",
       "  <tbody>\n",
       "    <tr>\n",
       "      <th>count</th>\n",
       "      <td>202</td>\n",
       "      <td>202</td>\n",
       "      <td>200</td>\n",
       "      <td>200</td>\n",
       "      <td>202</td>\n",
       "      <td>112</td>\n",
       "    </tr>\n",
       "    <tr>\n",
       "      <th>unique</th>\n",
       "      <td>202</td>\n",
       "      <td>202</td>\n",
       "      <td>6</td>\n",
       "      <td>8</td>\n",
       "      <td>4</td>\n",
       "      <td>42</td>\n",
       "    </tr>\n",
       "    <tr>\n",
       "      <th>top</th>\n",
       "      <td>AFG</td>\n",
       "      <td>Afghanistan</td>\n",
       "      <td>ECA</td>\n",
       "      <td>LAC</td>\n",
       "      <td>Less Developed</td>\n",
       "      <td>MICS 2014</td>\n",
       "    </tr>\n",
       "    <tr>\n",
       "      <th>freq</th>\n",
       "      <td>1</td>\n",
       "      <td>1</td>\n",
       "      <td>54</td>\n",
       "      <td>37</td>\n",
       "      <td>99</td>\n",
       "      <td>10</td>\n",
       "    </tr>\n",
       "  </tbody>\n",
       "</table>\n",
       "</div>"
      ],
      "text/plain": [
       "       ISO3 Countries and areas Region Sub-region Development Regions  \\\n",
       "count   202                 202    200        200                 202   \n",
       "unique  202                 202      6          8                   4   \n",
       "top     AFG         Afghanistan    ECA        LAC      Less Developed   \n",
       "freq      1                   1     54         37                  99   \n",
       "\n",
       "       Data source  \n",
       "count          112  \n",
       "unique          42  \n",
       "top      MICS 2014  \n",
       "freq            10  "
      ]
     },
     "execution_count": 32,
     "metadata": {},
     "output_type": "execute_result"
    }
   ],
   "source": [
    "outofschool.describe(include=object)"
   ]
  },
  {
   "cell_type": "code",
   "execution_count": 44,
   "id": "4f81f3bc-290c-4223-be6f-c0f305dbe50a",
   "metadata": {},
   "outputs": [
    {
     "data": {
      "text/plain": [
       "ISO3                        0\n",
       "Countries and areas         0\n",
       "Region                      2\n",
       "Sub-region                  2\n",
       "Development Regions         0\n",
       "Total                      90\n",
       "Female                     90\n",
       "Male                       90\n",
       "Rural_Residence            93\n",
       "Urban_Residence            93\n",
       "Poorest_Wealth quintile    99\n",
       "Second_Wealth quintile     99\n",
       "Middle_Wealth quintile     99\n",
       "Fourth_Wealth quintile     99\n",
       "Richest_Wealth quintile    99\n",
       "Data source                90\n",
       "Time period                90\n",
       "dtype: int64"
      ]
     },
     "execution_count": 44,
     "metadata": {},
     "output_type": "execute_result"
    }
   ],
   "source": [
    "outofschool.isnull().sum()"
   ]
  },
  {
   "cell_type": "code",
   "execution_count": 45,
   "id": "4d7c775c-aa35-4497-91a3-ab71c9d3662a",
   "metadata": {},
   "outputs": [
    {
     "data": {
      "text/plain": [
       "0"
      ]
     },
     "execution_count": 45,
     "metadata": {},
     "output_type": "execute_result"
    }
   ],
   "source": [
    "outofschool.duplicated().sum()"
   ]
  },
  {
   "cell_type": "markdown",
   "id": "8435a0c8-b047-4118-8f6c-37e188aef916",
   "metadata": {},
   "source": [
    "<hr>\n",
    "\n",
    "### World Health Statistics 2020"
   ]
  },
  {
   "cell_type": "code",
   "execution_count": 35,
   "id": "9180ce1b-b412-4115-a6d9-004596a0cf0f",
   "metadata": {},
   "outputs": [
    {
     "data": {
      "text/html": [
       "<div>\n",
       "<style scoped>\n",
       "    .dataframe tbody tr th:only-of-type {\n",
       "        vertical-align: middle;\n",
       "    }\n",
       "\n",
       "    .dataframe tbody tr th {\n",
       "        vertical-align: top;\n",
       "    }\n",
       "\n",
       "    .dataframe thead th {\n",
       "        text-align: right;\n",
       "    }\n",
       "</style>\n",
       "<table border=\"1\" class=\"dataframe\">\n",
       "  <thead>\n",
       "    <tr style=\"text-align: right;\">\n",
       "      <th></th>\n",
       "      <th>Location</th>\n",
       "      <th>Period</th>\n",
       "      <th>Indicator</th>\n",
       "      <th>First Tooltip</th>\n",
       "    </tr>\n",
       "  </thead>\n",
       "  <tbody>\n",
       "    <tr>\n",
       "      <th>0</th>\n",
       "      <td>Afghanistan</td>\n",
       "      <td>2017</td>\n",
       "      <td>Adolescent birth rate (per 1000 women aged 15-...</td>\n",
       "      <td>62.0</td>\n",
       "    </tr>\n",
       "    <tr>\n",
       "      <th>1</th>\n",
       "      <td>Afghanistan</td>\n",
       "      <td>2014</td>\n",
       "      <td>Adolescent birth rate (per 1000 women aged 15-...</td>\n",
       "      <td>77.2</td>\n",
       "    </tr>\n",
       "  </tbody>\n",
       "</table>\n",
       "</div>"
      ],
      "text/plain": [
       "      Location  Period                                          Indicator  \\\n",
       "0  Afghanistan    2017  Adolescent birth rate (per 1000 women aged 15-...   \n",
       "1  Afghanistan    2014  Adolescent birth rate (per 1000 women aged 15-...   \n",
       "\n",
       "   First Tooltip  \n",
       "0           62.0  \n",
       "1           77.2  "
      ]
     },
     "execution_count": 35,
     "metadata": {},
     "output_type": "execute_result"
    }
   ],
   "source": [
    "adolescentBR = pd.read_csv('adolescentBirthRate.csv')\n",
    "adolescentBR.head(2)"
   ]
  },
  {
   "cell_type": "code",
   "execution_count": 36,
   "id": "0e9959e9-3db0-4797-833f-895d83760e84",
   "metadata": {},
   "outputs": [
    {
     "name": "stdout",
     "output_type": "stream",
     "text": [
      "<class 'pandas.core.frame.DataFrame'>\n",
      "RangeIndex: 2189 entries, 0 to 2188\n",
      "Data columns (total 4 columns):\n",
      " #   Column         Non-Null Count  Dtype  \n",
      "---  ------         --------------  -----  \n",
      " 0   Location       2189 non-null   object \n",
      " 1   Period         2189 non-null   int64  \n",
      " 2   Indicator      2189 non-null   object \n",
      " 3   First Tooltip  2189 non-null   float64\n",
      "dtypes: float64(1), int64(1), object(2)\n",
      "memory usage: 68.5+ KB\n"
     ]
    }
   ],
   "source": [
    "adolescentBR.info()"
   ]
  },
  {
   "cell_type": "code",
   "execution_count": 37,
   "id": "02b07507-c185-4198-bba9-ded38eaf8afe",
   "metadata": {},
   "outputs": [
    {
     "data": {
      "text/html": [
       "<div>\n",
       "<style scoped>\n",
       "    .dataframe tbody tr th:only-of-type {\n",
       "        vertical-align: middle;\n",
       "    }\n",
       "\n",
       "    .dataframe tbody tr th {\n",
       "        vertical-align: top;\n",
       "    }\n",
       "\n",
       "    .dataframe thead th {\n",
       "        text-align: right;\n",
       "    }\n",
       "</style>\n",
       "<table border=\"1\" class=\"dataframe\">\n",
       "  <thead>\n",
       "    <tr style=\"text-align: right;\">\n",
       "      <th></th>\n",
       "      <th>Period</th>\n",
       "      <th>First Tooltip</th>\n",
       "    </tr>\n",
       "  </thead>\n",
       "  <tbody>\n",
       "    <tr>\n",
       "      <th>count</th>\n",
       "      <td>2189.000000</td>\n",
       "      <td>2189.000000</td>\n",
       "    </tr>\n",
       "    <tr>\n",
       "      <th>mean</th>\n",
       "      <td>2008.203289</td>\n",
       "      <td>43.437506</td>\n",
       "    </tr>\n",
       "    <tr>\n",
       "      <th>std</th>\n",
       "      <td>5.233686</td>\n",
       "      <td>40.964061</td>\n",
       "    </tr>\n",
       "    <tr>\n",
       "      <th>min</th>\n",
       "      <td>2000.000000</td>\n",
       "      <td>0.000000</td>\n",
       "    </tr>\n",
       "    <tr>\n",
       "      <th>25%</th>\n",
       "      <td>2004.000000</td>\n",
       "      <td>12.900000</td>\n",
       "    </tr>\n",
       "    <tr>\n",
       "      <th>50%</th>\n",
       "      <td>2008.000000</td>\n",
       "      <td>28.200000</td>\n",
       "    </tr>\n",
       "    <tr>\n",
       "      <th>75%</th>\n",
       "      <td>2013.000000</td>\n",
       "      <td>62.700000</td>\n",
       "    </tr>\n",
       "    <tr>\n",
       "      <th>max</th>\n",
       "      <td>2018.000000</td>\n",
       "      <td>229.000000</td>\n",
       "    </tr>\n",
       "  </tbody>\n",
       "</table>\n",
       "</div>"
      ],
      "text/plain": [
       "            Period  First Tooltip\n",
       "count  2189.000000    2189.000000\n",
       "mean   2008.203289      43.437506\n",
       "std       5.233686      40.964061\n",
       "min    2000.000000       0.000000\n",
       "25%    2004.000000      12.900000\n",
       "50%    2008.000000      28.200000\n",
       "75%    2013.000000      62.700000\n",
       "max    2018.000000     229.000000"
      ]
     },
     "execution_count": 37,
     "metadata": {},
     "output_type": "execute_result"
    }
   ],
   "source": [
    "adolescentBR.describe()"
   ]
  },
  {
   "cell_type": "code",
   "execution_count": 38,
   "id": "7418524a-7944-499a-856e-a2f9dd51df9f",
   "metadata": {},
   "outputs": [
    {
     "data": {
      "text/html": [
       "<div>\n",
       "<style scoped>\n",
       "    .dataframe tbody tr th:only-of-type {\n",
       "        vertical-align: middle;\n",
       "    }\n",
       "\n",
       "    .dataframe tbody tr th {\n",
       "        vertical-align: top;\n",
       "    }\n",
       "\n",
       "    .dataframe thead th {\n",
       "        text-align: right;\n",
       "    }\n",
       "</style>\n",
       "<table border=\"1\" class=\"dataframe\">\n",
       "  <thead>\n",
       "    <tr style=\"text-align: right;\">\n",
       "      <th></th>\n",
       "      <th>Location</th>\n",
       "      <th>Indicator</th>\n",
       "    </tr>\n",
       "  </thead>\n",
       "  <tbody>\n",
       "    <tr>\n",
       "      <th>count</th>\n",
       "      <td>2189</td>\n",
       "      <td>2189</td>\n",
       "    </tr>\n",
       "    <tr>\n",
       "      <th>unique</th>\n",
       "      <td>195</td>\n",
       "      <td>1</td>\n",
       "    </tr>\n",
       "    <tr>\n",
       "      <th>top</th>\n",
       "      <td>Kazakhstan</td>\n",
       "      <td>Adolescent birth rate (per 1000 women aged 15-...</td>\n",
       "    </tr>\n",
       "    <tr>\n",
       "      <th>freq</th>\n",
       "      <td>19</td>\n",
       "      <td>2189</td>\n",
       "    </tr>\n",
       "  </tbody>\n",
       "</table>\n",
       "</div>"
      ],
      "text/plain": [
       "          Location                                          Indicator\n",
       "count         2189                                               2189\n",
       "unique         195                                                  1\n",
       "top     Kazakhstan  Adolescent birth rate (per 1000 women aged 15-...\n",
       "freq            19                                               2189"
      ]
     },
     "execution_count": 38,
     "metadata": {},
     "output_type": "execute_result"
    }
   ],
   "source": [
    "adolescentBR.describe(include=object)"
   ]
  },
  {
   "cell_type": "code",
   "execution_count": 39,
   "id": "f8b0a17b-46d7-449e-a7ac-33a8d2adbf98",
   "metadata": {},
   "outputs": [
    {
     "data": {
      "text/plain": [
       "Location         0\n",
       "Period           0\n",
       "Indicator        0\n",
       "First Tooltip    0\n",
       "dtype: int64"
      ]
     },
     "execution_count": 39,
     "metadata": {},
     "output_type": "execute_result"
    }
   ],
   "source": [
    "adolescentBR.isnull().sum()"
   ]
  },
  {
   "cell_type": "code",
   "execution_count": 40,
   "id": "5ca5b1a4-81d0-4455-aa6c-abc190507d30",
   "metadata": {},
   "outputs": [
    {
     "data": {
      "text/plain": [
       "0"
      ]
     },
     "execution_count": 40,
     "metadata": {},
     "output_type": "execute_result"
    }
   ],
   "source": [
    "adolescentBR.duplicated().sum()"
   ]
  },
  {
   "cell_type": "markdown",
   "id": "c7d6afd1-7e1b-4ae6-9b52-e6f4efa1b140",
   "metadata": {
    "tags": []
   },
   "source": [
    "<hr>\n",
    "<hr>\n",
    "\n",
    "## Data Visualization"
   ]
  },
  {
   "cell_type": "code",
   "execution_count": null,
   "id": "0cbf5567-dfc0-4138-8273-5f5953defb58",
   "metadata": {},
   "outputs": [],
   "source": []
  }
 ],
 "metadata": {
  "kernelspec": {
   "display_name": "Python 3 (ipykernel)",
   "language": "python",
   "name": "python3"
  },
  "language_info": {
   "codemirror_mode": {
    "name": "ipython",
    "version": 3
   },
   "file_extension": ".py",
   "mimetype": "text/x-python",
   "name": "python",
   "nbconvert_exporter": "python",
   "pygments_lexer": "ipython3",
   "version": "3.10.0"
  }
 },
 "nbformat": 4,
 "nbformat_minor": 5
}
