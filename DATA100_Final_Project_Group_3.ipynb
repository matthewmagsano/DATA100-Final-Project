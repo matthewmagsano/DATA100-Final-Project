{
 "cells": [
  {
   "cell_type": "markdown",
   "id": "441a6d10-ecb5-4717-b214-f08dc79ad22c",
   "metadata": {},
   "source": [
    "### Group 3 Members \n",
    "* Argonza, Antoinette Joy \n",
    "* Jamia, Gillian Nicole \n",
    "* Magsano, Niño Matthew \n",
    "* Reyes, Anton Gabriel"
   ]
  },
  {
   "cell_type": "code",
   "execution_count": null,
   "id": "a49b1fb1-2602-4434-a6a3-0fdba223a831",
   "metadata": {},
   "outputs": [],
   "source": []
  }
 ],
 "metadata": {
  "kernelspec": {
   "display_name": "Python 3 (ipykernel)",
   "language": "python",
   "name": "python3"
  },
  "language_info": {
   "codemirror_mode": {
    "name": "ipython",
    "version": 3
   },
   "file_extension": ".py",
   "mimetype": "text/x-python",
   "name": "python",
   "nbconvert_exporter": "python",
   "pygments_lexer": "ipython3",
   "version": "3.10.0"
  }
 },
 "nbformat": 4,
 "nbformat_minor": 5
}
