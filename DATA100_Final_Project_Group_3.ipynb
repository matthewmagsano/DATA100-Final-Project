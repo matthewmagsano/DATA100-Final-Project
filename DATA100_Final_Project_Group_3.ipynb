{
 "cells": [
  {
   "cell_type": "markdown",
   "id": "acute-detection",
   "metadata": {
    "tags": []
   },
   "source": [
    "# DATA100 - Final Project: Storytelling with Data "
   ]
  },
  {
   "cell_type": "markdown",
   "id": "raised-passing",
   "metadata": {},
   "source": [
    "<hr>\n",
    "<hr>\n",
    "\n",
    "## Group 3 Members \n",
    "* Argonza, Antoinette Joy \n",
    "* Jamia, Gillian Nicole \n",
    "* Magsano, Niño Matthew \n",
    "* Reyes, Anton Gabriel"
   ]
  },
  {
   "cell_type": "markdown",
   "id": "solar-promise",
   "metadata": {
    "tags": []
   },
   "source": [
    "<hr>\n",
    "<hr>\n",
    "\n",
    "## Motivation\n",
    "\n",
    "*As Lasallian students, we would want to determine the possible causes of child mortality and provide credible, consolidated information and insights that help prevent or solve this pressing social issue.*\n"
   ]
  },
  {
   "cell_type": "markdown",
   "id": "nervous-forest",
   "metadata": {},
   "source": [
    "<hr>\n",
    "<hr>\n",
    "\n",
    "## Libraries, Packages, or Modules"
   ]
  },
  {
   "cell_type": "code",
   "execution_count": 1,
   "id": "steady-spoke",
   "metadata": {},
   "outputs": [
    {
     "name": "stdout",
     "output_type": "stream",
     "text": [
      "Populating the interactive namespace from numpy and matplotlib\n"
     ]
    }
   ],
   "source": [
    "import os \n",
    "import csv\n",
    "import time\n",
    "import numpy as np\n",
    "import pandas as pd\n",
    "import seaborn as sns\n",
    "import requests \n",
    "import datetime as dt\n",
    "import geopandas as gpd\n",
    "import matplotlib.pyplot as plt\n",
    "\n",
    "\n",
    "from shapely.geometry import Point\n",
    "from IPython.core.display import HTML\n",
    "\n",
    "%matplotlib inline\n",
    "%pylab inline"
   ]
  },
  {
   "cell_type": "code",
   "execution_count": 2,
   "id": "forced-substitute",
   "metadata": {},
   "outputs": [],
   "source": [
    "plt.style.use('seaborn-whitegrid')"
   ]
  },
  {
   "cell_type": "markdown",
   "id": "behind-actor",
   "metadata": {},
   "source": [
    "<hr>\n",
    "<hr>\n",
    "\n",
    "## Data Collection"
   ]
  },
  {
   "cell_type": "markdown",
   "id": "synthetic-indonesian",
   "metadata": {},
   "source": [
    "### Datasets"
   ]
  },
  {
   "cell_type": "markdown",
   "id": "greater-ideal",
   "metadata": {},
   "source": [
    "**Initial datasets:** <br>\n",
    "Upon initial data collection and reading of datasets, these databases were dropped, but it is still listed here to show our initial trajectory towards the storytelling. The data collection codes for these are removed in the notebook to make it presentable. <br>\n",
    "* (Removed) The dataset for **Mortality among children** can be found here: [`Kaggle` Dataset Source](https://www.kaggle.com/mpwolke/cusersmarildownloadsdeathscsv) <br>\n",
    "* (Removed) The dataset for **WHO - Immunization coverage estimates by country** can be found here: [`Kaggle` Dataset Source](https://www.kaggle.com/lsind18/who-immunization-coverage) <br>\n",
    "* (Removed) The dataset for **Child Health Dataset** can be found here: [`Kaggle` Dataset Source](https://www.kaggle.com/hijest/child-health-dataset-who) <br>\n",
    "* (Removed) The dataset for **Out of School Rates Global Data** can be found here: [`Kaggle` Dataset Source](https://www.kaggle.com/komalkhetlani/out-of-school-rates-global-data?select=Primary.csv) <br>\n",
    "* (Removed) The dataset for **World Health Statistics 2020** can be found here: [`Kaggle` Dataset Source](https://www.kaggle.com/utkarshxy/who-worldhealth-statistics-2020-complete?select=adolescentBirthRate.csv) <br>\n",
    "\n",
    "**Official datasets**: <br>\n",
    "* The dataset for **Mortality rate, under-5 (per 1,000 live births)** can be found here: [`The World Bank` Dataset Source](https://data.worldbank.org/indicator/SH.DYN.MORT?end=2019&fbclid=IwAR1SIiyIcig6Mwin1-szdOQoKMCC6BMJrb0NrdbS1-bnL8gd2JoalibPjYI&start=1960) <br>\n",
    "* The dataset for **Causes of death in children under 5** can be found here: [`Our World in Data` Dataset Source](https://ourworldindata.org/grapher/causes-of-death-in-children-under-5) <br>\n",
    "* The dataset for **Malnutrition across the globe** can be found here: [`Kaggle` Dataset Source](https://www.kaggle.com/ruchi798/malnutrition-across-the-globe) <br>\n",
    "\n",
    "**Helpful dataset/s**: <br>\n",
    "These/This are/is included for possible merges of cleaned databases for data visualization and analysis. <br>\n",
    "* The dataset for **Country Codes Alpha-2 & Alpha-3** can be found here: [`IBAN` Dataset Source](https://www.iban.com/country-codes) <br>"
   ]
  },
  {
   "cell_type": "markdown",
   "id": "saved-modern",
   "metadata": {
    "tags": []
   },
   "source": [
    "<hr>\n",
    "<hr>\n",
    "\n",
    "## Data Wrangling & Exploratory Data Analysis"
   ]
  },
  {
   "cell_type": "markdown",
   "id": "indie-solomon",
   "metadata": {},
   "source": [
    "<hr>\n",
    "\n",
    "### Mortality rate, under-5 (per 1,000 live births)"
   ]
  },
  {
   "cell_type": "code",
   "execution_count": 3,
   "id": "abroad-vatican",
   "metadata": {},
   "outputs": [
    {
     "data": {
      "text/html": [
       "<div>\n",
       "<style scoped>\n",
       "    .dataframe tbody tr th:only-of-type {\n",
       "        vertical-align: middle;\n",
       "    }\n",
       "\n",
       "    .dataframe tbody tr th {\n",
       "        vertical-align: top;\n",
       "    }\n",
       "\n",
       "    .dataframe thead th {\n",
       "        text-align: right;\n",
       "    }\n",
       "</style>\n",
       "<table border=\"1\" class=\"dataframe\">\n",
       "  <thead>\n",
       "    <tr style=\"text-align: right;\">\n",
       "      <th></th>\n",
       "      <th>Country Name</th>\n",
       "      <th>Country Code</th>\n",
       "      <th>Indicator Name</th>\n",
       "      <th>Indicator Code</th>\n",
       "      <th>1960</th>\n",
       "      <th>1961</th>\n",
       "      <th>1962</th>\n",
       "      <th>1963</th>\n",
       "      <th>1964</th>\n",
       "      <th>1965</th>\n",
       "      <th>...</th>\n",
       "      <th>2011</th>\n",
       "      <th>2012</th>\n",
       "      <th>2013</th>\n",
       "      <th>2014</th>\n",
       "      <th>2015</th>\n",
       "      <th>2016</th>\n",
       "      <th>2017</th>\n",
       "      <th>2018</th>\n",
       "      <th>2019</th>\n",
       "      <th>2020</th>\n",
       "    </tr>\n",
       "  </thead>\n",
       "  <tbody>\n",
       "    <tr>\n",
       "      <th>0</th>\n",
       "      <td>Aruba</td>\n",
       "      <td>ABW</td>\n",
       "      <td>Mortality rate, under-5 (per 1,000 live births)</td>\n",
       "      <td>SH.DYN.MORT</td>\n",
       "      <td>NaN</td>\n",
       "      <td>NaN</td>\n",
       "      <td>NaN</td>\n",
       "      <td>NaN</td>\n",
       "      <td>NaN</td>\n",
       "      <td>NaN</td>\n",
       "      <td>...</td>\n",
       "      <td>NaN</td>\n",
       "      <td>NaN</td>\n",
       "      <td>NaN</td>\n",
       "      <td>NaN</td>\n",
       "      <td>NaN</td>\n",
       "      <td>NaN</td>\n",
       "      <td>NaN</td>\n",
       "      <td>NaN</td>\n",
       "      <td>NaN</td>\n",
       "      <td>NaN</td>\n",
       "    </tr>\n",
       "    <tr>\n",
       "      <th>1</th>\n",
       "      <td>Africa Eastern and Southern</td>\n",
       "      <td>AFE</td>\n",
       "      <td>Mortality rate, under-5 (per 1,000 live births)</td>\n",
       "      <td>SH.DYN.MORT</td>\n",
       "      <td>NaN</td>\n",
       "      <td>NaN</td>\n",
       "      <td>NaN</td>\n",
       "      <td>NaN</td>\n",
       "      <td>NaN</td>\n",
       "      <td>NaN</td>\n",
       "      <td>...</td>\n",
       "      <td>82.105187</td>\n",
       "      <td>78.354228</td>\n",
       "      <td>74.991597</td>\n",
       "      <td>71.996841</td>\n",
       "      <td>69.288947</td>\n",
       "      <td>66.667614</td>\n",
       "      <td>64.347025</td>\n",
       "      <td>62.115387</td>\n",
       "      <td>60.098659</td>\n",
       "      <td>NaN</td>\n",
       "    </tr>\n",
       "    <tr>\n",
       "      <th>2</th>\n",
       "      <td>Afghanistan</td>\n",
       "      <td>AFG</td>\n",
       "      <td>Mortality rate, under-5 (per 1,000 live births)</td>\n",
       "      <td>SH.DYN.MORT</td>\n",
       "      <td>NaN</td>\n",
       "      <td>NaN</td>\n",
       "      <td>344.6</td>\n",
       "      <td>338.7</td>\n",
       "      <td>333.100000</td>\n",
       "      <td>327.600000</td>\n",
       "      <td>...</td>\n",
       "      <td>83.900000</td>\n",
       "      <td>80.300000</td>\n",
       "      <td>76.800000</td>\n",
       "      <td>73.600000</td>\n",
       "      <td>70.400000</td>\n",
       "      <td>67.600000</td>\n",
       "      <td>64.900000</td>\n",
       "      <td>62.500000</td>\n",
       "      <td>60.300000</td>\n",
       "      <td>NaN</td>\n",
       "    </tr>\n",
       "    <tr>\n",
       "      <th>3</th>\n",
       "      <td>Africa Western and Central</td>\n",
       "      <td>AFW</td>\n",
       "      <td>Mortality rate, under-5 (per 1,000 live births)</td>\n",
       "      <td>SH.DYN.MORT</td>\n",
       "      <td>NaN</td>\n",
       "      <td>NaN</td>\n",
       "      <td>NaN</td>\n",
       "      <td>NaN</td>\n",
       "      <td>308.353805</td>\n",
       "      <td>302.620962</td>\n",
       "      <td>...</td>\n",
       "      <td>118.442692</td>\n",
       "      <td>115.498791</td>\n",
       "      <td>112.667923</td>\n",
       "      <td>110.264426</td>\n",
       "      <td>107.765705</td>\n",
       "      <td>105.055552</td>\n",
       "      <td>102.430680</td>\n",
       "      <td>99.598781</td>\n",
       "      <td>96.814240</td>\n",
       "      <td>NaN</td>\n",
       "    </tr>\n",
       "    <tr>\n",
       "      <th>4</th>\n",
       "      <td>Angola</td>\n",
       "      <td>AGO</td>\n",
       "      <td>Mortality rate, under-5 (per 1,000 live births)</td>\n",
       "      <td>SH.DYN.MORT</td>\n",
       "      <td>NaN</td>\n",
       "      <td>NaN</td>\n",
       "      <td>NaN</td>\n",
       "      <td>NaN</td>\n",
       "      <td>NaN</td>\n",
       "      <td>NaN</td>\n",
       "      <td>...</td>\n",
       "      <td>112.300000</td>\n",
       "      <td>105.000000</td>\n",
       "      <td>98.600000</td>\n",
       "      <td>93.000000</td>\n",
       "      <td>88.200000</td>\n",
       "      <td>84.200000</td>\n",
       "      <td>80.600000</td>\n",
       "      <td>77.700000</td>\n",
       "      <td>74.700000</td>\n",
       "      <td>NaN</td>\n",
       "    </tr>\n",
       "  </tbody>\n",
       "</table>\n",
       "<p>5 rows × 65 columns</p>\n",
       "</div>"
      ],
      "text/plain": [
       "                  Country Name Country Code  \\\n",
       "0                        Aruba          ABW   \n",
       "1  Africa Eastern and Southern          AFE   \n",
       "2                  Afghanistan          AFG   \n",
       "3   Africa Western and Central          AFW   \n",
       "4                       Angola          AGO   \n",
       "\n",
       "                                    Indicator Name Indicator Code  1960  1961  \\\n",
       "0  Mortality rate, under-5 (per 1,000 live births)    SH.DYN.MORT   NaN   NaN   \n",
       "1  Mortality rate, under-5 (per 1,000 live births)    SH.DYN.MORT   NaN   NaN   \n",
       "2  Mortality rate, under-5 (per 1,000 live births)    SH.DYN.MORT   NaN   NaN   \n",
       "3  Mortality rate, under-5 (per 1,000 live births)    SH.DYN.MORT   NaN   NaN   \n",
       "4  Mortality rate, under-5 (per 1,000 live births)    SH.DYN.MORT   NaN   NaN   \n",
       "\n",
       "    1962   1963        1964        1965  ...        2011        2012  \\\n",
       "0    NaN    NaN         NaN         NaN  ...         NaN         NaN   \n",
       "1    NaN    NaN         NaN         NaN  ...   82.105187   78.354228   \n",
       "2  344.6  338.7  333.100000  327.600000  ...   83.900000   80.300000   \n",
       "3    NaN    NaN  308.353805  302.620962  ...  118.442692  115.498791   \n",
       "4    NaN    NaN         NaN         NaN  ...  112.300000  105.000000   \n",
       "\n",
       "         2013        2014        2015        2016        2017       2018  \\\n",
       "0         NaN         NaN         NaN         NaN         NaN        NaN   \n",
       "1   74.991597   71.996841   69.288947   66.667614   64.347025  62.115387   \n",
       "2   76.800000   73.600000   70.400000   67.600000   64.900000  62.500000   \n",
       "3  112.667923  110.264426  107.765705  105.055552  102.430680  99.598781   \n",
       "4   98.600000   93.000000   88.200000   84.200000   80.600000  77.700000   \n",
       "\n",
       "        2019  2020  \n",
       "0        NaN   NaN  \n",
       "1  60.098659   NaN  \n",
       "2  60.300000   NaN  \n",
       "3  96.814240   NaN  \n",
       "4  74.700000   NaN  \n",
       "\n",
       "[5 rows x 65 columns]"
      ]
     },
     "execution_count": 3,
     "metadata": {},
     "output_type": "execute_result"
    }
   ],
   "source": [
    "mortality = pd.read_csv('Databases/mortality_rate.csv')\n",
    "mortality.head()"
   ]
  },
  {
   "cell_type": "code",
   "execution_count": 4,
   "id": "knowing-contractor",
   "metadata": {},
   "outputs": [
    {
     "data": {
      "text/plain": [
       "<bound method DataFrame.info of                     Country Name Country Code  \\\n",
       "0                          Aruba          ABW   \n",
       "1    Africa Eastern and Southern          AFE   \n",
       "2                    Afghanistan          AFG   \n",
       "3     Africa Western and Central          AFW   \n",
       "4                         Angola          AGO   \n",
       "..                           ...          ...   \n",
       "261                       Kosovo          XKX   \n",
       "262                  Yemen, Rep.          YEM   \n",
       "263                 South Africa          ZAF   \n",
       "264                       Zambia          ZMB   \n",
       "265                     Zimbabwe          ZWE   \n",
       "\n",
       "                                      Indicator Name Indicator Code   1960  \\\n",
       "0    Mortality rate, under-5 (per 1,000 live births)    SH.DYN.MORT    NaN   \n",
       "1    Mortality rate, under-5 (per 1,000 live births)    SH.DYN.MORT    NaN   \n",
       "2    Mortality rate, under-5 (per 1,000 live births)    SH.DYN.MORT    NaN   \n",
       "3    Mortality rate, under-5 (per 1,000 live births)    SH.DYN.MORT    NaN   \n",
       "4    Mortality rate, under-5 (per 1,000 live births)    SH.DYN.MORT    NaN   \n",
       "..                                               ...            ...    ...   \n",
       "261  Mortality rate, under-5 (per 1,000 live births)    SH.DYN.MORT    NaN   \n",
       "262  Mortality rate, under-5 (per 1,000 live births)    SH.DYN.MORT    NaN   \n",
       "263  Mortality rate, under-5 (per 1,000 live births)    SH.DYN.MORT    NaN   \n",
       "264  Mortality rate, under-5 (per 1,000 live births)    SH.DYN.MORT  204.8   \n",
       "265  Mortality rate, under-5 (per 1,000 live births)    SH.DYN.MORT  151.1   \n",
       "\n",
       "      1961   1962   1963        1964        1965  ...        2011        2012  \\\n",
       "0      NaN    NaN    NaN         NaN         NaN  ...         NaN         NaN   \n",
       "1      NaN    NaN    NaN         NaN         NaN  ...   82.105187   78.354228   \n",
       "2      NaN  344.6  338.7  333.100000  327.600000  ...   83.900000   80.300000   \n",
       "3      NaN    NaN    NaN  308.353805  302.620962  ...  118.442692  115.498791   \n",
       "4      NaN    NaN    NaN         NaN         NaN  ...  112.300000  105.000000   \n",
       "..     ...    ...    ...         ...         ...  ...         ...         ...   \n",
       "261    NaN    NaN    NaN         NaN         NaN  ...         NaN         NaN   \n",
       "262    NaN  409.8  402.5  394.500000  385.400000  ...   55.200000   55.000000   \n",
       "263    NaN    NaN    NaN         NaN         NaN  ...   44.800000   40.900000   \n",
       "264  201.2  197.8  194.8  192.200000  190.300000  ...   77.200000   75.100000   \n",
       "265  146.9  142.6  138.2  133.600000  129.000000  ...   81.400000   73.800000   \n",
       "\n",
       "           2013        2014        2015        2016        2017       2018  \\\n",
       "0           NaN         NaN         NaN         NaN         NaN        NaN   \n",
       "1     74.991597   71.996841   69.288947   66.667614   64.347025  62.115387   \n",
       "2     76.800000   73.600000   70.400000   67.600000   64.900000  62.500000   \n",
       "3    112.667923  110.264426  107.765705  105.055552  102.430680  99.598781   \n",
       "4     98.600000   93.000000   88.200000   84.200000   80.600000  77.700000   \n",
       "..          ...         ...         ...         ...         ...        ...   \n",
       "261         NaN         NaN         NaN         NaN         NaN        NaN   \n",
       "262   55.000000   55.200000   57.100000   56.800000   57.000000  58.500000   \n",
       "263   39.200000   38.100000   37.100000   36.200000   35.600000  35.000000   \n",
       "264   72.500000   69.800000   68.500000   66.500000   64.300000  63.300000   \n",
       "265   67.800000   64.400000   62.000000   59.500000   58.200000  55.900000   \n",
       "\n",
       "          2019  2020  \n",
       "0          NaN   NaN  \n",
       "1    60.098659   NaN  \n",
       "2    60.300000   NaN  \n",
       "3    96.814240   NaN  \n",
       "4    74.700000   NaN  \n",
       "..         ...   ...  \n",
       "261        NaN   NaN  \n",
       "262  58.400000   NaN  \n",
       "263  34.500000   NaN  \n",
       "264  61.700000   NaN  \n",
       "265  54.600000   NaN  \n",
       "\n",
       "[266 rows x 65 columns]>"
      ]
     },
     "execution_count": 4,
     "metadata": {},
     "output_type": "execute_result"
    }
   ],
   "source": [
    "mortality.info"
   ]
  },
  {
   "cell_type": "code",
   "execution_count": 5,
   "id": "insured-updating",
   "metadata": {},
   "outputs": [
    {
     "data": {
      "text/html": [
       "<div>\n",
       "<style scoped>\n",
       "    .dataframe tbody tr th:only-of-type {\n",
       "        vertical-align: middle;\n",
       "    }\n",
       "\n",
       "    .dataframe tbody tr th {\n",
       "        vertical-align: top;\n",
       "    }\n",
       "\n",
       "    .dataframe thead th {\n",
       "        text-align: right;\n",
       "    }\n",
       "</style>\n",
       "<table border=\"1\" class=\"dataframe\">\n",
       "  <thead>\n",
       "    <tr style=\"text-align: right;\">\n",
       "      <th></th>\n",
       "      <th>1960</th>\n",
       "      <th>1961</th>\n",
       "      <th>1962</th>\n",
       "      <th>1963</th>\n",
       "      <th>1964</th>\n",
       "      <th>1965</th>\n",
       "      <th>1966</th>\n",
       "      <th>1967</th>\n",
       "      <th>1968</th>\n",
       "      <th>1969</th>\n",
       "      <th>...</th>\n",
       "      <th>2011</th>\n",
       "      <th>2012</th>\n",
       "      <th>2013</th>\n",
       "      <th>2014</th>\n",
       "      <th>2015</th>\n",
       "      <th>2016</th>\n",
       "      <th>2017</th>\n",
       "      <th>2018</th>\n",
       "      <th>2019</th>\n",
       "      <th>2020</th>\n",
       "    </tr>\n",
       "  </thead>\n",
       "  <tbody>\n",
       "    <tr>\n",
       "      <th>count</th>\n",
       "      <td>112.000000</td>\n",
       "      <td>112.000000</td>\n",
       "      <td>116.000000</td>\n",
       "      <td>119.000000</td>\n",
       "      <td>124.000000</td>\n",
       "      <td>127.000000</td>\n",
       "      <td>129.000000</td>\n",
       "      <td>133.000000</td>\n",
       "      <td>137.000000</td>\n",
       "      <td>142.000000</td>\n",
       "      <td>...</td>\n",
       "      <td>241.000000</td>\n",
       "      <td>241.000000</td>\n",
       "      <td>241.000000</td>\n",
       "      <td>241.000000</td>\n",
       "      <td>241.000000</td>\n",
       "      <td>241.000000</td>\n",
       "      <td>241.000000</td>\n",
       "      <td>241.000000</td>\n",
       "      <td>241.000000</td>\n",
       "      <td>0.0</td>\n",
       "    </tr>\n",
       "    <tr>\n",
       "      <th>mean</th>\n",
       "      <td>151.166071</td>\n",
       "      <td>146.613393</td>\n",
       "      <td>149.111207</td>\n",
       "      <td>146.794958</td>\n",
       "      <td>146.716563</td>\n",
       "      <td>145.343472</td>\n",
       "      <td>143.094516</td>\n",
       "      <td>139.498974</td>\n",
       "      <td>134.915993</td>\n",
       "      <td>132.530716</td>\n",
       "      <td>...</td>\n",
       "      <td>38.006505</td>\n",
       "      <td>36.644066</td>\n",
       "      <td>35.375455</td>\n",
       "      <td>34.254044</td>\n",
       "      <td>33.178938</td>\n",
       "      <td>32.107112</td>\n",
       "      <td>31.126408</td>\n",
       "      <td>30.145293</td>\n",
       "      <td>29.214801</td>\n",
       "      <td>NaN</td>\n",
       "    </tr>\n",
       "    <tr>\n",
       "      <th>std</th>\n",
       "      <td>95.556097</td>\n",
       "      <td>94.282688</td>\n",
       "      <td>98.883656</td>\n",
       "      <td>99.767226</td>\n",
       "      <td>99.983448</td>\n",
       "      <td>100.351548</td>\n",
       "      <td>98.926580</td>\n",
       "      <td>97.909379</td>\n",
       "      <td>96.274734</td>\n",
       "      <td>95.129489</td>\n",
       "      <td>...</td>\n",
       "      <td>36.033354</td>\n",
       "      <td>34.745564</td>\n",
       "      <td>33.555812</td>\n",
       "      <td>32.563909</td>\n",
       "      <td>31.620253</td>\n",
       "      <td>30.478658</td>\n",
       "      <td>29.595854</td>\n",
       "      <td>28.698271</td>\n",
       "      <td>27.841743</td>\n",
       "      <td>NaN</td>\n",
       "    </tr>\n",
       "    <tr>\n",
       "      <th>min</th>\n",
       "      <td>19.600000</td>\n",
       "      <td>19.200000</td>\n",
       "      <td>18.600000</td>\n",
       "      <td>17.900000</td>\n",
       "      <td>17.100000</td>\n",
       "      <td>16.300000</td>\n",
       "      <td>15.500000</td>\n",
       "      <td>14.900000</td>\n",
       "      <td>14.400000</td>\n",
       "      <td>13.900000</td>\n",
       "      <td>...</td>\n",
       "      <td>2.500000</td>\n",
       "      <td>2.400000</td>\n",
       "      <td>2.200000</td>\n",
       "      <td>2.100000</td>\n",
       "      <td>2.000000</td>\n",
       "      <td>1.900000</td>\n",
       "      <td>1.800000</td>\n",
       "      <td>1.700000</td>\n",
       "      <td>1.700000</td>\n",
       "      <td>NaN</td>\n",
       "    </tr>\n",
       "    <tr>\n",
       "      <th>25%</th>\n",
       "      <td>66.975000</td>\n",
       "      <td>64.450000</td>\n",
       "      <td>68.550000</td>\n",
       "      <td>64.300000</td>\n",
       "      <td>63.700000</td>\n",
       "      <td>62.500000</td>\n",
       "      <td>62.000000</td>\n",
       "      <td>60.500000</td>\n",
       "      <td>56.700000</td>\n",
       "      <td>55.775000</td>\n",
       "      <td>...</td>\n",
       "      <td>10.000000</td>\n",
       "      <td>9.800000</td>\n",
       "      <td>9.300000</td>\n",
       "      <td>8.900000</td>\n",
       "      <td>8.300000</td>\n",
       "      <td>8.000000</td>\n",
       "      <td>7.700000</td>\n",
       "      <td>7.400000</td>\n",
       "      <td>7.000000</td>\n",
       "      <td>NaN</td>\n",
       "    </tr>\n",
       "    <tr>\n",
       "      <th>50%</th>\n",
       "      <td>149.400000</td>\n",
       "      <td>146.500000</td>\n",
       "      <td>142.950000</td>\n",
       "      <td>137.100000</td>\n",
       "      <td>133.150000</td>\n",
       "      <td>127.900000</td>\n",
       "      <td>125.000000</td>\n",
       "      <td>119.100000</td>\n",
       "      <td>114.800000</td>\n",
       "      <td>108.550000</td>\n",
       "      <td>...</td>\n",
       "      <td>22.400000</td>\n",
       "      <td>21.800000</td>\n",
       "      <td>21.100000</td>\n",
       "      <td>20.600000</td>\n",
       "      <td>19.700000</td>\n",
       "      <td>19.100000</td>\n",
       "      <td>18.600000</td>\n",
       "      <td>18.100000</td>\n",
       "      <td>17.300000</td>\n",
       "      <td>NaN</td>\n",
       "    </tr>\n",
       "    <tr>\n",
       "      <th>75%</th>\n",
       "      <td>220.925000</td>\n",
       "      <td>215.900000</td>\n",
       "      <td>214.525000</td>\n",
       "      <td>210.900000</td>\n",
       "      <td>218.350000</td>\n",
       "      <td>215.700000</td>\n",
       "      <td>212.600000</td>\n",
       "      <td>210.600000</td>\n",
       "      <td>200.700000</td>\n",
       "      <td>201.150000</td>\n",
       "      <td>...</td>\n",
       "      <td>59.155108</td>\n",
       "      <td>56.800000</td>\n",
       "      <td>54.600000</td>\n",
       "      <td>52.600000</td>\n",
       "      <td>50.800000</td>\n",
       "      <td>49.000000</td>\n",
       "      <td>47.300000</td>\n",
       "      <td>45.600000</td>\n",
       "      <td>44.200000</td>\n",
       "      <td>NaN</td>\n",
       "    </tr>\n",
       "    <tr>\n",
       "      <th>max</th>\n",
       "      <td>391.700000</td>\n",
       "      <td>386.300000</td>\n",
       "      <td>409.800000</td>\n",
       "      <td>420.600000</td>\n",
       "      <td>413.500000</td>\n",
       "      <td>406.500000</td>\n",
       "      <td>399.900000</td>\n",
       "      <td>393.400000</td>\n",
       "      <td>387.300000</td>\n",
       "      <td>381.400000</td>\n",
       "      <td>...</td>\n",
       "      <td>153.200000</td>\n",
       "      <td>146.600000</td>\n",
       "      <td>142.100000</td>\n",
       "      <td>137.700000</td>\n",
       "      <td>138.300000</td>\n",
       "      <td>128.400000</td>\n",
       "      <td>124.400000</td>\n",
       "      <td>120.300000</td>\n",
       "      <td>117.200000</td>\n",
       "      <td>NaN</td>\n",
       "    </tr>\n",
       "  </tbody>\n",
       "</table>\n",
       "<p>8 rows × 61 columns</p>\n",
       "</div>"
      ],
      "text/plain": [
       "             1960        1961        1962        1963        1964        1965  \\\n",
       "count  112.000000  112.000000  116.000000  119.000000  124.000000  127.000000   \n",
       "mean   151.166071  146.613393  149.111207  146.794958  146.716563  145.343472   \n",
       "std     95.556097   94.282688   98.883656   99.767226   99.983448  100.351548   \n",
       "min     19.600000   19.200000   18.600000   17.900000   17.100000   16.300000   \n",
       "25%     66.975000   64.450000   68.550000   64.300000   63.700000   62.500000   \n",
       "50%    149.400000  146.500000  142.950000  137.100000  133.150000  127.900000   \n",
       "75%    220.925000  215.900000  214.525000  210.900000  218.350000  215.700000   \n",
       "max    391.700000  386.300000  409.800000  420.600000  413.500000  406.500000   \n",
       "\n",
       "             1966        1967        1968        1969  ...        2011  \\\n",
       "count  129.000000  133.000000  137.000000  142.000000  ...  241.000000   \n",
       "mean   143.094516  139.498974  134.915993  132.530716  ...   38.006505   \n",
       "std     98.926580   97.909379   96.274734   95.129489  ...   36.033354   \n",
       "min     15.500000   14.900000   14.400000   13.900000  ...    2.500000   \n",
       "25%     62.000000   60.500000   56.700000   55.775000  ...   10.000000   \n",
       "50%    125.000000  119.100000  114.800000  108.550000  ...   22.400000   \n",
       "75%    212.600000  210.600000  200.700000  201.150000  ...   59.155108   \n",
       "max    399.900000  393.400000  387.300000  381.400000  ...  153.200000   \n",
       "\n",
       "             2012        2013        2014        2015        2016        2017  \\\n",
       "count  241.000000  241.000000  241.000000  241.000000  241.000000  241.000000   \n",
       "mean    36.644066   35.375455   34.254044   33.178938   32.107112   31.126408   \n",
       "std     34.745564   33.555812   32.563909   31.620253   30.478658   29.595854   \n",
       "min      2.400000    2.200000    2.100000    2.000000    1.900000    1.800000   \n",
       "25%      9.800000    9.300000    8.900000    8.300000    8.000000    7.700000   \n",
       "50%     21.800000   21.100000   20.600000   19.700000   19.100000   18.600000   \n",
       "75%     56.800000   54.600000   52.600000   50.800000   49.000000   47.300000   \n",
       "max    146.600000  142.100000  137.700000  138.300000  128.400000  124.400000   \n",
       "\n",
       "             2018        2019  2020  \n",
       "count  241.000000  241.000000   0.0  \n",
       "mean    30.145293   29.214801   NaN  \n",
       "std     28.698271   27.841743   NaN  \n",
       "min      1.700000    1.700000   NaN  \n",
       "25%      7.400000    7.000000   NaN  \n",
       "50%     18.100000   17.300000   NaN  \n",
       "75%     45.600000   44.200000   NaN  \n",
       "max    120.300000  117.200000   NaN  \n",
       "\n",
       "[8 rows x 61 columns]"
      ]
     },
     "execution_count": 5,
     "metadata": {},
     "output_type": "execute_result"
    }
   ],
   "source": [
    "mortality.describe()"
   ]
  },
  {
   "cell_type": "code",
   "execution_count": 6,
   "id": "superior-cooking",
   "metadata": {},
   "outputs": [
    {
     "data": {
      "text/html": [
       "<div>\n",
       "<style scoped>\n",
       "    .dataframe tbody tr th:only-of-type {\n",
       "        vertical-align: middle;\n",
       "    }\n",
       "\n",
       "    .dataframe tbody tr th {\n",
       "        vertical-align: top;\n",
       "    }\n",
       "\n",
       "    .dataframe thead th {\n",
       "        text-align: right;\n",
       "    }\n",
       "</style>\n",
       "<table border=\"1\" class=\"dataframe\">\n",
       "  <thead>\n",
       "    <tr style=\"text-align: right;\">\n",
       "      <th></th>\n",
       "      <th>Country Name</th>\n",
       "      <th>Country Code</th>\n",
       "      <th>Indicator Name</th>\n",
       "      <th>Indicator Code</th>\n",
       "    </tr>\n",
       "  </thead>\n",
       "  <tbody>\n",
       "    <tr>\n",
       "      <th>count</th>\n",
       "      <td>266</td>\n",
       "      <td>266</td>\n",
       "      <td>266</td>\n",
       "      <td>266</td>\n",
       "    </tr>\n",
       "    <tr>\n",
       "      <th>unique</th>\n",
       "      <td>266</td>\n",
       "      <td>266</td>\n",
       "      <td>1</td>\n",
       "      <td>1</td>\n",
       "    </tr>\n",
       "    <tr>\n",
       "      <th>top</th>\n",
       "      <td>Ireland</td>\n",
       "      <td>LUX</td>\n",
       "      <td>Mortality rate, under-5 (per 1,000 live births)</td>\n",
       "      <td>SH.DYN.MORT</td>\n",
       "    </tr>\n",
       "    <tr>\n",
       "      <th>freq</th>\n",
       "      <td>1</td>\n",
       "      <td>1</td>\n",
       "      <td>266</td>\n",
       "      <td>266</td>\n",
       "    </tr>\n",
       "  </tbody>\n",
       "</table>\n",
       "</div>"
      ],
      "text/plain": [
       "       Country Name Country Code  \\\n",
       "count           266          266   \n",
       "unique          266          266   \n",
       "top         Ireland          LUX   \n",
       "freq              1            1   \n",
       "\n",
       "                                         Indicator Name Indicator Code  \n",
       "count                                               266            266  \n",
       "unique                                                1              1  \n",
       "top     Mortality rate, under-5 (per 1,000 live births)    SH.DYN.MORT  \n",
       "freq                                                266            266  "
      ]
     },
     "execution_count": 6,
     "metadata": {},
     "output_type": "execute_result"
    }
   ],
   "source": [
    "mortality.describe(include=object)"
   ]
  },
  {
   "cell_type": "code",
   "execution_count": 7,
   "id": "quarterly-insulation",
   "metadata": {},
   "outputs": [
    {
     "data": {
      "text/plain": [
       "Country Name        0.000000\n",
       "Country Code        0.000000\n",
       "Indicator Name      0.000000\n",
       "Indicator Code      0.000000\n",
       "1960               57.894737\n",
       "                     ...    \n",
       "2016                9.398496\n",
       "2017                9.398496\n",
       "2018                9.398496\n",
       "2019                9.398496\n",
       "2020              100.000000\n",
       "Length: 65, dtype: float64"
      ]
     },
     "execution_count": 7,
     "metadata": {},
     "output_type": "execute_result"
    }
   ],
   "source": [
    "mortality.isnull().sum()*100/mortality.shape[0]"
   ]
  },
  {
   "cell_type": "code",
   "execution_count": 8,
   "id": "organized-capacity",
   "metadata": {},
   "outputs": [
    {
     "data": {
      "text/plain": [
       "0"
      ]
     },
     "execution_count": 8,
     "metadata": {},
     "output_type": "execute_result"
    }
   ],
   "source": [
    "mortality.duplicated().sum()"
   ]
  },
  {
   "cell_type": "code",
   "execution_count": 9,
   "id": "extra-attempt",
   "metadata": {},
   "outputs": [
    {
     "data": {
      "text/plain": [
       "Index(['Country Name', 'Country Code', 'Indicator Name', 'Indicator Code',\n",
       "       '1960', '1961', '1962', '1963', '1964', '1965', '1966', '1967', '1968',\n",
       "       '1969', '1970', '1971', '1972', '1973', '1974', '1975', '1976', '1977',\n",
       "       '1978', '1979', '1980', '1981', '1982', '1983', '1984', '1985', '1986',\n",
       "       '1987', '1988', '1989', '1990', '1991', '1992', '1993', '1994', '1995',\n",
       "       '1996', '1997', '1998', '1999', '2000', '2001', '2002', '2003', '2004',\n",
       "       '2005', '2006', '2007', '2008', '2009', '2010', '2011', '2012', '2013',\n",
       "       '2014', '2015', '2016', '2017', '2018', '2019', '2020'],\n",
       "      dtype='object')"
      ]
     },
     "execution_count": 9,
     "metadata": {},
     "output_type": "execute_result"
    }
   ],
   "source": [
    "mortality.columns"
   ]
  },
  {
   "cell_type": "markdown",
   "id": "geological-telephone",
   "metadata": {},
   "source": [
    "#### Since 2020 has no observations and the years below 2000 will not provide any sufficient recent conclusions and recommendations other than provide a downward trend, these columns or variables will be dropped to accomodate other databases which has lesser years as well. "
   ]
  },
  {
   "cell_type": "code",
   "execution_count": 10,
   "id": "spiritual-istanbul",
   "metadata": {},
   "outputs": [
    {
     "data": {
      "text/html": [
       "<div>\n",
       "<style scoped>\n",
       "    .dataframe tbody tr th:only-of-type {\n",
       "        vertical-align: middle;\n",
       "    }\n",
       "\n",
       "    .dataframe tbody tr th {\n",
       "        vertical-align: top;\n",
       "    }\n",
       "\n",
       "    .dataframe thead th {\n",
       "        text-align: right;\n",
       "    }\n",
       "</style>\n",
       "<table border=\"1\" class=\"dataframe\">\n",
       "  <thead>\n",
       "    <tr style=\"text-align: right;\">\n",
       "      <th></th>\n",
       "      <th>Country Name</th>\n",
       "      <th>Country Code</th>\n",
       "      <th>Indicator Name</th>\n",
       "      <th>Indicator Code</th>\n",
       "      <th>2000</th>\n",
       "      <th>2001</th>\n",
       "      <th>2002</th>\n",
       "      <th>2003</th>\n",
       "      <th>2004</th>\n",
       "      <th>2005</th>\n",
       "      <th>...</th>\n",
       "      <th>2010</th>\n",
       "      <th>2011</th>\n",
       "      <th>2012</th>\n",
       "      <th>2013</th>\n",
       "      <th>2014</th>\n",
       "      <th>2015</th>\n",
       "      <th>2016</th>\n",
       "      <th>2017</th>\n",
       "      <th>2018</th>\n",
       "      <th>2019</th>\n",
       "    </tr>\n",
       "  </thead>\n",
       "  <tbody>\n",
       "    <tr>\n",
       "      <th>0</th>\n",
       "      <td>Aruba</td>\n",
       "      <td>ABW</td>\n",
       "      <td>Mortality rate, under-5 (per 1,000 live births)</td>\n",
       "      <td>SH.DYN.MORT</td>\n",
       "      <td>NaN</td>\n",
       "      <td>NaN</td>\n",
       "      <td>NaN</td>\n",
       "      <td>NaN</td>\n",
       "      <td>NaN</td>\n",
       "      <td>NaN</td>\n",
       "      <td>...</td>\n",
       "      <td>NaN</td>\n",
       "      <td>NaN</td>\n",
       "      <td>NaN</td>\n",
       "      <td>NaN</td>\n",
       "      <td>NaN</td>\n",
       "      <td>NaN</td>\n",
       "      <td>NaN</td>\n",
       "      <td>NaN</td>\n",
       "      <td>NaN</td>\n",
       "      <td>NaN</td>\n",
       "    </tr>\n",
       "    <tr>\n",
       "      <th>1</th>\n",
       "      <td>Africa Eastern and Southern</td>\n",
       "      <td>AFE</td>\n",
       "      <td>Mortality rate, under-5 (per 1,000 live births)</td>\n",
       "      <td>SH.DYN.MORT</td>\n",
       "      <td>136.917815</td>\n",
       "      <td>131.670422</td>\n",
       "      <td>126.139085</td>\n",
       "      <td>120.635993</td>\n",
       "      <td>115.263632</td>\n",
       "      <td>110.060055</td>\n",
       "      <td>...</td>\n",
       "      <td>86.208587</td>\n",
       "      <td>82.105187</td>\n",
       "      <td>78.354228</td>\n",
       "      <td>74.991597</td>\n",
       "      <td>71.996841</td>\n",
       "      <td>69.288947</td>\n",
       "      <td>66.667614</td>\n",
       "      <td>64.347025</td>\n",
       "      <td>62.115387</td>\n",
       "      <td>60.098659</td>\n",
       "    </tr>\n",
       "    <tr>\n",
       "      <th>2</th>\n",
       "      <td>Afghanistan</td>\n",
       "      <td>AFG</td>\n",
       "      <td>Mortality rate, under-5 (per 1,000 live births)</td>\n",
       "      <td>SH.DYN.MORT</td>\n",
       "      <td>128.700000</td>\n",
       "      <td>124.600000</td>\n",
       "      <td>120.400000</td>\n",
       "      <td>116.300000</td>\n",
       "      <td>112.100000</td>\n",
       "      <td>107.900000</td>\n",
       "      <td>...</td>\n",
       "      <td>87.600000</td>\n",
       "      <td>83.900000</td>\n",
       "      <td>80.300000</td>\n",
       "      <td>76.800000</td>\n",
       "      <td>73.600000</td>\n",
       "      <td>70.400000</td>\n",
       "      <td>67.600000</td>\n",
       "      <td>64.900000</td>\n",
       "      <td>62.500000</td>\n",
       "      <td>60.300000</td>\n",
       "    </tr>\n",
       "    <tr>\n",
       "      <th>3</th>\n",
       "      <td>Africa Western and Central</td>\n",
       "      <td>AFW</td>\n",
       "      <td>Mortality rate, under-5 (per 1,000 live births)</td>\n",
       "      <td>SH.DYN.MORT</td>\n",
       "      <td>169.548432</td>\n",
       "      <td>164.533824</td>\n",
       "      <td>159.251950</td>\n",
       "      <td>153.916285</td>\n",
       "      <td>148.577352</td>\n",
       "      <td>143.417384</td>\n",
       "      <td>...</td>\n",
       "      <td>121.783273</td>\n",
       "      <td>118.442692</td>\n",
       "      <td>115.498791</td>\n",
       "      <td>112.667923</td>\n",
       "      <td>110.264426</td>\n",
       "      <td>107.765705</td>\n",
       "      <td>105.055552</td>\n",
       "      <td>102.430680</td>\n",
       "      <td>99.598781</td>\n",
       "      <td>96.814240</td>\n",
       "    </tr>\n",
       "    <tr>\n",
       "      <th>4</th>\n",
       "      <td>Angola</td>\n",
       "      <td>AGO</td>\n",
       "      <td>Mortality rate, under-5 (per 1,000 live births)</td>\n",
       "      <td>SH.DYN.MORT</td>\n",
       "      <td>203.900000</td>\n",
       "      <td>197.800000</td>\n",
       "      <td>190.900000</td>\n",
       "      <td>183.200000</td>\n",
       "      <td>174.600000</td>\n",
       "      <td>165.600000</td>\n",
       "      <td>...</td>\n",
       "      <td>120.300000</td>\n",
       "      <td>112.300000</td>\n",
       "      <td>105.000000</td>\n",
       "      <td>98.600000</td>\n",
       "      <td>93.000000</td>\n",
       "      <td>88.200000</td>\n",
       "      <td>84.200000</td>\n",
       "      <td>80.600000</td>\n",
       "      <td>77.700000</td>\n",
       "      <td>74.700000</td>\n",
       "    </tr>\n",
       "  </tbody>\n",
       "</table>\n",
       "<p>5 rows × 24 columns</p>\n",
       "</div>"
      ],
      "text/plain": [
       "                  Country Name Country Code  \\\n",
       "0                        Aruba          ABW   \n",
       "1  Africa Eastern and Southern          AFE   \n",
       "2                  Afghanistan          AFG   \n",
       "3   Africa Western and Central          AFW   \n",
       "4                       Angola          AGO   \n",
       "\n",
       "                                    Indicator Name Indicator Code        2000  \\\n",
       "0  Mortality rate, under-5 (per 1,000 live births)    SH.DYN.MORT         NaN   \n",
       "1  Mortality rate, under-5 (per 1,000 live births)    SH.DYN.MORT  136.917815   \n",
       "2  Mortality rate, under-5 (per 1,000 live births)    SH.DYN.MORT  128.700000   \n",
       "3  Mortality rate, under-5 (per 1,000 live births)    SH.DYN.MORT  169.548432   \n",
       "4  Mortality rate, under-5 (per 1,000 live births)    SH.DYN.MORT  203.900000   \n",
       "\n",
       "         2001        2002        2003        2004        2005  ...  \\\n",
       "0         NaN         NaN         NaN         NaN         NaN  ...   \n",
       "1  131.670422  126.139085  120.635993  115.263632  110.060055  ...   \n",
       "2  124.600000  120.400000  116.300000  112.100000  107.900000  ...   \n",
       "3  164.533824  159.251950  153.916285  148.577352  143.417384  ...   \n",
       "4  197.800000  190.900000  183.200000  174.600000  165.600000  ...   \n",
       "\n",
       "         2010        2011        2012        2013        2014        2015  \\\n",
       "0         NaN         NaN         NaN         NaN         NaN         NaN   \n",
       "1   86.208587   82.105187   78.354228   74.991597   71.996841   69.288947   \n",
       "2   87.600000   83.900000   80.300000   76.800000   73.600000   70.400000   \n",
       "3  121.783273  118.442692  115.498791  112.667923  110.264426  107.765705   \n",
       "4  120.300000  112.300000  105.000000   98.600000   93.000000   88.200000   \n",
       "\n",
       "         2016        2017       2018       2019  \n",
       "0         NaN         NaN        NaN        NaN  \n",
       "1   66.667614   64.347025  62.115387  60.098659  \n",
       "2   67.600000   64.900000  62.500000  60.300000  \n",
       "3  105.055552  102.430680  99.598781  96.814240  \n",
       "4   84.200000   80.600000  77.700000  74.700000  \n",
       "\n",
       "[5 rows x 24 columns]"
      ]
     },
     "execution_count": 10,
     "metadata": {},
     "output_type": "execute_result"
    }
   ],
   "source": [
    "mortality.drop(['1960', '1961', '1962', '1963', '1964', '1965', '1966', '1967', '1968',\n",
    "       '1969', '1970', '1971', '1972', '1973', '1974', '1975', '1976', '1977',\n",
    "       '1978', '1979', '1980', '1981', '1982', '1983', '1984', '1985', '1986',\n",
    "       '1987', '1988', '1989', '1990', '1991', '1992', '1993', '1994', '1995',\n",
    "       '1996', '1997', '1998', '1999', '2020'], axis=1, inplace=True)\n",
    "\n",
    "mortality.head()"
   ]
  },
  {
   "cell_type": "code",
   "execution_count": 11,
   "id": "demonstrated-joyce",
   "metadata": {},
   "outputs": [
    {
     "data": {
      "text/plain": [
       "Country Name      0.000000\n",
       "Country Code      0.000000\n",
       "Indicator Name    0.000000\n",
       "Indicator Code    0.000000\n",
       "2000              9.398496\n",
       "2001              9.398496\n",
       "2002              9.398496\n",
       "2003              9.398496\n",
       "2004              9.398496\n",
       "2005              9.398496\n",
       "2006              9.398496\n",
       "2007              9.398496\n",
       "2008              9.398496\n",
       "2009              9.398496\n",
       "2010              9.398496\n",
       "2011              9.398496\n",
       "2012              9.398496\n",
       "2013              9.398496\n",
       "2014              9.398496\n",
       "2015              9.398496\n",
       "2016              9.398496\n",
       "2017              9.398496\n",
       "2018              9.398496\n",
       "2019              9.398496\n",
       "dtype: float64"
      ]
     },
     "execution_count": 11,
     "metadata": {},
     "output_type": "execute_result"
    }
   ],
   "source": [
    "mortality.isnull().sum()*100/mortality.shape[0]"
   ]
  },
  {
   "cell_type": "markdown",
   "id": "initial-sport",
   "metadata": {},
   "source": [
    "#### Since there are 9.40% nulls, these can also be dropped in the table at it has neglible effect in the aggregated and summarized analysis. "
   ]
  },
  {
   "cell_type": "code",
   "execution_count": 12,
   "id": "domestic-berlin",
   "metadata": {},
   "outputs": [
    {
     "data": {
      "text/html": [
       "<div>\n",
       "<style scoped>\n",
       "    .dataframe tbody tr th:only-of-type {\n",
       "        vertical-align: middle;\n",
       "    }\n",
       "\n",
       "    .dataframe tbody tr th {\n",
       "        vertical-align: top;\n",
       "    }\n",
       "\n",
       "    .dataframe thead th {\n",
       "        text-align: right;\n",
       "    }\n",
       "</style>\n",
       "<table border=\"1\" class=\"dataframe\">\n",
       "  <thead>\n",
       "    <tr style=\"text-align: right;\">\n",
       "      <th></th>\n",
       "      <th>Country Name</th>\n",
       "      <th>Country Code</th>\n",
       "      <th>Indicator Name</th>\n",
       "      <th>Indicator Code</th>\n",
       "      <th>2000</th>\n",
       "      <th>2001</th>\n",
       "      <th>2002</th>\n",
       "      <th>2003</th>\n",
       "      <th>2004</th>\n",
       "      <th>2005</th>\n",
       "      <th>...</th>\n",
       "      <th>2010</th>\n",
       "      <th>2011</th>\n",
       "      <th>2012</th>\n",
       "      <th>2013</th>\n",
       "      <th>2014</th>\n",
       "      <th>2015</th>\n",
       "      <th>2016</th>\n",
       "      <th>2017</th>\n",
       "      <th>2018</th>\n",
       "      <th>2019</th>\n",
       "    </tr>\n",
       "  </thead>\n",
       "  <tbody>\n",
       "    <tr>\n",
       "      <th>1</th>\n",
       "      <td>Africa Eastern and Southern</td>\n",
       "      <td>AFE</td>\n",
       "      <td>Mortality rate, under-5 (per 1,000 live births)</td>\n",
       "      <td>SH.DYN.MORT</td>\n",
       "      <td>136.917815</td>\n",
       "      <td>131.670422</td>\n",
       "      <td>126.139085</td>\n",
       "      <td>120.635993</td>\n",
       "      <td>115.263632</td>\n",
       "      <td>110.060055</td>\n",
       "      <td>...</td>\n",
       "      <td>86.208587</td>\n",
       "      <td>82.105187</td>\n",
       "      <td>78.354228</td>\n",
       "      <td>74.991597</td>\n",
       "      <td>71.996841</td>\n",
       "      <td>69.288947</td>\n",
       "      <td>66.667614</td>\n",
       "      <td>64.347025</td>\n",
       "      <td>62.115387</td>\n",
       "      <td>60.098659</td>\n",
       "    </tr>\n",
       "    <tr>\n",
       "      <th>2</th>\n",
       "      <td>Afghanistan</td>\n",
       "      <td>AFG</td>\n",
       "      <td>Mortality rate, under-5 (per 1,000 live births)</td>\n",
       "      <td>SH.DYN.MORT</td>\n",
       "      <td>128.700000</td>\n",
       "      <td>124.600000</td>\n",
       "      <td>120.400000</td>\n",
       "      <td>116.300000</td>\n",
       "      <td>112.100000</td>\n",
       "      <td>107.900000</td>\n",
       "      <td>...</td>\n",
       "      <td>87.600000</td>\n",
       "      <td>83.900000</td>\n",
       "      <td>80.300000</td>\n",
       "      <td>76.800000</td>\n",
       "      <td>73.600000</td>\n",
       "      <td>70.400000</td>\n",
       "      <td>67.600000</td>\n",
       "      <td>64.900000</td>\n",
       "      <td>62.500000</td>\n",
       "      <td>60.300000</td>\n",
       "    </tr>\n",
       "    <tr>\n",
       "      <th>3</th>\n",
       "      <td>Africa Western and Central</td>\n",
       "      <td>AFW</td>\n",
       "      <td>Mortality rate, under-5 (per 1,000 live births)</td>\n",
       "      <td>SH.DYN.MORT</td>\n",
       "      <td>169.548432</td>\n",
       "      <td>164.533824</td>\n",
       "      <td>159.251950</td>\n",
       "      <td>153.916285</td>\n",
       "      <td>148.577352</td>\n",
       "      <td>143.417384</td>\n",
       "      <td>...</td>\n",
       "      <td>121.783273</td>\n",
       "      <td>118.442692</td>\n",
       "      <td>115.498791</td>\n",
       "      <td>112.667923</td>\n",
       "      <td>110.264426</td>\n",
       "      <td>107.765705</td>\n",
       "      <td>105.055552</td>\n",
       "      <td>102.430680</td>\n",
       "      <td>99.598781</td>\n",
       "      <td>96.814240</td>\n",
       "    </tr>\n",
       "    <tr>\n",
       "      <th>4</th>\n",
       "      <td>Angola</td>\n",
       "      <td>AGO</td>\n",
       "      <td>Mortality rate, under-5 (per 1,000 live births)</td>\n",
       "      <td>SH.DYN.MORT</td>\n",
       "      <td>203.900000</td>\n",
       "      <td>197.800000</td>\n",
       "      <td>190.900000</td>\n",
       "      <td>183.200000</td>\n",
       "      <td>174.600000</td>\n",
       "      <td>165.600000</td>\n",
       "      <td>...</td>\n",
       "      <td>120.300000</td>\n",
       "      <td>112.300000</td>\n",
       "      <td>105.000000</td>\n",
       "      <td>98.600000</td>\n",
       "      <td>93.000000</td>\n",
       "      <td>88.200000</td>\n",
       "      <td>84.200000</td>\n",
       "      <td>80.600000</td>\n",
       "      <td>77.700000</td>\n",
       "      <td>74.700000</td>\n",
       "    </tr>\n",
       "    <tr>\n",
       "      <th>5</th>\n",
       "      <td>Albania</td>\n",
       "      <td>ALB</td>\n",
       "      <td>Mortality rate, under-5 (per 1,000 live births)</td>\n",
       "      <td>SH.DYN.MORT</td>\n",
       "      <td>27.200000</td>\n",
       "      <td>25.800000</td>\n",
       "      <td>24.400000</td>\n",
       "      <td>22.900000</td>\n",
       "      <td>21.400000</td>\n",
       "      <td>20.000000</td>\n",
       "      <td>...</td>\n",
       "      <td>13.200000</td>\n",
       "      <td>12.100000</td>\n",
       "      <td>11.200000</td>\n",
       "      <td>10.400000</td>\n",
       "      <td>9.900000</td>\n",
       "      <td>9.600000</td>\n",
       "      <td>9.400000</td>\n",
       "      <td>9.400000</td>\n",
       "      <td>9.500000</td>\n",
       "      <td>9.700000</td>\n",
       "    </tr>\n",
       "  </tbody>\n",
       "</table>\n",
       "<p>5 rows × 24 columns</p>\n",
       "</div>"
      ],
      "text/plain": [
       "                  Country Name Country Code  \\\n",
       "1  Africa Eastern and Southern          AFE   \n",
       "2                  Afghanistan          AFG   \n",
       "3   Africa Western and Central          AFW   \n",
       "4                       Angola          AGO   \n",
       "5                      Albania          ALB   \n",
       "\n",
       "                                    Indicator Name Indicator Code        2000  \\\n",
       "1  Mortality rate, under-5 (per 1,000 live births)    SH.DYN.MORT  136.917815   \n",
       "2  Mortality rate, under-5 (per 1,000 live births)    SH.DYN.MORT  128.700000   \n",
       "3  Mortality rate, under-5 (per 1,000 live births)    SH.DYN.MORT  169.548432   \n",
       "4  Mortality rate, under-5 (per 1,000 live births)    SH.DYN.MORT  203.900000   \n",
       "5  Mortality rate, under-5 (per 1,000 live births)    SH.DYN.MORT   27.200000   \n",
       "\n",
       "         2001        2002        2003        2004        2005  ...  \\\n",
       "1  131.670422  126.139085  120.635993  115.263632  110.060055  ...   \n",
       "2  124.600000  120.400000  116.300000  112.100000  107.900000  ...   \n",
       "3  164.533824  159.251950  153.916285  148.577352  143.417384  ...   \n",
       "4  197.800000  190.900000  183.200000  174.600000  165.600000  ...   \n",
       "5   25.800000   24.400000   22.900000   21.400000   20.000000  ...   \n",
       "\n",
       "         2010        2011        2012        2013        2014        2015  \\\n",
       "1   86.208587   82.105187   78.354228   74.991597   71.996841   69.288947   \n",
       "2   87.600000   83.900000   80.300000   76.800000   73.600000   70.400000   \n",
       "3  121.783273  118.442692  115.498791  112.667923  110.264426  107.765705   \n",
       "4  120.300000  112.300000  105.000000   98.600000   93.000000   88.200000   \n",
       "5   13.200000   12.100000   11.200000   10.400000    9.900000    9.600000   \n",
       "\n",
       "         2016        2017       2018       2019  \n",
       "1   66.667614   64.347025  62.115387  60.098659  \n",
       "2   67.600000   64.900000  62.500000  60.300000  \n",
       "3  105.055552  102.430680  99.598781  96.814240  \n",
       "4   84.200000   80.600000  77.700000  74.700000  \n",
       "5    9.400000    9.400000   9.500000   9.700000  \n",
       "\n",
       "[5 rows x 24 columns]"
      ]
     },
     "execution_count": 12,
     "metadata": {},
     "output_type": "execute_result"
    }
   ],
   "source": [
    "cleaned_mortality = mortality.dropna(axis=0)\n",
    "cleaned_mortality.head()"
   ]
  },
  {
   "cell_type": "code",
   "execution_count": 13,
   "id": "deadly-smith",
   "metadata": {},
   "outputs": [
    {
     "data": {
      "text/plain": [
       "Country Name      0.0\n",
       "Country Code      0.0\n",
       "Indicator Name    0.0\n",
       "Indicator Code    0.0\n",
       "2000              0.0\n",
       "2001              0.0\n",
       "2002              0.0\n",
       "2003              0.0\n",
       "2004              0.0\n",
       "2005              0.0\n",
       "2006              0.0\n",
       "2007              0.0\n",
       "2008              0.0\n",
       "2009              0.0\n",
       "2010              0.0\n",
       "2011              0.0\n",
       "2012              0.0\n",
       "2013              0.0\n",
       "2014              0.0\n",
       "2015              0.0\n",
       "2016              0.0\n",
       "2017              0.0\n",
       "2018              0.0\n",
       "2019              0.0\n",
       "dtype: float64"
      ]
     },
     "execution_count": 13,
     "metadata": {},
     "output_type": "execute_result"
    }
   ],
   "source": [
    "cleaned_mortality.isnull().sum()*100/cleaned_mortality.shape[0]"
   ]
  },
  {
   "cell_type": "code",
   "execution_count": 14,
   "id": "surprised-vanilla",
   "metadata": {},
   "outputs": [
    {
     "data": {
      "text/plain": [
       "array(['Africa Eastern and Southern', 'Afghanistan',\n",
       "       'Africa Western and Central', 'Angola', 'Albania', 'Andorra',\n",
       "       'Arab World', 'United Arab Emirates', 'Argentina', 'Armenia',\n",
       "       'Antigua and Barbuda', 'Australia', 'Austria', 'Azerbaijan',\n",
       "       'Burundi', 'Belgium', 'Benin', 'Burkina Faso', 'Bangladesh',\n",
       "       'Bulgaria', 'Bahrain', 'Bahamas, The', 'Bosnia and Herzegovina',\n",
       "       'Belarus', 'Belize', 'Bolivia', 'Brazil', 'Barbados',\n",
       "       'Brunei Darussalam', 'Bhutan', 'Botswana',\n",
       "       'Central African Republic', 'Canada',\n",
       "       'Central Europe and the Baltics', 'Switzerland', 'Chile', 'China',\n",
       "       \"Cote d'Ivoire\", 'Cameroon', 'Congo, Dem. Rep.', 'Congo, Rep.',\n",
       "       'Colombia', 'Comoros', 'Cabo Verde', 'Costa Rica',\n",
       "       'Caribbean small states', 'Cuba', 'Cyprus', 'Czech Republic',\n",
       "       'Germany', 'Djibouti', 'Dominica', 'Denmark', 'Dominican Republic',\n",
       "       'Algeria', 'East Asia & Pacific (excluding high income)',\n",
       "       'Early-demographic dividend', 'East Asia & Pacific',\n",
       "       'Europe & Central Asia (excluding high income)',\n",
       "       'Europe & Central Asia', 'Ecuador', 'Egypt, Arab Rep.',\n",
       "       'Euro area', 'Eritrea', 'Spain', 'Estonia', 'Ethiopia',\n",
       "       'European Union', 'Fragile and conflict affected situations',\n",
       "       'Finland', 'Fiji', 'France', 'Micronesia, Fed. Sts.', 'Gabon',\n",
       "       'United Kingdom', 'Georgia', 'Ghana', 'Guinea', 'Gambia, The',\n",
       "       'Guinea-Bissau', 'Equatorial Guinea', 'Greece', 'Grenada',\n",
       "       'Guatemala', 'Guyana', 'High income', 'Honduras',\n",
       "       'Heavily indebted poor countries (HIPC)', 'Croatia', 'Haiti',\n",
       "       'Hungary', 'IBRD only', 'IDA & IBRD total', 'IDA total',\n",
       "       'IDA blend', 'Indonesia', 'IDA only', 'India', 'Ireland',\n",
       "       'Iran, Islamic Rep.', 'Iraq', 'Iceland', 'Israel', 'Italy',\n",
       "       'Jamaica', 'Jordan', 'Japan', 'Kazakhstan', 'Kenya',\n",
       "       'Kyrgyz Republic', 'Cambodia', 'Kiribati', 'St. Kitts and Nevis',\n",
       "       'Korea, Rep.', 'Kuwait',\n",
       "       'Latin America & Caribbean (excluding high income)', 'Lao PDR',\n",
       "       'Lebanon', 'Liberia', 'Libya', 'St. Lucia',\n",
       "       'Latin America & Caribbean',\n",
       "       'Least developed countries: UN classification', 'Low income',\n",
       "       'Sri Lanka', 'Lower middle income', 'Low & middle income',\n",
       "       'Lesotho', 'Late-demographic dividend', 'Lithuania', 'Luxembourg',\n",
       "       'Latvia', 'Morocco', 'Monaco', 'Moldova', 'Madagascar', 'Maldives',\n",
       "       'Middle East & North Africa', 'Mexico', 'Marshall Islands',\n",
       "       'Middle income', 'North Macedonia', 'Mali', 'Malta', 'Myanmar',\n",
       "       'Middle East & North Africa (excluding high income)', 'Montenegro',\n",
       "       'Mongolia', 'Mozambique', 'Mauritania', 'Mauritius', 'Malawi',\n",
       "       'Malaysia', 'North America', 'Namibia', 'Niger', 'Nigeria',\n",
       "       'Nicaragua', 'Netherlands', 'Norway', 'Nepal', 'Nauru',\n",
       "       'New Zealand', 'OECD members', 'Oman', 'Other small states',\n",
       "       'Pakistan', 'Panama', 'Peru', 'Philippines', 'Palau',\n",
       "       'Papua New Guinea', 'Poland', 'Pre-demographic dividend',\n",
       "       \"Korea, Dem. People's Rep.\", 'Portugal', 'Paraguay',\n",
       "       'West Bank and Gaza', 'Pacific island small states',\n",
       "       'Post-demographic dividend', 'Qatar', 'Romania',\n",
       "       'Russian Federation', 'Rwanda', 'South Asia', 'Saudi Arabia',\n",
       "       'Sudan', 'Senegal', 'Singapore', 'Solomon Islands', 'Sierra Leone',\n",
       "       'El Salvador', 'San Marino', 'Somalia', 'Serbia',\n",
       "       'Sub-Saharan Africa (excluding high income)', 'South Sudan',\n",
       "       'Sub-Saharan Africa', 'Small states', 'Sao Tome and Principe',\n",
       "       'Suriname', 'Slovak Republic', 'Slovenia', 'Sweden', 'Eswatini',\n",
       "       'Seychelles', 'Syrian Arab Republic', 'Chad',\n",
       "       'East Asia & Pacific (IDA & IBRD countries)',\n",
       "       'Europe & Central Asia (IDA & IBRD countries)', 'Togo', 'Thailand',\n",
       "       'Tajikistan', 'Turkmenistan',\n",
       "       'Latin America & the Caribbean (IDA & IBRD countries)',\n",
       "       'Timor-Leste', 'Middle East & North Africa (IDA & IBRD countries)',\n",
       "       'Tonga', 'South Asia (IDA & IBRD)',\n",
       "       'Sub-Saharan Africa (IDA & IBRD countries)', 'Trinidad and Tobago',\n",
       "       'Tunisia', 'Turkey', 'Tuvalu', 'Tanzania', 'Uganda', 'Ukraine',\n",
       "       'Upper middle income', 'Uruguay', 'United States', 'Uzbekistan',\n",
       "       'St. Vincent and the Grenadines', 'Venezuela, RB', 'Vietnam',\n",
       "       'Vanuatu', 'World', 'Samoa', 'Yemen, Rep.', 'South Africa',\n",
       "       'Zambia', 'Zimbabwe'], dtype=object)"
      ]
     },
     "execution_count": 14,
     "metadata": {},
     "output_type": "execute_result"
    }
   ],
   "source": [
    "cleaned_mortality['Country Name'].unique()"
   ]
  },
  {
   "cell_type": "code",
   "execution_count": 15,
   "id": "flush-saver",
   "metadata": {
    "tags": []
   },
   "outputs": [],
   "source": [
    "cleaned_mortality.to_csv('Databases/cleaned_mortality.csv')"
   ]
  },
  {
   "cell_type": "code",
   "execution_count": 16,
   "id": "polar-reminder",
   "metadata": {
    "tags": []
   },
   "outputs": [
    {
     "data": {
      "text/html": [
       "<div>\n",
       "<style scoped>\n",
       "    .dataframe tbody tr th:only-of-type {\n",
       "        vertical-align: middle;\n",
       "    }\n",
       "\n",
       "    .dataframe tbody tr th {\n",
       "        vertical-align: top;\n",
       "    }\n",
       "\n",
       "    .dataframe thead th {\n",
       "        text-align: right;\n",
       "    }\n",
       "</style>\n",
       "<table border=\"1\" class=\"dataframe\">\n",
       "  <thead>\n",
       "    <tr style=\"text-align: right;\">\n",
       "      <th></th>\n",
       "      <th>Country Name</th>\n",
       "      <th>2019</th>\n",
       "    </tr>\n",
       "  </thead>\n",
       "  <tbody>\n",
       "    <tr>\n",
       "      <th>212</th>\n",
       "      <td>San Marino</td>\n",
       "      <td>1.7</td>\n",
       "    </tr>\n",
       "    <tr>\n",
       "      <th>114</th>\n",
       "      <td>Iceland</td>\n",
       "      <td>2.0</td>\n",
       "    </tr>\n",
       "    <tr>\n",
       "      <th>222</th>\n",
       "      <td>Slovenia</td>\n",
       "      <td>2.1</td>\n",
       "    </tr>\n",
       "    <tr>\n",
       "      <th>53</th>\n",
       "      <td>Cyprus</td>\n",
       "      <td>2.3</td>\n",
       "    </tr>\n",
       "    <tr>\n",
       "      <th>162</th>\n",
       "      <td>Montenegro</td>\n",
       "      <td>2.3</td>\n",
       "    </tr>\n",
       "    <tr>\n",
       "      <th>177</th>\n",
       "      <td>Norway</td>\n",
       "      <td>2.4</td>\n",
       "    </tr>\n",
       "    <tr>\n",
       "      <th>71</th>\n",
       "      <td>Estonia</td>\n",
       "      <td>2.4</td>\n",
       "    </tr>\n",
       "    <tr>\n",
       "      <th>75</th>\n",
       "      <td>Finland</td>\n",
       "      <td>2.4</td>\n",
       "    </tr>\n",
       "    <tr>\n",
       "      <th>119</th>\n",
       "      <td>Japan</td>\n",
       "      <td>2.5</td>\n",
       "    </tr>\n",
       "    <tr>\n",
       "      <th>208</th>\n",
       "      <td>Singapore</td>\n",
       "      <td>2.5</td>\n",
       "    </tr>\n",
       "  </tbody>\n",
       "</table>\n",
       "</div>"
      ],
      "text/plain": [
       "    Country Name  2019\n",
       "212   San Marino   1.7\n",
       "114      Iceland   2.0\n",
       "222     Slovenia   2.1\n",
       "53        Cyprus   2.3\n",
       "162   Montenegro   2.3\n",
       "177       Norway   2.4\n",
       "71       Estonia   2.4\n",
       "75       Finland   2.4\n",
       "119        Japan   2.5\n",
       "208    Singapore   2.5"
      ]
     },
     "execution_count": 16,
     "metadata": {},
     "output_type": "execute_result"
    }
   ],
   "source": [
    "cleaned_mortality1 = cleaned_mortality.sort_values(by = '2019', ascending = True).head(10)\n",
    "cleaned_mortality1.drop(['Country Code', 'Indicator Name', 'Indicator Code', '2000', '2001', '2002', '2003', '2004', '2005', '2006', '2007', '2008', '2009', '2010', '2011', '2012', '2013', '2014', '2015', '2016', '2017', '2018'], axis=1, inplace=True)\n",
    "cleaned_mortality1"
   ]
  },
  {
   "cell_type": "code",
   "execution_count": 69,
   "id": "increasing-kidney",
   "metadata": {
    "tags": []
   },
   "outputs": [
    {
     "data": {
      "image/png": "[encoded data removed]",
      "text/plain": [
       "<Figure size 1080x720 with 1 Axes>"
      ]
     },
     "metadata": {},
     "output_type": "display_data"
    }
   ],
   "source": [
    "fig = plt.figure(figsize=(15,10))\n",
    "ax = fig.add_subplot(1,1,1)\n",
    "cleaned_mortality1.plot(x = 'Country Name', y = '2019', fontsize=15, kind='barh', color=['#FFa1a1', '#FF4747', '#FF0e0e', '#ab0000', '#ab0000', '#720000', '#720000', '#720000', '#410000', '#410000'], ax=ax, edgecolor='w')\n",
    "\n",
    "for i in ax.patches:\n",
    "    plt.text(i.get_width()+0.05, i.get_y()+0.5,\n",
    "             str(round((i.get_width()), 2)),\n",
    "             fontsize = 13, fontweight ='bold',\n",
    "             color ='grey')\n",
    "    \n",
    "ax.set_title('Top 10 Countries with Lowest Mortality Rates in 2019', fontsize=25)\n",
    "ax.set_xlabel('Mortality Rate', fontsize=20)\n",
    "ax.set_ylabel('Country Name', fontsize=20)\n",
    "ax.spines['right'].set_visible(True)\n",
    "ax.spines['top'].set_visible(False)\n",
    "ax.yaxis.grid(False)\n",
    "ax.legend_=None\n",
    "ax.set_xlim([0, 3.0])\n",
    "\n",
    "plt.savefig(fname = 'Final-LowestRates_2019')"
   ]
  },
  {
   "cell_type": "markdown",
   "id": "neither-hughes",
   "metadata": {},
   "source": [
    "<i> **From the graph above, we can see that 8 out of 10 of the top 10 countries with the lowest mortality rates in 2019 are from Europe, while the two countries at the bottom of the list are from Asia. With European countries having a low child mortality rate, the data from the graph is seen to be consistent with the data from** [`Eurostat Data` Decline in Mortality Rate](https://ec.europa.eu/eurostat/web/products-eurostat-news/-/ddn-20210604-1). <br>\n",
    "\n",
    "<i> **As per the data from the** [`World Health Organization` Children: Improving Survival and Wellbeing](https://www.who.int/news-room/fact-sheets/detail/children-reducing-mortality) **the decline in child mortality rates can be associated with the decline in infectious diseases due to effective treatments and prevention practices, as part of Europe's initiative to achieve Sustainable Development Goal 3.2.1 across the region. This is something that other regions should look into more as healthcare should always remain a top priority for the people.**"
   ]
  },
  {
   "cell_type": "code",
   "execution_count": 63,
   "id": "listed-gnome",
   "metadata": {
    "tags": []
   },
   "outputs": [
    {
     "data": {
      "text/html": [
       "<div>\n",
       "<style scoped>\n",
       "    .dataframe tbody tr th:only-of-type {\n",
       "        vertical-align: middle;\n",
       "    }\n",
       "\n",
       "    .dataframe tbody tr th {\n",
       "        vertical-align: top;\n",
       "    }\n",
       "\n",
       "    .dataframe thead th {\n",
       "        text-align: right;\n",
       "    }\n",
       "</style>\n",
       "<table border=\"1\" class=\"dataframe\">\n",
       "  <thead>\n",
       "    <tr style=\"text-align: right;\">\n",
       "      <th></th>\n",
       "      <th>Country Name</th>\n",
       "      <th>2019</th>\n",
       "    </tr>\n",
       "  </thead>\n",
       "  <tbody>\n",
       "    <tr>\n",
       "      <th>174</th>\n",
       "      <td>Nigeria</td>\n",
       "      <td>117.20000</td>\n",
       "    </tr>\n",
       "    <tr>\n",
       "      <th>213</th>\n",
       "      <td>Somalia</td>\n",
       "      <td>117.00000</td>\n",
       "    </tr>\n",
       "    <tr>\n",
       "      <th>229</th>\n",
       "      <td>Chad</td>\n",
       "      <td>113.80000</td>\n",
       "    </tr>\n",
       "    <tr>\n",
       "      <th>34</th>\n",
       "      <td>Central African Republic</td>\n",
       "      <td>110.10000</td>\n",
       "    </tr>\n",
       "    <tr>\n",
       "      <th>210</th>\n",
       "      <td>Sierra Leone</td>\n",
       "      <td>109.20000</td>\n",
       "    </tr>\n",
       "    <tr>\n",
       "      <th>85</th>\n",
       "      <td>Guinea</td>\n",
       "      <td>98.80000</td>\n",
       "    </tr>\n",
       "    <tr>\n",
       "      <th>3</th>\n",
       "      <td>Africa Western and Central</td>\n",
       "      <td>96.81424</td>\n",
       "    </tr>\n",
       "    <tr>\n",
       "      <th>216</th>\n",
       "      <td>South Sudan</td>\n",
       "      <td>96.20000</td>\n",
       "    </tr>\n",
       "    <tr>\n",
       "      <th>158</th>\n",
       "      <td>Mali</td>\n",
       "      <td>94.00000</td>\n",
       "    </tr>\n",
       "    <tr>\n",
       "      <th>18</th>\n",
       "      <td>Benin</td>\n",
       "      <td>90.30000</td>\n",
       "    </tr>\n",
       "  </tbody>\n",
       "</table>\n",
       "</div>"
      ],
      "text/plain": [
       "                   Country Name       2019\n",
       "174                     Nigeria  117.20000\n",
       "213                     Somalia  117.00000\n",
       "229                        Chad  113.80000\n",
       "34     Central African Republic  110.10000\n",
       "210                Sierra Leone  109.20000\n",
       "85                       Guinea   98.80000\n",
       "3    Africa Western and Central   96.81424\n",
       "216                 South Sudan   96.20000\n",
       "158                        Mali   94.00000\n",
       "18                        Benin   90.30000"
      ]
     },
     "execution_count": 63,
     "metadata": {},
     "output_type": "execute_result"
    }
   ],
   "source": [
    "cleaned_mortality2 = cleaned_mortality.sort_values(by = '2019', ascending = False).head(10)\n",
    "cleaned_mortality2.drop(['Country Code', 'Indicator Name', 'Indicator Code', '2000', '2001', '2002', '2003', '2004', '2005', '2006', '2007', '2008', '2009', '2010', '2011', '2012', '2013', '2014', '2015', '2016', '2017', '2018'], axis=1, inplace=True)\n",
    "cleaned_mortality2"
   ]
  },
  {
   "cell_type": "code",
   "execution_count": 66,
   "id": "brave-discretion",
   "metadata": {},
   "outputs": [
    {
     "data": {
      "image/png": "[encoded data removed]",
      "text/plain": [
       "<Figure size 1080x720 with 1 Axes>"
      ]
     },
     "metadata": {},
     "output_type": "display_data"
    }
   ],
   "source": [
    "fig = plt.figure(figsize=(15,10))\n",
    "ax = fig.add_subplot(1,1,1)\n",
    "cleaned_mortality2.plot(x = 'Country Name', y = '2019', fontsize=15, kind='barh', color=['#410000', '#720000', '#ab0000', '#b30000', '#e40000', '#ff1616', '#ff4747', '#ff5f5f', '#ff9090', '#ffa1a1'], ax=ax, edgecolor='w')\n",
    "\n",
    "for i in ax.patches:\n",
    "    plt.text(i.get_width()+2, i.get_y()+0.5,\n",
    "             str(round((i.get_width()), 2)),\n",
    "             fontsize = 13, fontweight ='bold',\n",
    "             color ='grey')\n",
    "    \n",
    "ax.set_title('Top 10 Countries with Highest Mortality Rates in 2019', fontsize=25)\n",
    "ax.set_xlabel('Mortality Rate', fontsize=20)\n",
    "ax.set_ylabel('Country Name', fontsize=20)\n",
    "ax.spines['right'].set_visible(True)\n",
    "ax.spines['top'].set_visible(False)\n",
    "ax.yaxis.grid(False)\n",
    "ax.legend_=None\n",
    "ax.set_xlim([0, 140])\n",
    "\n",
    "plt.savefig(fname = 'Final-HighestRates_2019')"
   ]
  },
  {
   "cell_type": "markdown",
   "id": "bored-humanity",
   "metadata": {},
   "source": [
    "<i> **From the graph above, it can be seen that all the countries in the list of top 10 countries with the highest mortality rates in 2019 are from the African continent. With this observation, the data from the graph is consistent with the data from** [`Statista` Countries with Highest Mortality Rates in 2019](https://www.statista.com/statistics/281580/countries-with-highest-mortality-rate-among-children-aged-under-five/). <br>\n",
    "\n",
    "<i> **Although the rates have declined over the years, many African countries being at the top of the list still call for a huge concern. From the data presented in** [`Our World in Data` What are Children Dying From](https://ourworldindata.org/what-are-children-dying-from-and-what-can-we-do-about-it) **high child mortality rates are caused mostly by different health issues such as respiratory and infectious diseases, bacterial infections, and neonatal disorders. These can be prevented and treated through vaccines, good nutrition, increased access to healthcare services, and a healthy environment for the children.**"
   ]
  },
  {
   "cell_type": "code",
   "execution_count": 21,
   "id": "immune-sacrifice",
   "metadata": {
    "collapsed": true,
    "jupyter": {
     "outputs_hidden": true,
     "source_hidden": true
    },
    "tags": []
   },
   "outputs": [
    {
     "ename": "NameError",
     "evalue": "name 'go' is not defined",
     "output_type": "error",
     "traceback": [
      "\u001b[0;31m---------------------------------------------------------------------------\u001b[0m",
      "\u001b[0;31mNameError\u001b[0m                                 Traceback (most recent call last)",
      "\u001b[0;32m<ipython-input-21-4e1f6e5ed059>\u001b[0m in \u001b[0;36m<module>\u001b[0;34m\u001b[0m\n\u001b[1;32m      8\u001b[0m             colorbar = {'title':'Mortality Rate', 'len':200,'lenmode':'pixels' })\n\u001b[1;32m      9\u001b[0m \u001b[0mlayout\u001b[0m \u001b[0;34m=\u001b[0m \u001b[0mdict\u001b[0m\u001b[0;34m(\u001b[0m\u001b[0mgeo\u001b[0m \u001b[0;34m=\u001b[0m \u001b[0;34m{\u001b[0m\u001b[0;34m'scope'\u001b[0m\u001b[0;34m:\u001b[0m\u001b[0;34m'world'\u001b[0m\u001b[0;34m}\u001b[0m\u001b[0;34m,\u001b[0m\u001b[0mtitle\u001b[0m\u001b[0;34m=\u001b[0m\u001b[0;34m\"Global Child Mortality Rate in 2019\"\u001b[0m\u001b[0;34m)\u001b[0m\u001b[0;34m\u001b[0m\u001b[0;34m\u001b[0m\u001b[0m\n\u001b[0;32m---> 10\u001b[0;31m \u001b[0mcol_map\u001b[0m \u001b[0;34m=\u001b[0m \u001b[0mgo\u001b[0m\u001b[0;34m.\u001b[0m\u001b[0mFigure\u001b[0m\u001b[0;34m(\u001b[0m\u001b[0mdata\u001b[0m \u001b[0;34m=\u001b[0m \u001b[0;34m[\u001b[0m\u001b[0mdata\u001b[0m\u001b[0;34m]\u001b[0m\u001b[0;34m,\u001b[0m\u001b[0mlayout\u001b[0m \u001b[0;34m=\u001b[0m \u001b[0mlayout\u001b[0m\u001b[0;34m)\u001b[0m\u001b[0;34m\u001b[0m\u001b[0;34m\u001b[0m\u001b[0m\n\u001b[0m\u001b[1;32m     11\u001b[0m \u001b[0mcol_map\u001b[0m\u001b[0;34m.\u001b[0m\u001b[0mshow\u001b[0m\u001b[0;34m(\u001b[0m\u001b[0;34m)\u001b[0m\u001b[0;34m\u001b[0m\u001b[0;34m\u001b[0m\u001b[0m\n",
      "\u001b[0;31mNameError\u001b[0m: name 'go' is not defined"
     ]
    }
   ],
   "source": [
    "x = cleaned_mortality.groupby([\"Country Name\"])[\"2019\"].mean()\n",
    "data = dict(type = 'choropleth',\n",
    "            locations = x.index,\n",
    "            locationmode = 'country names',\n",
    "            colorscale = 'Portland',\n",
    "            text = x.index,\n",
    "            z = x,\n",
    "            colorbar = {'title':'Mortality Rate', 'len':200,'lenmode':'pixels' })\n",
    "layout = dict(geo = {'scope':'world'},title=\"Global Child Mortality Rate in 2019\")\n",
    "col_map = go.Figure(data = [data],layout = layout)\n",
    "col_map.show()"
   ]
  },
  {
   "cell_type": "code",
   "execution_count": null,
   "id": "laden-denmark",
   "metadata": {
    "jupyter": {
     "source_hidden": true
    },
    "tags": []
   },
   "outputs": [],
   "source": [
    "world = gpd.read_file(gpd.datasets.get_path('naturalearth_lowres'))\n",
    "\n",
    "# plot world's continents first as base layer\n",
    "ax1 = continents.plot(figsize=(12, 8), cmap='Set2')"
   ]
  },
  {
   "cell_type": "code",
   "execution_count": null,
   "id": "affecting-basketball",
   "metadata": {
    "jupyter": {
     "source_hidden": true
    },
    "tags": []
   },
   "outputs": [],
   "source": [
    "merged = world.merge(cleaned_mortality, how='left', left_on=None, right_on=None)\n",
    "merged = merged[['Country Name', 'Country Code', 'Indicator Name', 'Indicator Code', '2000,\n",
    "                '2001', '2002', '2003', '2004', '2005', '2006', '2007', '2008', '2009',\n",
    "                 '2010', '2011', '2012', '2013', '2014', '2016', '2017', '2018', '2019']]\n",
    "merged.head"
   ]
  },
  {
   "cell_type": "code",
   "execution_count": null,
   "id": "authorized-plant",
   "metadata": {
    "jupyter": {
     "source_hidden": true
    },
    "tags": []
   },
   "outputs": [],
   "source": [
    "# set the value column that will be visualised\n",
    "variable = '2019'\n",
    "\n",
    "# set the range for the choropleth values\n",
    "vmin, vmax = 0, 150\n",
    "\n",
    "# create figure and axes for Matplotlib\n",
    "fig, ax = plt.subplots(1, figsize=(30, 10))\n",
    "\n",
    "# remove the axis\n",
    "ax.axis('off')\n",
    "\n",
    "# add a title and annotation\n",
    "ax.set_title('Mortality Rate in 2019', fontdict={'fontsize': '25', 'fontweight' : '3'})\n",
    "\n",
    "# Create colorbar legend\n",
    "sm = plt.cm.ScalarMappable(cmap='Blues', norm=plt.Normalize(vmin=vmin, vmax=vmax))\n",
    "# empty array for the data range\n",
    "sm.set_array([]) # or alternatively sm._A = []. Not sure why this step is necessary, but many recommends it\n",
    "\n",
    "# add the colorbar to the figure\n",
    "fig.colorbar(sm)\n",
    "\n",
    "# create map\n",
    "continents.plot(column=variable, cmap='Blues', linewidth=0.8, ax=ax, edgecolor='0.8')"
   ]
  },
  {
   "cell_type": "markdown",
   "id": "indian-circle",
   "metadata": {
    "tags": []
   },
   "source": [
    "### Causes of death in children under 5"
   ]
  },
  {
   "cell_type": "code",
   "execution_count": null,
   "id": "significant-culture",
   "metadata": {},
   "outputs": [],
   "source": [
    "cause = pd.read_csv('Databases/causes-of-death-in-children-under-5.csv')\n",
    "cause.head(2)"
   ]
  },
  {
   "cell_type": "code",
   "execution_count": null,
   "id": "alike-dominant",
   "metadata": {},
   "outputs": [],
   "source": [
    "cause.info()"
   ]
  },
  {
   "cell_type": "code",
   "execution_count": null,
   "id": "pacific-barbados",
   "metadata": {},
   "outputs": [],
   "source": [
    "cause.describe()"
   ]
  },
  {
   "cell_type": "code",
   "execution_count": null,
   "id": "alien-envelope",
   "metadata": {
    "tags": []
   },
   "outputs": [],
   "source": [
    "cause.describe(include=object)"
   ]
  },
  {
   "cell_type": "code",
   "execution_count": null,
   "id": "reserved-belarus",
   "metadata": {
    "tags": []
   },
   "outputs": [],
   "source": [
    "cause.isnull().sum()*100/cause.shape[0]"
   ]
  },
  {
   "cell_type": "code",
   "execution_count": null,
   "id": "flying-affair",
   "metadata": {
    "tags": []
   },
   "outputs": [],
   "source": [
    "cause.duplicated().sum()"
   ]
  },
  {
   "cell_type": "markdown",
   "id": "amended-seeker",
   "metadata": {},
   "source": [
    "#### Since there are 2.14% nulls per cause of deaths, these can also be dropped in the table at it has neglible effect in the aggregated and summarized analysis. "
   ]
  },
  {
   "cell_type": "code",
   "execution_count": null,
   "id": "ordinary-browse",
   "metadata": {},
   "outputs": [],
   "source": [
    "cause.dropna(axis=0, inplace=True)\n",
    "cause.head()"
   ]
  },
  {
   "cell_type": "markdown",
   "id": "later-feeling",
   "metadata": {},
   "source": [
    "#### Since 2020 is not available and the years below 2000 will not provide any sufficient recent conclusions and recommendations, these years will not be included or will be dropped to accomodate other databases which has lesser years as well. "
   ]
  },
  {
   "cell_type": "code",
   "execution_count": null,
   "id": "alpine-actor",
   "metadata": {},
   "outputs": [],
   "source": [
    "cause.drop(cause.index[cause['Year'] < 2000], inplace=True)\n",
    "cleaned_cause = cause\n",
    "cleaned_cause.head()"
   ]
  },
  {
   "cell_type": "code",
   "execution_count": null,
   "id": "foreign-broad",
   "metadata": {},
   "outputs": [],
   "source": [
    "cleaned_cause = cleaned_cause.rename(columns={\"Entity\": \"Country Name\", \"Code\": \"Country Code\"})\n",
    "cleaned_cause.head()"
   ]
  },
  {
   "cell_type": "code",
   "execution_count": null,
   "id": "temporal-neighborhood",
   "metadata": {},
   "outputs": [],
   "source": [
    "cleaned_cause.isnull().sum()*100/cleaned_cause.shape[0]"
   ]
  },
  {
   "cell_type": "code",
   "execution_count": null,
   "id": "serious-arkansas",
   "metadata": {},
   "outputs": [],
   "source": [
    "cleaned_cause['Country Name'].unique()"
   ]
  },
  {
   "cell_type": "code",
   "execution_count": null,
   "id": "widespread-creation",
   "metadata": {},
   "outputs": [],
   "source": [
    "cleaned_cause.to_csv('Databases/cleaned_cause.csv')"
   ]
  },
  {
   "cell_type": "markdown",
   "id": "pressed-layer",
   "metadata": {
    "tags": []
   },
   "source": [
    "<hr>\n",
    "\n",
    "### Malnutrition across the globe (Data of countries from 1983-2019)"
   ]
  },
  {
   "cell_type": "code",
   "execution_count": null,
   "id": "recovered-peripheral",
   "metadata": {},
   "outputs": [],
   "source": [
    "malnutrition = pd.read_csv('Databases/malnutrition_country_avg.csv')\n",
    "malnutrition.head()"
   ]
  },
  {
   "cell_type": "code",
   "execution_count": null,
   "id": "extended-likelihood",
   "metadata": {},
   "outputs": [],
   "source": [
    "malnutrition.info()"
   ]
  },
  {
   "cell_type": "code",
   "execution_count": null,
   "id": "forced-chapter",
   "metadata": {},
   "outputs": [],
   "source": [
    "malnutrition.describe()"
   ]
  },
  {
   "cell_type": "code",
   "execution_count": null,
   "id": "voluntary-armenia",
   "metadata": {},
   "outputs": [],
   "source": [
    "malnutrition.describe(include=object)"
   ]
  },
  {
   "cell_type": "code",
   "execution_count": null,
   "id": "threaded-prince",
   "metadata": {},
   "outputs": [],
   "source": [
    "malnutrition.isnull().sum()*100/malnutrition.shape[0]"
   ]
  },
  {
   "cell_type": "code",
   "execution_count": null,
   "id": "addressed-calendar",
   "metadata": {},
   "outputs": [],
   "source": [
    "malnutrition.duplicated().sum()"
   ]
  },
  {
   "cell_type": "code",
   "execution_count": null,
   "id": "positive-latin",
   "metadata": {},
   "outputs": [],
   "source": [
    "malnutrition.dropna(axis=0, inplace=True)\n",
    "cleaned_malnutrition = malnutrition\n",
    "cleaned_malnutrition = cleaned_malnutrition.rename(columns={\"Country\": \"Country Name\"})\n",
    "cleaned_malnutrition['Country Name'] = cleaned_malnutrition['Country Name'].str.title()\n",
    "cleaned_malnutrition.head()"
   ]
  },
  {
   "cell_type": "code",
   "execution_count": null,
   "id": "disciplinary-disability",
   "metadata": {},
   "outputs": [],
   "source": [
    "cleaned_malnutrition.isnull().sum()*100/cleaned_malnutrition.shape[0]"
   ]
  },
  {
   "cell_type": "code",
   "execution_count": null,
   "id": "fluid-veteran",
   "metadata": {},
   "outputs": [],
   "source": [
    "cleaned_malnutrition['Country Name'].unique()"
   ]
  },
  {
   "cell_type": "code",
   "execution_count": null,
   "id": "collectible-collar",
   "metadata": {
    "tags": []
   },
   "outputs": [],
   "source": [
    "countries = pd.read_csv('Databases/countrynamesncodes.csv')\n",
    "countries.head()"
   ]
  },
  {
   "cell_type": "markdown",
   "id": "extensive-denmark",
   "metadata": {
    "tags": []
   },
   "source": [
    "#### Since the table does not contain a country code column, the best solution was to merge with a country code dataset from IBAN using Alpha-3 coding. `See datasets section for the source reference.`"
   ]
  },
  {
   "cell_type": "code",
   "execution_count": null,
   "id": "enormous-viking",
   "metadata": {},
   "outputs": [],
   "source": [
    "cleaned_malnutrition = pd.merge(cleaned_malnutrition, countries, how='left', on='Country Name')\n",
    "column_to_reorder = cleaned_malnutrition.pop('Country Code')\n",
    "cleaned_malnutrition.insert(1, 'Country Code', column_to_reorder)\n",
    "cleaned_malnutrition.head()"
   ]
  },
  {
   "cell_type": "code",
   "execution_count": null,
   "id": "prescribed-mainland",
   "metadata": {
    "tags": []
   },
   "outputs": [],
   "source": [
    "cleaned_malnutrition.isnull().sum()*100/cleaned_malnutrition.shape[0]"
   ]
  },
  {
   "cell_type": "markdown",
   "id": "enhanced-greek",
   "metadata": {},
   "source": [
    "#### Some countries will not be included in the possible merges because they are not given country codes, but these will not be dropped as the malnutrition table will mostly be utilized for determining the income classification of each country. "
   ]
  },
  {
   "cell_type": "code",
   "execution_count": null,
   "id": "robust-theta",
   "metadata": {},
   "outputs": [],
   "source": [
    "cleaned_malnutrition.to_csv('Databases/cleaned_malnutrition.csv')"
   ]
  },
  {
   "cell_type": "markdown",
   "id": "resident-interest",
   "metadata": {
    "tags": []
   },
   "source": [
    "<hr>\n",
    "<hr>\n",
    "\n",
    "## Data Visualization"
   ]
  },
  {
   "cell_type": "code",
   "execution_count": null,
   "id": "functioning-escape",
   "metadata": {},
   "outputs": [],
   "source": []
  }
 ],
 "metadata": {
  "kernelspec": {
   "display_name": "Python 3",
   "language": "python",
   "name": "python3"
  },
  "language_info": {
   "codemirror_mode": {
    "name": "ipython",
    "version": 3
   },
   "file_extension": ".py",
   "mimetype": "text/x-python",
   "name": "python",
   "nbconvert_exporter": "python",
   "pygments_lexer": "ipython3",
   "version": "3.8.5"
  }
 },
 "nbformat": 4,
 "nbformat_minor": 5
}
