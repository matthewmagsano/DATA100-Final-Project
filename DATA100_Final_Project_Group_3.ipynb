{
 "cells": [
  {
   "cell_type": "markdown",
   "id": "thousand-parts",
   "metadata": {
    "tags": []
   },
   "source": [
    "# DATA100 - Final Project: Storytelling with Data "
   ]
  },
  {
   "cell_type": "markdown",
   "id": "dated-occurrence",
   "metadata": {},
   "source": [
    "<hr>\n",
    "<hr>\n",
    "\n",
    "## Group 3 Members \n",
    "* Argonza, Antoinette Joy \n",
    "* Jamia, Gillian Nicole \n",
    "* Magsano, Niño Matthew \n",
    "* Reyes, Anton Gabriel"
   ]
  },
  {
   "cell_type": "markdown",
   "id": "right-nicaragua",
   "metadata": {
    "tags": []
   },
   "source": [
    "<hr>\n",
    "<hr>\n",
    "\n",
    "## Motivation\n",
    "\n",
    "*As Lasallian students, we would want to determine the possible causes of child mortality and provide credible, consolidated information and insights that help prevent or solve this pressing social issue.*\n"
   ]
  },
  {
   "cell_type": "markdown",
   "id": "connected-ferry",
   "metadata": {},
   "source": [
    "<hr>\n",
    "<hr>\n",
    "\n",
    "## Libraries, Packages, or Modules"
   ]
  },
  {
   "cell_type": "code",
   "execution_count": 205,
   "id": "scenic-appendix",
   "metadata": {},
   "outputs": [
    {
     "name": "stdout",
     "output_type": "stream",
     "text": [
      "Populating the interactive namespace from numpy and matplotlib\n"
     ]
    }
   ],
   "source": [
    "import os \n",
    "import csv\n",
    "import time\n",
    "import numpy as np\n",
    "import pandas as pd\n",
    "import seaborn as sns\n",
    "import requests \n",
    "import datetime as dt\n",
    "import geopandas as gpd\n",
    "import matplotlib.pyplot as plt\n",
    "\n",
    "\n",
    "from shapely.geometry import Point\n",
    "from IPython.core.display import HTML\n",
    "\n",
    "%matplotlib inline\n",
    "%pylab inline"
   ]
  },
  {
   "cell_type": "code",
   "execution_count": 206,
   "id": "promotional-shareware",
   "metadata": {},
   "outputs": [],
   "source": [
    "plt.style.use('seaborn-whitegrid')"
   ]
  },
  {
   "cell_type": "markdown",
   "id": "civic-chase",
   "metadata": {},
   "source": [
    "<hr>\n",
    "<hr>\n",
    "\n",
    "## Data Collection"
   ]
  },
  {
   "cell_type": "markdown",
   "id": "returning-implementation",
   "metadata": {},
   "source": [
    "### Datasets"
   ]
  },
  {
   "cell_type": "markdown",
   "id": "adjustable-better",
   "metadata": {},
   "source": [
    "**Initial datasets:** <br>\n",
    "Upon initial data collection and reading of datasets, these databases were dropped, but it is still listed here to show our initial trajectory towards the storytelling. The data collection codes for these are removed in the notebook to make it presentable. <br>\n",
    "* (Removed) The dataset for **Mortality among children** can be found here: [`Kaggle` Dataset Source](https://www.kaggle.com/mpwolke/cusersmarildownloadsdeathscsv) <br>\n",
    "* (Removed) The dataset for **WHO - Immunization coverage estimates by country** can be found here: [`Kaggle` Dataset Source](https://www.kaggle.com/lsind18/who-immunization-coverage) <br>\n",
    "* (Removed) The dataset for **Child Health Dataset** can be found here: [`Kaggle` Dataset Source](https://www.kaggle.com/hijest/child-health-dataset-who) <br>\n",
    "* (Removed) The dataset for **Out of School Rates Global Data** can be found here: [`Kaggle` Dataset Source](https://www.kaggle.com/komalkhetlani/out-of-school-rates-global-data?select=Primary.csv) <br>\n",
    "* (Removed) The dataset for **World Health Statistics 2020** can be found here: [`Kaggle` Dataset Source](https://www.kaggle.com/utkarshxy/who-worldhealth-statistics-2020-complete?select=adolescentBirthRate.csv) <br>\n",
    "\n",
    "**Official datasets**: <br>\n",
    "* The dataset for **Mortality rate, under-5 (per 1,000 live births)** can be found here: [`The World Bank` Dataset Source](https://data.worldbank.org/indicator/SH.DYN.MORT?end=2019&fbclid=IwAR1SIiyIcig6Mwin1-szdOQoKMCC6BMJrb0NrdbS1-bnL8gd2JoalibPjYI&start=1960) <br>\n",
    "* The dataset for **Causes of death in children under 5** can be found here: [`Our World in Data` Dataset Source](https://ourworldindata.org/grapher/causes-of-death-in-children-under-5) <br>\n",
    "* The dataset for **Malnutrition across the globe** can be found here: [`Kaggle` Dataset Source](https://www.kaggle.com/ruchi798/malnutrition-across-the-globe) <br>\n",
    "\n",
    "**Helpful dataset/s**: <br>\n",
    "These/This are/is included for possible merges of cleaned databases for data visualization and analysis. <br>\n",
    "* The dataset for **Country Codes Alpha-2 & Alpha-3** can be found here: [`IBAN` Dataset Source](https://www.iban.com/country-codes) <br>"
   ]
  },
  {
   "cell_type": "markdown",
   "id": "animal-applicant",
   "metadata": {
    "tags": []
   },
   "source": [
    "<hr>\n",
    "<hr>\n",
    "\n",
    "## Data Wrangling & Exploratory Data Analysis"
   ]
  },
  {
   "cell_type": "markdown",
   "id": "accessible-calendar",
   "metadata": {},
   "source": [
    "<hr>\n",
    "\n",
    "### Mortality rate, under-5 (per 1,000 live births)"
   ]
  },
  {
   "cell_type": "code",
   "execution_count": 207,
   "id": "protective-mount",
   "metadata": {},
   "outputs": [
    {
     "data": {
      "text/html": [
       "<div>\n",
       "<style scoped>\n",
       "    .dataframe tbody tr th:only-of-type {\n",
       "        vertical-align: middle;\n",
       "    }\n",
       "\n",
       "    .dataframe tbody tr th {\n",
       "        vertical-align: top;\n",
       "    }\n",
       "\n",
       "    .dataframe thead th {\n",
       "        text-align: right;\n",
       "    }\n",
       "</style>\n",
       "<table border=\"1\" class=\"dataframe\">\n",
       "  <thead>\n",
       "    <tr style=\"text-align: right;\">\n",
       "      <th></th>\n",
       "      <th>Country Name</th>\n",
       "      <th>Country Code</th>\n",
       "      <th>Indicator Name</th>\n",
       "      <th>Indicator Code</th>\n",
       "      <th>1960</th>\n",
       "      <th>1961</th>\n",
       "      <th>1962</th>\n",
       "      <th>1963</th>\n",
       "      <th>1964</th>\n",
       "      <th>1965</th>\n",
       "      <th>...</th>\n",
       "      <th>2011</th>\n",
       "      <th>2012</th>\n",
       "      <th>2013</th>\n",
       "      <th>2014</th>\n",
       "      <th>2015</th>\n",
       "      <th>2016</th>\n",
       "      <th>2017</th>\n",
       "      <th>2018</th>\n",
       "      <th>2019</th>\n",
       "      <th>2020</th>\n",
       "    </tr>\n",
       "  </thead>\n",
       "  <tbody>\n",
       "    <tr>\n",
       "      <th>0</th>\n",
       "      <td>Aruba</td>\n",
       "      <td>ABW</td>\n",
       "      <td>Mortality rate, under-5 (per 1,000 live births)</td>\n",
       "      <td>SH.DYN.MORT</td>\n",
       "      <td>NaN</td>\n",
       "      <td>NaN</td>\n",
       "      <td>NaN</td>\n",
       "      <td>NaN</td>\n",
       "      <td>NaN</td>\n",
       "      <td>NaN</td>\n",
       "      <td>...</td>\n",
       "      <td>NaN</td>\n",
       "      <td>NaN</td>\n",
       "      <td>NaN</td>\n",
       "      <td>NaN</td>\n",
       "      <td>NaN</td>\n",
       "      <td>NaN</td>\n",
       "      <td>NaN</td>\n",
       "      <td>NaN</td>\n",
       "      <td>NaN</td>\n",
       "      <td>NaN</td>\n",
       "    </tr>\n",
       "    <tr>\n",
       "      <th>1</th>\n",
       "      <td>Africa Eastern and Southern</td>\n",
       "      <td>AFE</td>\n",
       "      <td>Mortality rate, under-5 (per 1,000 live births)</td>\n",
       "      <td>SH.DYN.MORT</td>\n",
       "      <td>NaN</td>\n",
       "      <td>NaN</td>\n",
       "      <td>NaN</td>\n",
       "      <td>NaN</td>\n",
       "      <td>NaN</td>\n",
       "      <td>NaN</td>\n",
       "      <td>...</td>\n",
       "      <td>82.105187</td>\n",
       "      <td>78.354228</td>\n",
       "      <td>74.991597</td>\n",
       "      <td>71.996841</td>\n",
       "      <td>69.288947</td>\n",
       "      <td>66.667614</td>\n",
       "      <td>64.347025</td>\n",
       "      <td>62.115387</td>\n",
       "      <td>60.098659</td>\n",
       "      <td>NaN</td>\n",
       "    </tr>\n",
       "    <tr>\n",
       "      <th>2</th>\n",
       "      <td>Afghanistan</td>\n",
       "      <td>AFG</td>\n",
       "      <td>Mortality rate, under-5 (per 1,000 live births)</td>\n",
       "      <td>SH.DYN.MORT</td>\n",
       "      <td>NaN</td>\n",
       "      <td>NaN</td>\n",
       "      <td>344.6</td>\n",
       "      <td>338.7</td>\n",
       "      <td>333.100000</td>\n",
       "      <td>327.600000</td>\n",
       "      <td>...</td>\n",
       "      <td>83.900000</td>\n",
       "      <td>80.300000</td>\n",
       "      <td>76.800000</td>\n",
       "      <td>73.600000</td>\n",
       "      <td>70.400000</td>\n",
       "      <td>67.600000</td>\n",
       "      <td>64.900000</td>\n",
       "      <td>62.500000</td>\n",
       "      <td>60.300000</td>\n",
       "      <td>NaN</td>\n",
       "    </tr>\n",
       "    <tr>\n",
       "      <th>3</th>\n",
       "      <td>Africa Western and Central</td>\n",
       "      <td>AFW</td>\n",
       "      <td>Mortality rate, under-5 (per 1,000 live births)</td>\n",
       "      <td>SH.DYN.MORT</td>\n",
       "      <td>NaN</td>\n",
       "      <td>NaN</td>\n",
       "      <td>NaN</td>\n",
       "      <td>NaN</td>\n",
       "      <td>308.353805</td>\n",
       "      <td>302.620962</td>\n",
       "      <td>...</td>\n",
       "      <td>118.442692</td>\n",
       "      <td>115.498791</td>\n",
       "      <td>112.667923</td>\n",
       "      <td>110.264426</td>\n",
       "      <td>107.765705</td>\n",
       "      <td>105.055552</td>\n",
       "      <td>102.430680</td>\n",
       "      <td>99.598781</td>\n",
       "      <td>96.814240</td>\n",
       "      <td>NaN</td>\n",
       "    </tr>\n",
       "    <tr>\n",
       "      <th>4</th>\n",
       "      <td>Angola</td>\n",
       "      <td>AGO</td>\n",
       "      <td>Mortality rate, under-5 (per 1,000 live births)</td>\n",
       "      <td>SH.DYN.MORT</td>\n",
       "      <td>NaN</td>\n",
       "      <td>NaN</td>\n",
       "      <td>NaN</td>\n",
       "      <td>NaN</td>\n",
       "      <td>NaN</td>\n",
       "      <td>NaN</td>\n",
       "      <td>...</td>\n",
       "      <td>112.300000</td>\n",
       "      <td>105.000000</td>\n",
       "      <td>98.600000</td>\n",
       "      <td>93.000000</td>\n",
       "      <td>88.200000</td>\n",
       "      <td>84.200000</td>\n",
       "      <td>80.600000</td>\n",
       "      <td>77.700000</td>\n",
       "      <td>74.700000</td>\n",
       "      <td>NaN</td>\n",
       "    </tr>\n",
       "  </tbody>\n",
       "</table>\n",
       "<p>5 rows × 65 columns</p>\n",
       "</div>"
      ],
      "text/plain": [
       "                  Country Name Country Code  \\\n",
       "0                        Aruba          ABW   \n",
       "1  Africa Eastern and Southern          AFE   \n",
       "2                  Afghanistan          AFG   \n",
       "3   Africa Western and Central          AFW   \n",
       "4                       Angola          AGO   \n",
       "\n",
       "                                    Indicator Name Indicator Code  1960  1961  \\\n",
       "0  Mortality rate, under-5 (per 1,000 live births)    SH.DYN.MORT   NaN   NaN   \n",
       "1  Mortality rate, under-5 (per 1,000 live births)    SH.DYN.MORT   NaN   NaN   \n",
       "2  Mortality rate, under-5 (per 1,000 live births)    SH.DYN.MORT   NaN   NaN   \n",
       "3  Mortality rate, under-5 (per 1,000 live births)    SH.DYN.MORT   NaN   NaN   \n",
       "4  Mortality rate, under-5 (per 1,000 live births)    SH.DYN.MORT   NaN   NaN   \n",
       "\n",
       "    1962   1963        1964        1965  ...        2011        2012  \\\n",
       "0    NaN    NaN         NaN         NaN  ...         NaN         NaN   \n",
       "1    NaN    NaN         NaN         NaN  ...   82.105187   78.354228   \n",
       "2  344.6  338.7  333.100000  327.600000  ...   83.900000   80.300000   \n",
       "3    NaN    NaN  308.353805  302.620962  ...  118.442692  115.498791   \n",
       "4    NaN    NaN         NaN         NaN  ...  112.300000  105.000000   \n",
       "\n",
       "         2013        2014        2015        2016        2017       2018  \\\n",
       "0         NaN         NaN         NaN         NaN         NaN        NaN   \n",
       "1   74.991597   71.996841   69.288947   66.667614   64.347025  62.115387   \n",
       "2   76.800000   73.600000   70.400000   67.600000   64.900000  62.500000   \n",
       "3  112.667923  110.264426  107.765705  105.055552  102.430680  99.598781   \n",
       "4   98.600000   93.000000   88.200000   84.200000   80.600000  77.700000   \n",
       "\n",
       "        2019  2020  \n",
       "0        NaN   NaN  \n",
       "1  60.098659   NaN  \n",
       "2  60.300000   NaN  \n",
       "3  96.814240   NaN  \n",
       "4  74.700000   NaN  \n",
       "\n",
       "[5 rows x 65 columns]"
      ]
     },
     "execution_count": 207,
     "metadata": {},
     "output_type": "execute_result"
    }
   ],
   "source": [
    "mortality = pd.read_csv('Databases/mortality_rate.csv')\n",
    "mortality.head()"
   ]
  },
  {
   "cell_type": "code",
   "execution_count": 208,
   "id": "theoretical-panel",
   "metadata": {},
   "outputs": [
    {
     "ename": "TypeError",
     "evalue": "Cannot interpret '<attribute 'dtype' of 'numpy.generic' objects>' as a data type",
     "output_type": "error",
     "traceback": [
      "\u001b[0;31m---------------------------------------------------------------------------\u001b[0m",
      "\u001b[0;31mTypeError\u001b[0m                                 Traceback (most recent call last)",
      "\u001b[0;32m<ipython-input-208-cf1e12c24d6a>\u001b[0m in \u001b[0;36m<module>\u001b[0;34m\u001b[0m\n\u001b[0;32m----> 1\u001b[0;31m \u001b[0mmortality\u001b[0m\u001b[0;34m.\u001b[0m\u001b[0minfo\u001b[0m\u001b[0;34m(\u001b[0m\u001b[0;34m)\u001b[0m\u001b[0;34m\u001b[0m\u001b[0;34m\u001b[0m\u001b[0m\n\u001b[0m",
      "\u001b[0;32m~/anaconda3/envs/data100/lib/python3.8/site-packages/pandas/core/frame.py\u001b[0m in \u001b[0;36minfo\u001b[0;34m(self, verbose, buf, max_cols, memory_usage, null_counts)\u001b[0m\n\u001b[1;32m   2495\u001b[0m                 \u001b[0;32mif\u001b[0m \u001b[0;34m\"object\"\u001b[0m \u001b[0;32min\u001b[0m \u001b[0mcounts\u001b[0m \u001b[0;32mor\u001b[0m \u001b[0mself\u001b[0m\u001b[0;34m.\u001b[0m\u001b[0mindex\u001b[0m\u001b[0;34m.\u001b[0m\u001b[0m_is_memory_usage_qualified\u001b[0m\u001b[0;34m(\u001b[0m\u001b[0;34m)\u001b[0m\u001b[0;34m:\u001b[0m\u001b[0;34m\u001b[0m\u001b[0;34m\u001b[0m\u001b[0m\n\u001b[1;32m   2496\u001b[0m                     \u001b[0msize_qualifier\u001b[0m \u001b[0;34m=\u001b[0m \u001b[0;34m\"+\"\u001b[0m\u001b[0;34m\u001b[0m\u001b[0;34m\u001b[0m\u001b[0m\n\u001b[0;32m-> 2497\u001b[0;31m             \u001b[0mmem_usage\u001b[0m \u001b[0;34m=\u001b[0m \u001b[0mself\u001b[0m\u001b[0;34m.\u001b[0m\u001b[0mmemory_usage\u001b[0m\u001b[0;34m(\u001b[0m\u001b[0mindex\u001b[0m\u001b[0;34m=\u001b[0m\u001b[0;32mTrue\u001b[0m\u001b[0;34m,\u001b[0m \u001b[0mdeep\u001b[0m\u001b[0;34m=\u001b[0m\u001b[0mdeep\u001b[0m\u001b[0;34m)\u001b[0m\u001b[0;34m.\u001b[0m\u001b[0msum\u001b[0m\u001b[0;34m(\u001b[0m\u001b[0;34m)\u001b[0m\u001b[0;34m\u001b[0m\u001b[0;34m\u001b[0m\u001b[0m\n\u001b[0m\u001b[1;32m   2498\u001b[0m             \u001b[0mlines\u001b[0m\u001b[0;34m.\u001b[0m\u001b[0mappend\u001b[0m\u001b[0;34m(\u001b[0m\u001b[0;34mf\"memory usage: {_sizeof_fmt(mem_usage, size_qualifier)}\\n\"\u001b[0m\u001b[0;34m)\u001b[0m\u001b[0;34m\u001b[0m\u001b[0;34m\u001b[0m\u001b[0m\n\u001b[1;32m   2499\u001b[0m         \u001b[0mfmt\u001b[0m\u001b[0;34m.\u001b[0m\u001b[0mbuffer_put_lines\u001b[0m\u001b[0;34m(\u001b[0m\u001b[0mbuf\u001b[0m\u001b[0;34m,\u001b[0m \u001b[0mlines\u001b[0m\u001b[0;34m)\u001b[0m\u001b[0;34m\u001b[0m\u001b[0;34m\u001b[0m\u001b[0m\n",
      "\u001b[0;32m~/anaconda3/envs/data100/lib/python3.8/site-packages/pandas/core/frame.py\u001b[0m in \u001b[0;36mmemory_usage\u001b[0;34m(self, index, deep)\u001b[0m\n\u001b[1;32m   2588\u001b[0m         )\n\u001b[1;32m   2589\u001b[0m         \u001b[0;32mif\u001b[0m \u001b[0mindex\u001b[0m\u001b[0;34m:\u001b[0m\u001b[0;34m\u001b[0m\u001b[0;34m\u001b[0m\u001b[0m\n\u001b[0;32m-> 2590\u001b[0;31m             result = Series(self.index.memory_usage(deep=deep), index=[\"Index\"]).append(\n\u001b[0m\u001b[1;32m   2591\u001b[0m                 \u001b[0mresult\u001b[0m\u001b[0;34m\u001b[0m\u001b[0;34m\u001b[0m\u001b[0m\n\u001b[1;32m   2592\u001b[0m             )\n",
      "\u001b[0;32m~/anaconda3/envs/data100/lib/python3.8/site-packages/pandas/core/series.py\u001b[0m in \u001b[0;36m__init__\u001b[0;34m(self, data, index, dtype, name, copy, fastpath)\u001b[0m\n\u001b[1;32m    303\u001b[0m                     \u001b[0mdata\u001b[0m \u001b[0;34m=\u001b[0m \u001b[0mdata\u001b[0m\u001b[0;34m.\u001b[0m\u001b[0mcopy\u001b[0m\u001b[0;34m(\u001b[0m\u001b[0;34m)\u001b[0m\u001b[0;34m\u001b[0m\u001b[0;34m\u001b[0m\u001b[0m\n\u001b[1;32m    304\u001b[0m             \u001b[0;32melse\u001b[0m\u001b[0;34m:\u001b[0m\u001b[0;34m\u001b[0m\u001b[0;34m\u001b[0m\u001b[0m\n\u001b[0;32m--> 305\u001b[0;31m                 \u001b[0mdata\u001b[0m \u001b[0;34m=\u001b[0m \u001b[0msanitize_array\u001b[0m\u001b[0;34m(\u001b[0m\u001b[0mdata\u001b[0m\u001b[0;34m,\u001b[0m \u001b[0mindex\u001b[0m\u001b[0;34m,\u001b[0m \u001b[0mdtype\u001b[0m\u001b[0;34m,\u001b[0m \u001b[0mcopy\u001b[0m\u001b[0;34m,\u001b[0m \u001b[0mraise_cast_failure\u001b[0m\u001b[0;34m=\u001b[0m\u001b[0;32mTrue\u001b[0m\u001b[0;34m)\u001b[0m\u001b[0;34m\u001b[0m\u001b[0;34m\u001b[0m\u001b[0m\n\u001b[0m\u001b[1;32m    306\u001b[0m \u001b[0;34m\u001b[0m\u001b[0m\n\u001b[1;32m    307\u001b[0m                 \u001b[0mdata\u001b[0m \u001b[0;34m=\u001b[0m \u001b[0mSingleBlockManager\u001b[0m\u001b[0;34m(\u001b[0m\u001b[0mdata\u001b[0m\u001b[0;34m,\u001b[0m \u001b[0mindex\u001b[0m\u001b[0;34m,\u001b[0m \u001b[0mfastpath\u001b[0m\u001b[0;34m=\u001b[0m\u001b[0;32mTrue\u001b[0m\u001b[0;34m)\u001b[0m\u001b[0;34m\u001b[0m\u001b[0;34m\u001b[0m\u001b[0m\n",
      "\u001b[0;32m~/anaconda3/envs/data100/lib/python3.8/site-packages/pandas/core/construction.py\u001b[0m in \u001b[0;36msanitize_array\u001b[0;34m(data, index, dtype, copy, raise_cast_failure)\u001b[0m\n\u001b[1;32m    463\u001b[0m                 \u001b[0mvalue\u001b[0m \u001b[0;34m=\u001b[0m \u001b[0mmaybe_cast_to_datetime\u001b[0m\u001b[0;34m(\u001b[0m\u001b[0mvalue\u001b[0m\u001b[0;34m,\u001b[0m \u001b[0mdtype\u001b[0m\u001b[0;34m)\u001b[0m\u001b[0;34m\u001b[0m\u001b[0;34m\u001b[0m\u001b[0m\n\u001b[1;32m    464\u001b[0m \u001b[0;34m\u001b[0m\u001b[0m\n\u001b[0;32m--> 465\u001b[0;31m             \u001b[0msubarr\u001b[0m \u001b[0;34m=\u001b[0m \u001b[0mconstruct_1d_arraylike_from_scalar\u001b[0m\u001b[0;34m(\u001b[0m\u001b[0mvalue\u001b[0m\u001b[0;34m,\u001b[0m \u001b[0mlen\u001b[0m\u001b[0;34m(\u001b[0m\u001b[0mindex\u001b[0m\u001b[0;34m)\u001b[0m\u001b[0;34m,\u001b[0m \u001b[0mdtype\u001b[0m\u001b[0;34m)\u001b[0m\u001b[0;34m\u001b[0m\u001b[0;34m\u001b[0m\u001b[0m\n\u001b[0m\u001b[1;32m    466\u001b[0m \u001b[0;34m\u001b[0m\u001b[0m\n\u001b[1;32m    467\u001b[0m         \u001b[0;32melse\u001b[0m\u001b[0;34m:\u001b[0m\u001b[0;34m\u001b[0m\u001b[0;34m\u001b[0m\u001b[0m\n",
      "\u001b[0;32m~/anaconda3/envs/data100/lib/python3.8/site-packages/pandas/core/dtypes/cast.py\u001b[0m in \u001b[0;36mconstruct_1d_arraylike_from_scalar\u001b[0;34m(value, length, dtype)\u001b[0m\n\u001b[1;32m   1459\u001b[0m                 \u001b[0mvalue\u001b[0m \u001b[0;34m=\u001b[0m \u001b[0mensure_str\u001b[0m\u001b[0;34m(\u001b[0m\u001b[0mvalue\u001b[0m\u001b[0;34m)\u001b[0m\u001b[0;34m\u001b[0m\u001b[0;34m\u001b[0m\u001b[0m\n\u001b[1;32m   1460\u001b[0m \u001b[0;34m\u001b[0m\u001b[0m\n\u001b[0;32m-> 1461\u001b[0;31m         \u001b[0msubarr\u001b[0m \u001b[0;34m=\u001b[0m \u001b[0mnp\u001b[0m\u001b[0;34m.\u001b[0m\u001b[0mempty\u001b[0m\u001b[0;34m(\u001b[0m\u001b[0mlength\u001b[0m\u001b[0;34m,\u001b[0m \u001b[0mdtype\u001b[0m\u001b[0;34m=\u001b[0m\u001b[0mdtype\u001b[0m\u001b[0;34m)\u001b[0m\u001b[0;34m\u001b[0m\u001b[0;34m\u001b[0m\u001b[0m\n\u001b[0m\u001b[1;32m   1462\u001b[0m         \u001b[0msubarr\u001b[0m\u001b[0;34m.\u001b[0m\u001b[0mfill\u001b[0m\u001b[0;34m(\u001b[0m\u001b[0mvalue\u001b[0m\u001b[0;34m)\u001b[0m\u001b[0;34m\u001b[0m\u001b[0;34m\u001b[0m\u001b[0m\n\u001b[1;32m   1463\u001b[0m \u001b[0;34m\u001b[0m\u001b[0m\n",
      "\u001b[0;31mTypeError\u001b[0m: Cannot interpret '<attribute 'dtype' of 'numpy.generic' objects>' as a data type"
     ]
    }
   ],
   "source": [
    "mortality.info()"
   ]
  },
  {
   "cell_type": "code",
   "execution_count": 222,
   "id": "hydraulic-virgin",
   "metadata": {},
   "outputs": [
    {
     "data": {
      "text/html": [
       "<div>\n",
       "<style scoped>\n",
       "    .dataframe tbody tr th:only-of-type {\n",
       "        vertical-align: middle;\n",
       "    }\n",
       "\n",
       "    .dataframe tbody tr th {\n",
       "        vertical-align: top;\n",
       "    }\n",
       "\n",
       "    .dataframe thead th {\n",
       "        text-align: right;\n",
       "    }\n",
       "</style>\n",
       "<table border=\"1\" class=\"dataframe\">\n",
       "  <thead>\n",
       "    <tr style=\"text-align: right;\">\n",
       "      <th></th>\n",
       "      <th>2000</th>\n",
       "      <th>2001</th>\n",
       "      <th>2002</th>\n",
       "      <th>2003</th>\n",
       "      <th>2004</th>\n",
       "      <th>2005</th>\n",
       "      <th>2006</th>\n",
       "      <th>2007</th>\n",
       "      <th>2008</th>\n",
       "      <th>2009</th>\n",
       "      <th>2010</th>\n",
       "      <th>2011</th>\n",
       "      <th>2012</th>\n",
       "      <th>2013</th>\n",
       "      <th>2014</th>\n",
       "      <th>2015</th>\n",
       "      <th>2016</th>\n",
       "      <th>2017</th>\n",
       "      <th>2018</th>\n",
       "      <th>2019</th>\n",
       "    </tr>\n",
       "  </thead>\n",
       "  <tbody>\n",
       "    <tr>\n",
       "      <th>count</th>\n",
       "      <td>241.000000</td>\n",
       "      <td>241.000000</td>\n",
       "      <td>241.000000</td>\n",
       "      <td>241.000000</td>\n",
       "      <td>241.000000</td>\n",
       "      <td>241.000000</td>\n",
       "      <td>241.000000</td>\n",
       "      <td>241.000000</td>\n",
       "      <td>241.000000</td>\n",
       "      <td>241.000000</td>\n",
       "      <td>241.000000</td>\n",
       "      <td>241.000000</td>\n",
       "      <td>241.000000</td>\n",
       "      <td>241.000000</td>\n",
       "      <td>241.000000</td>\n",
       "      <td>241.000000</td>\n",
       "      <td>241.000000</td>\n",
       "      <td>241.000000</td>\n",
       "      <td>241.000000</td>\n",
       "      <td>241.000000</td>\n",
       "    </tr>\n",
       "    <tr>\n",
       "      <th>mean</th>\n",
       "      <td>59.125512</td>\n",
       "      <td>56.912967</td>\n",
       "      <td>54.680247</td>\n",
       "      <td>52.513634</td>\n",
       "      <td>50.549141</td>\n",
       "      <td>48.411695</td>\n",
       "      <td>46.473795</td>\n",
       "      <td>44.619652</td>\n",
       "      <td>42.971137</td>\n",
       "      <td>41.148277</td>\n",
       "      <td>40.103905</td>\n",
       "      <td>38.006505</td>\n",
       "      <td>36.644066</td>\n",
       "      <td>35.375455</td>\n",
       "      <td>34.254044</td>\n",
       "      <td>33.178938</td>\n",
       "      <td>32.107112</td>\n",
       "      <td>31.126408</td>\n",
       "      <td>30.145293</td>\n",
       "      <td>29.214801</td>\n",
       "    </tr>\n",
       "    <tr>\n",
       "      <th>std</th>\n",
       "      <td>55.295154</td>\n",
       "      <td>53.382266</td>\n",
       "      <td>51.398712</td>\n",
       "      <td>49.441773</td>\n",
       "      <td>47.489457</td>\n",
       "      <td>45.723870</td>\n",
       "      <td>43.972356</td>\n",
       "      <td>42.267968</td>\n",
       "      <td>40.738510</td>\n",
       "      <td>39.001608</td>\n",
       "      <td>38.935692</td>\n",
       "      <td>36.033354</td>\n",
       "      <td>34.745564</td>\n",
       "      <td>33.555812</td>\n",
       "      <td>32.563909</td>\n",
       "      <td>31.620253</td>\n",
       "      <td>30.478658</td>\n",
       "      <td>29.595854</td>\n",
       "      <td>28.698271</td>\n",
       "      <td>27.841743</td>\n",
       "    </tr>\n",
       "    <tr>\n",
       "      <th>min</th>\n",
       "      <td>3.900000</td>\n",
       "      <td>3.600000</td>\n",
       "      <td>3.400000</td>\n",
       "      <td>3.200000</td>\n",
       "      <td>3.000000</td>\n",
       "      <td>2.900000</td>\n",
       "      <td>2.900000</td>\n",
       "      <td>2.900000</td>\n",
       "      <td>2.800000</td>\n",
       "      <td>2.700000</td>\n",
       "      <td>2.600000</td>\n",
       "      <td>2.500000</td>\n",
       "      <td>2.400000</td>\n",
       "      <td>2.200000</td>\n",
       "      <td>2.100000</td>\n",
       "      <td>2.000000</td>\n",
       "      <td>1.900000</td>\n",
       "      <td>1.800000</td>\n",
       "      <td>1.700000</td>\n",
       "      <td>1.700000</td>\n",
       "    </tr>\n",
       "    <tr>\n",
       "      <th>25%</th>\n",
       "      <td>14.200000</td>\n",
       "      <td>13.700000</td>\n",
       "      <td>13.700000</td>\n",
       "      <td>13.700000</td>\n",
       "      <td>13.300000</td>\n",
       "      <td>12.800000</td>\n",
       "      <td>12.300000</td>\n",
       "      <td>11.700000</td>\n",
       "      <td>11.100000</td>\n",
       "      <td>10.700000</td>\n",
       "      <td>10.300000</td>\n",
       "      <td>10.000000</td>\n",
       "      <td>9.800000</td>\n",
       "      <td>9.300000</td>\n",
       "      <td>8.900000</td>\n",
       "      <td>8.300000</td>\n",
       "      <td>8.000000</td>\n",
       "      <td>7.700000</td>\n",
       "      <td>7.400000</td>\n",
       "      <td>7.000000</td>\n",
       "    </tr>\n",
       "    <tr>\n",
       "      <th>50%</th>\n",
       "      <td>36.800000</td>\n",
       "      <td>34.200000</td>\n",
       "      <td>31.500000</td>\n",
       "      <td>29.549737</td>\n",
       "      <td>28.600000</td>\n",
       "      <td>27.700000</td>\n",
       "      <td>26.100000</td>\n",
       "      <td>25.000000</td>\n",
       "      <td>24.300000</td>\n",
       "      <td>23.700000</td>\n",
       "      <td>23.300000</td>\n",
       "      <td>22.400000</td>\n",
       "      <td>21.800000</td>\n",
       "      <td>21.100000</td>\n",
       "      <td>20.600000</td>\n",
       "      <td>19.700000</td>\n",
       "      <td>19.100000</td>\n",
       "      <td>18.600000</td>\n",
       "      <td>18.100000</td>\n",
       "      <td>17.300000</td>\n",
       "    </tr>\n",
       "    <tr>\n",
       "      <th>75%</th>\n",
       "      <td>93.404004</td>\n",
       "      <td>90.100000</td>\n",
       "      <td>86.313004</td>\n",
       "      <td>83.000000</td>\n",
       "      <td>79.936157</td>\n",
       "      <td>76.700000</td>\n",
       "      <td>74.100000</td>\n",
       "      <td>71.201993</td>\n",
       "      <td>68.200000</td>\n",
       "      <td>64.800000</td>\n",
       "      <td>61.923256</td>\n",
       "      <td>59.155108</td>\n",
       "      <td>56.800000</td>\n",
       "      <td>54.600000</td>\n",
       "      <td>52.600000</td>\n",
       "      <td>50.800000</td>\n",
       "      <td>49.000000</td>\n",
       "      <td>47.300000</td>\n",
       "      <td>45.600000</td>\n",
       "      <td>44.200000</td>\n",
       "    </tr>\n",
       "    <tr>\n",
       "      <th>max</th>\n",
       "      <td>227.700000</td>\n",
       "      <td>222.200000</td>\n",
       "      <td>216.300000</td>\n",
       "      <td>210.300000</td>\n",
       "      <td>204.000000</td>\n",
       "      <td>197.300000</td>\n",
       "      <td>190.400000</td>\n",
       "      <td>183.200000</td>\n",
       "      <td>175.700000</td>\n",
       "      <td>168.100000</td>\n",
       "      <td>207.000000</td>\n",
       "      <td>153.200000</td>\n",
       "      <td>146.600000</td>\n",
       "      <td>142.100000</td>\n",
       "      <td>137.700000</td>\n",
       "      <td>138.300000</td>\n",
       "      <td>128.400000</td>\n",
       "      <td>124.400000</td>\n",
       "      <td>120.300000</td>\n",
       "      <td>117.200000</td>\n",
       "    </tr>\n",
       "  </tbody>\n",
       "</table>\n",
       "</div>"
      ],
      "text/plain": [
       "             2000        2001        2002        2003        2004        2005  \\\n",
       "count  241.000000  241.000000  241.000000  241.000000  241.000000  241.000000   \n",
       "mean    59.125512   56.912967   54.680247   52.513634   50.549141   48.411695   \n",
       "std     55.295154   53.382266   51.398712   49.441773   47.489457   45.723870   \n",
       "min      3.900000    3.600000    3.400000    3.200000    3.000000    2.900000   \n",
       "25%     14.200000   13.700000   13.700000   13.700000   13.300000   12.800000   \n",
       "50%     36.800000   34.200000   31.500000   29.549737   28.600000   27.700000   \n",
       "75%     93.404004   90.100000   86.313004   83.000000   79.936157   76.700000   \n",
       "max    227.700000  222.200000  216.300000  210.300000  204.000000  197.300000   \n",
       "\n",
       "             2006        2007        2008        2009        2010        2011  \\\n",
       "count  241.000000  241.000000  241.000000  241.000000  241.000000  241.000000   \n",
       "mean    46.473795   44.619652   42.971137   41.148277   40.103905   38.006505   \n",
       "std     43.972356   42.267968   40.738510   39.001608   38.935692   36.033354   \n",
       "min      2.900000    2.900000    2.800000    2.700000    2.600000    2.500000   \n",
       "25%     12.300000   11.700000   11.100000   10.700000   10.300000   10.000000   \n",
       "50%     26.100000   25.000000   24.300000   23.700000   23.300000   22.400000   \n",
       "75%     74.100000   71.201993   68.200000   64.800000   61.923256   59.155108   \n",
       "max    190.400000  183.200000  175.700000  168.100000  207.000000  153.200000   \n",
       "\n",
       "             2012        2013        2014        2015        2016        2017  \\\n",
       "count  241.000000  241.000000  241.000000  241.000000  241.000000  241.000000   \n",
       "mean    36.644066   35.375455   34.254044   33.178938   32.107112   31.126408   \n",
       "std     34.745564   33.555812   32.563909   31.620253   30.478658   29.595854   \n",
       "min      2.400000    2.200000    2.100000    2.000000    1.900000    1.800000   \n",
       "25%      9.800000    9.300000    8.900000    8.300000    8.000000    7.700000   \n",
       "50%     21.800000   21.100000   20.600000   19.700000   19.100000   18.600000   \n",
       "75%     56.800000   54.600000   52.600000   50.800000   49.000000   47.300000   \n",
       "max    146.600000  142.100000  137.700000  138.300000  128.400000  124.400000   \n",
       "\n",
       "             2018        2019  \n",
       "count  241.000000  241.000000  \n",
       "mean    30.145293   29.214801  \n",
       "std     28.698271   27.841743  \n",
       "min      1.700000    1.700000  \n",
       "25%      7.400000    7.000000  \n",
       "50%     18.100000   17.300000  \n",
       "75%     45.600000   44.200000  \n",
       "max    120.300000  117.200000  "
      ]
     },
     "execution_count": 222,
     "metadata": {},
     "output_type": "execute_result"
    }
   ],
   "source": [
    "mortality.describe()"
   ]
  },
  {
   "cell_type": "code",
   "execution_count": 223,
   "id": "antique-arlington",
   "metadata": {},
   "outputs": [
    {
     "data": {
      "text/html": [
       "<div>\n",
       "<style scoped>\n",
       "    .dataframe tbody tr th:only-of-type {\n",
       "        vertical-align: middle;\n",
       "    }\n",
       "\n",
       "    .dataframe tbody tr th {\n",
       "        vertical-align: top;\n",
       "    }\n",
       "\n",
       "    .dataframe thead th {\n",
       "        text-align: right;\n",
       "    }\n",
       "</style>\n",
       "<table border=\"1\" class=\"dataframe\">\n",
       "  <thead>\n",
       "    <tr style=\"text-align: right;\">\n",
       "      <th></th>\n",
       "      <th>Country Name</th>\n",
       "      <th>Country Code</th>\n",
       "      <th>Indicator Name</th>\n",
       "      <th>Indicator Code</th>\n",
       "    </tr>\n",
       "  </thead>\n",
       "  <tbody>\n",
       "    <tr>\n",
       "      <th>count</th>\n",
       "      <td>266</td>\n",
       "      <td>266</td>\n",
       "      <td>266</td>\n",
       "      <td>266</td>\n",
       "    </tr>\n",
       "    <tr>\n",
       "      <th>unique</th>\n",
       "      <td>266</td>\n",
       "      <td>266</td>\n",
       "      <td>1</td>\n",
       "      <td>1</td>\n",
       "    </tr>\n",
       "    <tr>\n",
       "      <th>top</th>\n",
       "      <td>Tunisia</td>\n",
       "      <td>SSD</td>\n",
       "      <td>Mortality rate, under-5 (per 1,000 live births)</td>\n",
       "      <td>SH.DYN.MORT</td>\n",
       "    </tr>\n",
       "    <tr>\n",
       "      <th>freq</th>\n",
       "      <td>1</td>\n",
       "      <td>1</td>\n",
       "      <td>266</td>\n",
       "      <td>266</td>\n",
       "    </tr>\n",
       "  </tbody>\n",
       "</table>\n",
       "</div>"
      ],
      "text/plain": [
       "       Country Name Country Code  \\\n",
       "count           266          266   \n",
       "unique          266          266   \n",
       "top         Tunisia          SSD   \n",
       "freq              1            1   \n",
       "\n",
       "                                         Indicator Name Indicator Code  \n",
       "count                                               266            266  \n",
       "unique                                                1              1  \n",
       "top     Mortality rate, under-5 (per 1,000 live births)    SH.DYN.MORT  \n",
       "freq                                                266            266  "
      ]
     },
     "execution_count": 223,
     "metadata": {},
     "output_type": "execute_result"
    }
   ],
   "source": [
    "mortality.describe(include=object)"
   ]
  },
  {
   "cell_type": "code",
   "execution_count": 224,
   "id": "following-province",
   "metadata": {},
   "outputs": [
    {
     "data": {
      "text/plain": [
       "Country Name      0.000000\n",
       "Country Code      0.000000\n",
       "Indicator Name    0.000000\n",
       "Indicator Code    0.000000\n",
       "2000              9.398496\n",
       "2001              9.398496\n",
       "2002              9.398496\n",
       "2003              9.398496\n",
       "2004              9.398496\n",
       "2005              9.398496\n",
       "2006              9.398496\n",
       "2007              9.398496\n",
       "2008              9.398496\n",
       "2009              9.398496\n",
       "2010              9.398496\n",
       "2011              9.398496\n",
       "2012              9.398496\n",
       "2013              9.398496\n",
       "2014              9.398496\n",
       "2015              9.398496\n",
       "2016              9.398496\n",
       "2017              9.398496\n",
       "2018              9.398496\n",
       "2019              9.398496\n",
       "dtype: float64"
      ]
     },
     "execution_count": 224,
     "metadata": {},
     "output_type": "execute_result"
    }
   ],
   "source": [
    "mortality.isnull().sum()*100/mortality.shape[0]"
   ]
  },
  {
   "cell_type": "code",
   "execution_count": 225,
   "id": "enabling-english",
   "metadata": {},
   "outputs": [
    {
     "data": {
      "text/plain": [
       "0"
      ]
     },
     "execution_count": 225,
     "metadata": {},
     "output_type": "execute_result"
    }
   ],
   "source": [
    "mortality.duplicated().sum()"
   ]
  },
  {
   "cell_type": "code",
   "execution_count": 226,
   "id": "collect-stanford",
   "metadata": {},
   "outputs": [
    {
     "data": {
      "text/plain": [
       "Index(['Country Name', 'Country Code', 'Indicator Name', 'Indicator Code',\n",
       "       '2000', '2001', '2002', '2003', '2004', '2005', '2006', '2007', '2008',\n",
       "       '2009', '2010', '2011', '2012', '2013', '2014', '2015', '2016', '2017',\n",
       "       '2018', '2019'],\n",
       "      dtype='object')"
      ]
     },
     "execution_count": 226,
     "metadata": {},
     "output_type": "execute_result"
    }
   ],
   "source": [
    "mortality.columns"
   ]
  },
  {
   "cell_type": "markdown",
   "id": "numerous-hopkins",
   "metadata": {},
   "source": [
    "#### Since 2020 has no observations and the years below 2000 will not provide any sufficient recent conclusions and recommendations other than provide a downward trend, these columns or variables will be dropped to accomodate other databases which has lesser years as well. "
   ]
  },
  {
   "cell_type": "code",
   "execution_count": 227,
   "id": "demanding-seller",
   "metadata": {},
   "outputs": [
    {
     "ename": "KeyError",
     "evalue": "\"['1960' '1961' '1962' '1963' '1964' '1965' '1966' '1967' '1968' '1969'\\n '1970' '1971' '1972' '1973' '1974' '1975' '1976' '1977' '1978' '1979'\\n '1980' '1981' '1982' '1983' '1984' '1985' '1986' '1987' '1988' '1989'\\n '1990' '1991' '1992' '1993' '1994' '1995' '1996' '1997' '1998' '1999'\\n '2020'] not found in axis\"",
     "output_type": "error",
     "traceback": [
      "\u001b[0;31m---------------------------------------------------------------------------\u001b[0m",
      "\u001b[0;31mKeyError\u001b[0m                                  Traceback (most recent call last)",
      "\u001b[0;32m<ipython-input-227-e453d8f25d51>\u001b[0m in \u001b[0;36m<module>\u001b[0;34m\u001b[0m\n\u001b[0;32m----> 1\u001b[0;31m mortality.drop(['1960', '1961', '1962', '1963', '1964', '1965', '1966', '1967', '1968',\n\u001b[0m\u001b[1;32m      2\u001b[0m        \u001b[0;34m'1969'\u001b[0m\u001b[0;34m,\u001b[0m \u001b[0;34m'1970'\u001b[0m\u001b[0;34m,\u001b[0m \u001b[0;34m'1971'\u001b[0m\u001b[0;34m,\u001b[0m \u001b[0;34m'1972'\u001b[0m\u001b[0;34m,\u001b[0m \u001b[0;34m'1973'\u001b[0m\u001b[0;34m,\u001b[0m \u001b[0;34m'1974'\u001b[0m\u001b[0;34m,\u001b[0m \u001b[0;34m'1975'\u001b[0m\u001b[0;34m,\u001b[0m \u001b[0;34m'1976'\u001b[0m\u001b[0;34m,\u001b[0m \u001b[0;34m'1977'\u001b[0m\u001b[0;34m,\u001b[0m\u001b[0;34m\u001b[0m\u001b[0;34m\u001b[0m\u001b[0m\n\u001b[1;32m      3\u001b[0m        \u001b[0;34m'1978'\u001b[0m\u001b[0;34m,\u001b[0m \u001b[0;34m'1979'\u001b[0m\u001b[0;34m,\u001b[0m \u001b[0;34m'1980'\u001b[0m\u001b[0;34m,\u001b[0m \u001b[0;34m'1981'\u001b[0m\u001b[0;34m,\u001b[0m \u001b[0;34m'1982'\u001b[0m\u001b[0;34m,\u001b[0m \u001b[0;34m'1983'\u001b[0m\u001b[0;34m,\u001b[0m \u001b[0;34m'1984'\u001b[0m\u001b[0;34m,\u001b[0m \u001b[0;34m'1985'\u001b[0m\u001b[0;34m,\u001b[0m \u001b[0;34m'1986'\u001b[0m\u001b[0;34m,\u001b[0m\u001b[0;34m\u001b[0m\u001b[0;34m\u001b[0m\u001b[0m\n\u001b[1;32m      4\u001b[0m        \u001b[0;34m'1987'\u001b[0m\u001b[0;34m,\u001b[0m \u001b[0;34m'1988'\u001b[0m\u001b[0;34m,\u001b[0m \u001b[0;34m'1989'\u001b[0m\u001b[0;34m,\u001b[0m \u001b[0;34m'1990'\u001b[0m\u001b[0;34m,\u001b[0m \u001b[0;34m'1991'\u001b[0m\u001b[0;34m,\u001b[0m \u001b[0;34m'1992'\u001b[0m\u001b[0;34m,\u001b[0m \u001b[0;34m'1993'\u001b[0m\u001b[0;34m,\u001b[0m \u001b[0;34m'1994'\u001b[0m\u001b[0;34m,\u001b[0m \u001b[0;34m'1995'\u001b[0m\u001b[0;34m,\u001b[0m\u001b[0;34m\u001b[0m\u001b[0;34m\u001b[0m\u001b[0m\n\u001b[1;32m      5\u001b[0m        '1996', '1997', '1998', '1999', '2020'], axis=1, inplace=True)\n",
      "\u001b[0;32m~/anaconda3/envs/data100/lib/python3.8/site-packages/pandas/core/frame.py\u001b[0m in \u001b[0;36mdrop\u001b[0;34m(self, labels, axis, index, columns, level, inplace, errors)\u001b[0m\n\u001b[1;32m   3988\u001b[0m                 \u001b[0mweight\u001b[0m  \u001b[0;36m1.0\u001b[0m     \u001b[0;36m0.8\u001b[0m\u001b[0;34m\u001b[0m\u001b[0;34m\u001b[0m\u001b[0m\n\u001b[1;32m   3989\u001b[0m         \"\"\"\n\u001b[0;32m-> 3990\u001b[0;31m         return super().drop(\n\u001b[0m\u001b[1;32m   3991\u001b[0m             \u001b[0mlabels\u001b[0m\u001b[0;34m=\u001b[0m\u001b[0mlabels\u001b[0m\u001b[0;34m,\u001b[0m\u001b[0;34m\u001b[0m\u001b[0;34m\u001b[0m\u001b[0m\n\u001b[1;32m   3992\u001b[0m             \u001b[0maxis\u001b[0m\u001b[0;34m=\u001b[0m\u001b[0maxis\u001b[0m\u001b[0;34m,\u001b[0m\u001b[0;34m\u001b[0m\u001b[0;34m\u001b[0m\u001b[0m\n",
      "\u001b[0;32m~/anaconda3/envs/data100/lib/python3.8/site-packages/pandas/core/generic.py\u001b[0m in \u001b[0;36mdrop\u001b[0;34m(self, labels, axis, index, columns, level, inplace, errors)\u001b[0m\n\u001b[1;32m   3934\u001b[0m         \u001b[0;32mfor\u001b[0m \u001b[0maxis\u001b[0m\u001b[0;34m,\u001b[0m \u001b[0mlabels\u001b[0m \u001b[0;32min\u001b[0m \u001b[0maxes\u001b[0m\u001b[0;34m.\u001b[0m\u001b[0mitems\u001b[0m\u001b[0;34m(\u001b[0m\u001b[0;34m)\u001b[0m\u001b[0;34m:\u001b[0m\u001b[0;34m\u001b[0m\u001b[0;34m\u001b[0m\u001b[0m\n\u001b[1;32m   3935\u001b[0m             \u001b[0;32mif\u001b[0m \u001b[0mlabels\u001b[0m \u001b[0;32mis\u001b[0m \u001b[0;32mnot\u001b[0m \u001b[0;32mNone\u001b[0m\u001b[0;34m:\u001b[0m\u001b[0;34m\u001b[0m\u001b[0;34m\u001b[0m\u001b[0m\n\u001b[0;32m-> 3936\u001b[0;31m                 \u001b[0mobj\u001b[0m \u001b[0;34m=\u001b[0m \u001b[0mobj\u001b[0m\u001b[0;34m.\u001b[0m\u001b[0m_drop_axis\u001b[0m\u001b[0;34m(\u001b[0m\u001b[0mlabels\u001b[0m\u001b[0;34m,\u001b[0m \u001b[0maxis\u001b[0m\u001b[0;34m,\u001b[0m \u001b[0mlevel\u001b[0m\u001b[0;34m=\u001b[0m\u001b[0mlevel\u001b[0m\u001b[0;34m,\u001b[0m \u001b[0merrors\u001b[0m\u001b[0;34m=\u001b[0m\u001b[0merrors\u001b[0m\u001b[0;34m)\u001b[0m\u001b[0;34m\u001b[0m\u001b[0;34m\u001b[0m\u001b[0m\n\u001b[0m\u001b[1;32m   3937\u001b[0m \u001b[0;34m\u001b[0m\u001b[0m\n\u001b[1;32m   3938\u001b[0m         \u001b[0;32mif\u001b[0m \u001b[0minplace\u001b[0m\u001b[0;34m:\u001b[0m\u001b[0;34m\u001b[0m\u001b[0;34m\u001b[0m\u001b[0m\n",
      "\u001b[0;32m~/anaconda3/envs/data100/lib/python3.8/site-packages/pandas/core/generic.py\u001b[0m in \u001b[0;36m_drop_axis\u001b[0;34m(self, labels, axis, level, errors)\u001b[0m\n\u001b[1;32m   3968\u001b[0m                 \u001b[0mnew_axis\u001b[0m \u001b[0;34m=\u001b[0m \u001b[0maxis\u001b[0m\u001b[0;34m.\u001b[0m\u001b[0mdrop\u001b[0m\u001b[0;34m(\u001b[0m\u001b[0mlabels\u001b[0m\u001b[0;34m,\u001b[0m \u001b[0mlevel\u001b[0m\u001b[0;34m=\u001b[0m\u001b[0mlevel\u001b[0m\u001b[0;34m,\u001b[0m \u001b[0merrors\u001b[0m\u001b[0;34m=\u001b[0m\u001b[0merrors\u001b[0m\u001b[0;34m)\u001b[0m\u001b[0;34m\u001b[0m\u001b[0;34m\u001b[0m\u001b[0m\n\u001b[1;32m   3969\u001b[0m             \u001b[0;32melse\u001b[0m\u001b[0;34m:\u001b[0m\u001b[0;34m\u001b[0m\u001b[0;34m\u001b[0m\u001b[0m\n\u001b[0;32m-> 3970\u001b[0;31m                 \u001b[0mnew_axis\u001b[0m \u001b[0;34m=\u001b[0m \u001b[0maxis\u001b[0m\u001b[0;34m.\u001b[0m\u001b[0mdrop\u001b[0m\u001b[0;34m(\u001b[0m\u001b[0mlabels\u001b[0m\u001b[0;34m,\u001b[0m \u001b[0merrors\u001b[0m\u001b[0;34m=\u001b[0m\u001b[0merrors\u001b[0m\u001b[0;34m)\u001b[0m\u001b[0;34m\u001b[0m\u001b[0;34m\u001b[0m\u001b[0m\n\u001b[0m\u001b[1;32m   3971\u001b[0m             \u001b[0mresult\u001b[0m \u001b[0;34m=\u001b[0m \u001b[0mself\u001b[0m\u001b[0;34m.\u001b[0m\u001b[0mreindex\u001b[0m\u001b[0;34m(\u001b[0m\u001b[0;34m**\u001b[0m\u001b[0;34m{\u001b[0m\u001b[0maxis_name\u001b[0m\u001b[0;34m:\u001b[0m \u001b[0mnew_axis\u001b[0m\u001b[0;34m}\u001b[0m\u001b[0;34m)\u001b[0m\u001b[0;34m\u001b[0m\u001b[0;34m\u001b[0m\u001b[0m\n\u001b[1;32m   3972\u001b[0m \u001b[0;34m\u001b[0m\u001b[0m\n",
      "\u001b[0;32m~/anaconda3/envs/data100/lib/python3.8/site-packages/pandas/core/indexes/base.py\u001b[0m in \u001b[0;36mdrop\u001b[0;34m(self, labels, errors)\u001b[0m\n\u001b[1;32m   5016\u001b[0m         \u001b[0;32mif\u001b[0m \u001b[0mmask\u001b[0m\u001b[0;34m.\u001b[0m\u001b[0many\u001b[0m\u001b[0;34m(\u001b[0m\u001b[0;34m)\u001b[0m\u001b[0;34m:\u001b[0m\u001b[0;34m\u001b[0m\u001b[0;34m\u001b[0m\u001b[0m\n\u001b[1;32m   5017\u001b[0m             \u001b[0;32mif\u001b[0m \u001b[0merrors\u001b[0m \u001b[0;34m!=\u001b[0m \u001b[0;34m\"ignore\"\u001b[0m\u001b[0;34m:\u001b[0m\u001b[0;34m\u001b[0m\u001b[0;34m\u001b[0m\u001b[0m\n\u001b[0;32m-> 5018\u001b[0;31m                 \u001b[0;32mraise\u001b[0m \u001b[0mKeyError\u001b[0m\u001b[0;34m(\u001b[0m\u001b[0;34mf\"{labels[mask]} not found in axis\"\u001b[0m\u001b[0;34m)\u001b[0m\u001b[0;34m\u001b[0m\u001b[0;34m\u001b[0m\u001b[0m\n\u001b[0m\u001b[1;32m   5019\u001b[0m             \u001b[0mindexer\u001b[0m \u001b[0;34m=\u001b[0m \u001b[0mindexer\u001b[0m\u001b[0;34m[\u001b[0m\u001b[0;34m~\u001b[0m\u001b[0mmask\u001b[0m\u001b[0;34m]\u001b[0m\u001b[0;34m\u001b[0m\u001b[0;34m\u001b[0m\u001b[0m\n\u001b[1;32m   5020\u001b[0m         \u001b[0;32mreturn\u001b[0m \u001b[0mself\u001b[0m\u001b[0;34m.\u001b[0m\u001b[0mdelete\u001b[0m\u001b[0;34m(\u001b[0m\u001b[0mindexer\u001b[0m\u001b[0;34m)\u001b[0m\u001b[0;34m\u001b[0m\u001b[0;34m\u001b[0m\u001b[0m\n",
      "\u001b[0;31mKeyError\u001b[0m: \"['1960' '1961' '1962' '1963' '1964' '1965' '1966' '1967' '1968' '1969'\\n '1970' '1971' '1972' '1973' '1974' '1975' '1976' '1977' '1978' '1979'\\n '1980' '1981' '1982' '1983' '1984' '1985' '1986' '1987' '1988' '1989'\\n '1990' '1991' '1992' '1993' '1994' '1995' '1996' '1997' '1998' '1999'\\n '2020'] not found in axis\""
     ]
    }
   ],
   "source": [
    "mortality.drop(['1960', '1961', '1962', '1963', '1964', '1965', '1966', '1967', '1968',\n",
    "       '1969', '1970', '1971', '1972', '1973', '1974', '1975', '1976', '1977',\n",
    "       '1978', '1979', '1980', '1981', '1982', '1983', '1984', '1985', '1986',\n",
    "       '1987', '1988', '1989', '1990', '1991', '1992', '1993', '1994', '1995',\n",
    "       '1996', '1997', '1998', '1999', '2020'], axis=1, inplace=True)\n",
    "\n",
    "mortality.head()"
   ]
  },
  {
   "cell_type": "code",
   "execution_count": 235,
   "id": "interesting-entrepreneur",
   "metadata": {},
   "outputs": [
    {
     "data": {
      "text/plain": [
       "Country Name      0.000000\n",
       "Country Code      0.000000\n",
       "Indicator Name    0.000000\n",
       "Indicator Code    0.000000\n",
       "2000              9.398496\n",
       "2001              9.398496\n",
       "2002              9.398496\n",
       "2003              9.398496\n",
       "2004              9.398496\n",
       "2005              9.398496\n",
       "2006              9.398496\n",
       "2007              9.398496\n",
       "2008              9.398496\n",
       "2009              9.398496\n",
       "2010              9.398496\n",
       "2011              9.398496\n",
       "2012              9.398496\n",
       "2013              9.398496\n",
       "2014              9.398496\n",
       "2015              9.398496\n",
       "2016              9.398496\n",
       "2017              9.398496\n",
       "2018              9.398496\n",
       "2019              9.398496\n",
       "dtype: float64"
      ]
     },
     "execution_count": 235,
     "metadata": {},
     "output_type": "execute_result"
    }
   ],
   "source": [
    "mortality.isnull().sum()*100/mortality.shape[0]"
   ]
  },
  {
   "cell_type": "markdown",
   "id": "clean-commander",
   "metadata": {},
   "source": [
    "#### Since there are 9.40% nulls, these can also be dropped in the table at it has neglible effect in the aggregated and summarized analysis. "
   ]
  },
  {
   "cell_type": "code",
   "execution_count": 236,
   "id": "written-puzzle",
   "metadata": {},
   "outputs": [
    {
     "data": {
      "text/html": [
       "<div>\n",
       "<style scoped>\n",
       "    .dataframe tbody tr th:only-of-type {\n",
       "        vertical-align: middle;\n",
       "    }\n",
       "\n",
       "    .dataframe tbody tr th {\n",
       "        vertical-align: top;\n",
       "    }\n",
       "\n",
       "    .dataframe thead th {\n",
       "        text-align: right;\n",
       "    }\n",
       "</style>\n",
       "<table border=\"1\" class=\"dataframe\">\n",
       "  <thead>\n",
       "    <tr style=\"text-align: right;\">\n",
       "      <th></th>\n",
       "      <th>Country Name</th>\n",
       "      <th>Country Code</th>\n",
       "      <th>Indicator Name</th>\n",
       "      <th>Indicator Code</th>\n",
       "      <th>2000</th>\n",
       "      <th>2001</th>\n",
       "      <th>2002</th>\n",
       "      <th>2003</th>\n",
       "      <th>2004</th>\n",
       "      <th>2005</th>\n",
       "      <th>...</th>\n",
       "      <th>2010</th>\n",
       "      <th>2011</th>\n",
       "      <th>2012</th>\n",
       "      <th>2013</th>\n",
       "      <th>2014</th>\n",
       "      <th>2015</th>\n",
       "      <th>2016</th>\n",
       "      <th>2017</th>\n",
       "      <th>2018</th>\n",
       "      <th>2019</th>\n",
       "    </tr>\n",
       "  </thead>\n",
       "  <tbody>\n",
       "    <tr>\n",
       "      <th>1</th>\n",
       "      <td>Africa Eastern and Southern</td>\n",
       "      <td>AFE</td>\n",
       "      <td>Mortality rate, under-5 (per 1,000 live births)</td>\n",
       "      <td>SH.DYN.MORT</td>\n",
       "      <td>136.917815</td>\n",
       "      <td>131.670422</td>\n",
       "      <td>126.139085</td>\n",
       "      <td>120.635993</td>\n",
       "      <td>115.263632</td>\n",
       "      <td>110.060055</td>\n",
       "      <td>...</td>\n",
       "      <td>86.208587</td>\n",
       "      <td>82.105187</td>\n",
       "      <td>78.354228</td>\n",
       "      <td>74.991597</td>\n",
       "      <td>71.996841</td>\n",
       "      <td>69.288947</td>\n",
       "      <td>66.667614</td>\n",
       "      <td>64.347025</td>\n",
       "      <td>62.115387</td>\n",
       "      <td>60.098659</td>\n",
       "    </tr>\n",
       "    <tr>\n",
       "      <th>2</th>\n",
       "      <td>Afghanistan</td>\n",
       "      <td>AFG</td>\n",
       "      <td>Mortality rate, under-5 (per 1,000 live births)</td>\n",
       "      <td>SH.DYN.MORT</td>\n",
       "      <td>128.700000</td>\n",
       "      <td>124.600000</td>\n",
       "      <td>120.400000</td>\n",
       "      <td>116.300000</td>\n",
       "      <td>112.100000</td>\n",
       "      <td>107.900000</td>\n",
       "      <td>...</td>\n",
       "      <td>87.600000</td>\n",
       "      <td>83.900000</td>\n",
       "      <td>80.300000</td>\n",
       "      <td>76.800000</td>\n",
       "      <td>73.600000</td>\n",
       "      <td>70.400000</td>\n",
       "      <td>67.600000</td>\n",
       "      <td>64.900000</td>\n",
       "      <td>62.500000</td>\n",
       "      <td>60.300000</td>\n",
       "    </tr>\n",
       "    <tr>\n",
       "      <th>3</th>\n",
       "      <td>Africa Western and Central</td>\n",
       "      <td>AFW</td>\n",
       "      <td>Mortality rate, under-5 (per 1,000 live births)</td>\n",
       "      <td>SH.DYN.MORT</td>\n",
       "      <td>169.548432</td>\n",
       "      <td>164.533824</td>\n",
       "      <td>159.251950</td>\n",
       "      <td>153.916285</td>\n",
       "      <td>148.577352</td>\n",
       "      <td>143.417384</td>\n",
       "      <td>...</td>\n",
       "      <td>121.783273</td>\n",
       "      <td>118.442692</td>\n",
       "      <td>115.498791</td>\n",
       "      <td>112.667923</td>\n",
       "      <td>110.264426</td>\n",
       "      <td>107.765705</td>\n",
       "      <td>105.055552</td>\n",
       "      <td>102.430680</td>\n",
       "      <td>99.598781</td>\n",
       "      <td>96.814240</td>\n",
       "    </tr>\n",
       "    <tr>\n",
       "      <th>4</th>\n",
       "      <td>Angola</td>\n",
       "      <td>AGO</td>\n",
       "      <td>Mortality rate, under-5 (per 1,000 live births)</td>\n",
       "      <td>SH.DYN.MORT</td>\n",
       "      <td>203.900000</td>\n",
       "      <td>197.800000</td>\n",
       "      <td>190.900000</td>\n",
       "      <td>183.200000</td>\n",
       "      <td>174.600000</td>\n",
       "      <td>165.600000</td>\n",
       "      <td>...</td>\n",
       "      <td>120.300000</td>\n",
       "      <td>112.300000</td>\n",
       "      <td>105.000000</td>\n",
       "      <td>98.600000</td>\n",
       "      <td>93.000000</td>\n",
       "      <td>88.200000</td>\n",
       "      <td>84.200000</td>\n",
       "      <td>80.600000</td>\n",
       "      <td>77.700000</td>\n",
       "      <td>74.700000</td>\n",
       "    </tr>\n",
       "    <tr>\n",
       "      <th>5</th>\n",
       "      <td>Albania</td>\n",
       "      <td>ALB</td>\n",
       "      <td>Mortality rate, under-5 (per 1,000 live births)</td>\n",
       "      <td>SH.DYN.MORT</td>\n",
       "      <td>27.200000</td>\n",
       "      <td>25.800000</td>\n",
       "      <td>24.400000</td>\n",
       "      <td>22.900000</td>\n",
       "      <td>21.400000</td>\n",
       "      <td>20.000000</td>\n",
       "      <td>...</td>\n",
       "      <td>13.200000</td>\n",
       "      <td>12.100000</td>\n",
       "      <td>11.200000</td>\n",
       "      <td>10.400000</td>\n",
       "      <td>9.900000</td>\n",
       "      <td>9.600000</td>\n",
       "      <td>9.400000</td>\n",
       "      <td>9.400000</td>\n",
       "      <td>9.500000</td>\n",
       "      <td>9.700000</td>\n",
       "    </tr>\n",
       "  </tbody>\n",
       "</table>\n",
       "<p>5 rows × 24 columns</p>\n",
       "</div>"
      ],
      "text/plain": [
       "                  Country Name Country Code  \\\n",
       "1  Africa Eastern and Southern          AFE   \n",
       "2                  Afghanistan          AFG   \n",
       "3   Africa Western and Central          AFW   \n",
       "4                       Angola          AGO   \n",
       "5                      Albania          ALB   \n",
       "\n",
       "                                    Indicator Name Indicator Code        2000  \\\n",
       "1  Mortality rate, under-5 (per 1,000 live births)    SH.DYN.MORT  136.917815   \n",
       "2  Mortality rate, under-5 (per 1,000 live births)    SH.DYN.MORT  128.700000   \n",
       "3  Mortality rate, under-5 (per 1,000 live births)    SH.DYN.MORT  169.548432   \n",
       "4  Mortality rate, under-5 (per 1,000 live births)    SH.DYN.MORT  203.900000   \n",
       "5  Mortality rate, under-5 (per 1,000 live births)    SH.DYN.MORT   27.200000   \n",
       "\n",
       "         2001        2002        2003        2004        2005  ...  \\\n",
       "1  131.670422  126.139085  120.635993  115.263632  110.060055  ...   \n",
       "2  124.600000  120.400000  116.300000  112.100000  107.900000  ...   \n",
       "3  164.533824  159.251950  153.916285  148.577352  143.417384  ...   \n",
       "4  197.800000  190.900000  183.200000  174.600000  165.600000  ...   \n",
       "5   25.800000   24.400000   22.900000   21.400000   20.000000  ...   \n",
       "\n",
       "         2010        2011        2012        2013        2014        2015  \\\n",
       "1   86.208587   82.105187   78.354228   74.991597   71.996841   69.288947   \n",
       "2   87.600000   83.900000   80.300000   76.800000   73.600000   70.400000   \n",
       "3  121.783273  118.442692  115.498791  112.667923  110.264426  107.765705   \n",
       "4  120.300000  112.300000  105.000000   98.600000   93.000000   88.200000   \n",
       "5   13.200000   12.100000   11.200000   10.400000    9.900000    9.600000   \n",
       "\n",
       "         2016        2017       2018       2019  \n",
       "1   66.667614   64.347025  62.115387  60.098659  \n",
       "2   67.600000   64.900000  62.500000  60.300000  \n",
       "3  105.055552  102.430680  99.598781  96.814240  \n",
       "4   84.200000   80.600000  77.700000  74.700000  \n",
       "5    9.400000    9.400000   9.500000   9.700000  \n",
       "\n",
       "[5 rows x 24 columns]"
      ]
     },
     "execution_count": 236,
     "metadata": {},
     "output_type": "execute_result"
    }
   ],
   "source": [
    "cleaned_mortality = mortality.dropna(axis=0)\n",
    "cleaned_mortality.head()"
   ]
  },
  {
   "cell_type": "code",
   "execution_count": 237,
   "id": "coordinated-polls",
   "metadata": {},
   "outputs": [
    {
     "data": {
      "text/plain": [
       "Country Name      0.0\n",
       "Country Code      0.0\n",
       "Indicator Name    0.0\n",
       "Indicator Code    0.0\n",
       "2000              0.0\n",
       "2001              0.0\n",
       "2002              0.0\n",
       "2003              0.0\n",
       "2004              0.0\n",
       "2005              0.0\n",
       "2006              0.0\n",
       "2007              0.0\n",
       "2008              0.0\n",
       "2009              0.0\n",
       "2010              0.0\n",
       "2011              0.0\n",
       "2012              0.0\n",
       "2013              0.0\n",
       "2014              0.0\n",
       "2015              0.0\n",
       "2016              0.0\n",
       "2017              0.0\n",
       "2018              0.0\n",
       "2019              0.0\n",
       "dtype: float64"
      ]
     },
     "execution_count": 237,
     "metadata": {},
     "output_type": "execute_result"
    }
   ],
   "source": [
    "cleaned_mortality.isnull().sum()*100/cleaned_mortality.shape[0]"
   ]
  },
  {
   "cell_type": "code",
   "execution_count": 238,
   "id": "aggregate-desire",
   "metadata": {},
   "outputs": [
    {
     "data": {
      "text/plain": [
       "array(['Africa Eastern and Southern', 'Afghanistan',\n",
       "       'Africa Western and Central', 'Angola', 'Albania', 'Andorra',\n",
       "       'Arab World', 'United Arab Emirates', 'Argentina', 'Armenia',\n",
       "       'Antigua and Barbuda', 'Australia', 'Austria', 'Azerbaijan',\n",
       "       'Burundi', 'Belgium', 'Benin', 'Burkina Faso', 'Bangladesh',\n",
       "       'Bulgaria', 'Bahrain', 'Bahamas, The', 'Bosnia and Herzegovina',\n",
       "       'Belarus', 'Belize', 'Bolivia', 'Brazil', 'Barbados',\n",
       "       'Brunei Darussalam', 'Bhutan', 'Botswana',\n",
       "       'Central African Republic', 'Canada',\n",
       "       'Central Europe and the Baltics', 'Switzerland', 'Chile', 'China',\n",
       "       \"Cote d'Ivoire\", 'Cameroon', 'Congo, Dem. Rep.', 'Congo, Rep.',\n",
       "       'Colombia', 'Comoros', 'Cabo Verde', 'Costa Rica',\n",
       "       'Caribbean small states', 'Cuba', 'Cyprus', 'Czech Republic',\n",
       "       'Germany', 'Djibouti', 'Dominica', 'Denmark', 'Dominican Republic',\n",
       "       'Algeria', 'East Asia & Pacific (excluding high income)',\n",
       "       'Early-demographic dividend', 'East Asia & Pacific',\n",
       "       'Europe & Central Asia (excluding high income)',\n",
       "       'Europe & Central Asia', 'Ecuador', 'Egypt, Arab Rep.',\n",
       "       'Euro area', 'Eritrea', 'Spain', 'Estonia', 'Ethiopia',\n",
       "       'European Union', 'Fragile and conflict affected situations',\n",
       "       'Finland', 'Fiji', 'France', 'Micronesia, Fed. Sts.', 'Gabon',\n",
       "       'United Kingdom', 'Georgia', 'Ghana', 'Guinea', 'Gambia, The',\n",
       "       'Guinea-Bissau', 'Equatorial Guinea', 'Greece', 'Grenada',\n",
       "       'Guatemala', 'Guyana', 'High income', 'Honduras',\n",
       "       'Heavily indebted poor countries (HIPC)', 'Croatia', 'Haiti',\n",
       "       'Hungary', 'IBRD only', 'IDA & IBRD total', 'IDA total',\n",
       "       'IDA blend', 'Indonesia', 'IDA only', 'India', 'Ireland',\n",
       "       'Iran, Islamic Rep.', 'Iraq', 'Iceland', 'Israel', 'Italy',\n",
       "       'Jamaica', 'Jordan', 'Japan', 'Kazakhstan', 'Kenya',\n",
       "       'Kyrgyz Republic', 'Cambodia', 'Kiribati', 'St. Kitts and Nevis',\n",
       "       'Korea, Rep.', 'Kuwait',\n",
       "       'Latin America & Caribbean (excluding high income)', 'Lao PDR',\n",
       "       'Lebanon', 'Liberia', 'Libya', 'St. Lucia',\n",
       "       'Latin America & Caribbean',\n",
       "       'Least developed countries: UN classification', 'Low income',\n",
       "       'Sri Lanka', 'Lower middle income', 'Low & middle income',\n",
       "       'Lesotho', 'Late-demographic dividend', 'Lithuania', 'Luxembourg',\n",
       "       'Latvia', 'Morocco', 'Monaco', 'Moldova', 'Madagascar', 'Maldives',\n",
       "       'Middle East & North Africa', 'Mexico', 'Marshall Islands',\n",
       "       'Middle income', 'North Macedonia', 'Mali', 'Malta', 'Myanmar',\n",
       "       'Middle East & North Africa (excluding high income)', 'Montenegro',\n",
       "       'Mongolia', 'Mozambique', 'Mauritania', 'Mauritius', 'Malawi',\n",
       "       'Malaysia', 'North America', 'Namibia', 'Niger', 'Nigeria',\n",
       "       'Nicaragua', 'Netherlands', 'Norway', 'Nepal', 'Nauru',\n",
       "       'New Zealand', 'OECD members', 'Oman', 'Other small states',\n",
       "       'Pakistan', 'Panama', 'Peru', 'Philippines', 'Palau',\n",
       "       'Papua New Guinea', 'Poland', 'Pre-demographic dividend',\n",
       "       \"Korea, Dem. People's Rep.\", 'Portugal', 'Paraguay',\n",
       "       'West Bank and Gaza', 'Pacific island small states',\n",
       "       'Post-demographic dividend', 'Qatar', 'Romania',\n",
       "       'Russian Federation', 'Rwanda', 'South Asia', 'Saudi Arabia',\n",
       "       'Sudan', 'Senegal', 'Singapore', 'Solomon Islands', 'Sierra Leone',\n",
       "       'El Salvador', 'San Marino', 'Somalia', 'Serbia',\n",
       "       'Sub-Saharan Africa (excluding high income)', 'South Sudan',\n",
       "       'Sub-Saharan Africa', 'Small states', 'Sao Tome and Principe',\n",
       "       'Suriname', 'Slovak Republic', 'Slovenia', 'Sweden', 'Eswatini',\n",
       "       'Seychelles', 'Syrian Arab Republic', 'Chad',\n",
       "       'East Asia & Pacific (IDA & IBRD countries)',\n",
       "       'Europe & Central Asia (IDA & IBRD countries)', 'Togo', 'Thailand',\n",
       "       'Tajikistan', 'Turkmenistan',\n",
       "       'Latin America & the Caribbean (IDA & IBRD countries)',\n",
       "       'Timor-Leste', 'Middle East & North Africa (IDA & IBRD countries)',\n",
       "       'Tonga', 'South Asia (IDA & IBRD)',\n",
       "       'Sub-Saharan Africa (IDA & IBRD countries)', 'Trinidad and Tobago',\n",
       "       'Tunisia', 'Turkey', 'Tuvalu', 'Tanzania', 'Uganda', 'Ukraine',\n",
       "       'Upper middle income', 'Uruguay', 'United States', 'Uzbekistan',\n",
       "       'St. Vincent and the Grenadines', 'Venezuela, RB', 'Vietnam',\n",
       "       'Vanuatu', 'World', 'Samoa', 'Yemen, Rep.', 'South Africa',\n",
       "       'Zambia', 'Zimbabwe'], dtype=object)"
      ]
     },
     "execution_count": 238,
     "metadata": {},
     "output_type": "execute_result"
    }
   ],
   "source": [
    "cleaned_mortality['Country Name'].unique()"
   ]
  },
  {
   "cell_type": "code",
   "execution_count": 239,
   "id": "rocky-cricket",
   "metadata": {
    "tags": []
   },
   "outputs": [],
   "source": [
    "cleaned_mortality.to_csv('Databases/cleaned_mortality.csv')"
   ]
  },
  {
   "cell_type": "code",
   "execution_count": 240,
   "id": "immediate-colleague",
   "metadata": {},
   "outputs": [
    {
     "data": {
      "text/html": [
       "<div>\n",
       "<style scoped>\n",
       "    .dataframe tbody tr th:only-of-type {\n",
       "        vertical-align: middle;\n",
       "    }\n",
       "\n",
       "    .dataframe tbody tr th {\n",
       "        vertical-align: top;\n",
       "    }\n",
       "\n",
       "    .dataframe thead th {\n",
       "        text-align: right;\n",
       "    }\n",
       "</style>\n",
       "<table border=\"1\" class=\"dataframe\">\n",
       "  <thead>\n",
       "    <tr style=\"text-align: right;\">\n",
       "      <th></th>\n",
       "      <th>Country Name</th>\n",
       "      <th>2019</th>\n",
       "    </tr>\n",
       "  </thead>\n",
       "  <tbody>\n",
       "    <tr>\n",
       "      <th>212</th>\n",
       "      <td>San Marino</td>\n",
       "      <td>1.7</td>\n",
       "    </tr>\n",
       "    <tr>\n",
       "      <th>114</th>\n",
       "      <td>Iceland</td>\n",
       "      <td>2.0</td>\n",
       "    </tr>\n",
       "    <tr>\n",
       "      <th>222</th>\n",
       "      <td>Slovenia</td>\n",
       "      <td>2.1</td>\n",
       "    </tr>\n",
       "    <tr>\n",
       "      <th>53</th>\n",
       "      <td>Cyprus</td>\n",
       "      <td>2.3</td>\n",
       "    </tr>\n",
       "    <tr>\n",
       "      <th>162</th>\n",
       "      <td>Montenegro</td>\n",
       "      <td>2.3</td>\n",
       "    </tr>\n",
       "  </tbody>\n",
       "</table>\n",
       "</div>"
      ],
      "text/plain": [
       "    Country Name  2019\n",
       "212   San Marino   1.7\n",
       "114      Iceland   2.0\n",
       "222     Slovenia   2.1\n",
       "53        Cyprus   2.3\n",
       "162   Montenegro   2.3"
      ]
     },
     "execution_count": 240,
     "metadata": {},
     "output_type": "execute_result"
    }
   ],
   "source": [
    "cleaned_mortality = cleaned_mortality.sort_values(by = '2019', ascending = True).head(5)\n",
    "cleaned_mortality.drop(['Country Code', 'Indicator Name', 'Indicator Code', '2000', '2001', '2002', '2003', '2004', '2005', '2006', '2007', '2008', '2009', '2010', '2011', '2012', '2013', '2014', '2015', '2016', '2017', '2018'], axis=1, inplace=True)\n",
    "cleaned_mortality"
   ]
  },
  {
   "cell_type": "code",
   "execution_count": 244,
   "id": "nominated-biography",
   "metadata": {},
   "outputs": [
    {
     "data": {
      "image/png": "[encoded data removed]",
      "text/plain": [
       "<Figure size 720x360 with 1 Axes>"
      ]
     },
     "metadata": {},
     "output_type": "display_data"
    }
   ],
   "source": [
    "fig = plt.figure(figsize=(10,5))\n",
    "ax = fig.add_subplot(1,1,1)\n",
    "cleaned_mortality.plot(x = 'Country Name', y = '2019', fontsize=15, kind='barh', color=['#410300', '#920700', '#e40b00', '#ff4137', '#ff8388'], ax=ax, edgecolor='w')\n",
    "\n",
    "for i in ax.patches:\n",
    "    plt.text(i.get_width()+0.1, i.get_y()+0.5,\n",
    "             str(round((i.get_width()), 2)),\n",
    "             fontsize = 13, fontweight ='bold',\n",
    "             color ='grey')\n",
    "    \n",
    "ax.set_title('Top 5 Countries with Lowest Mortality Rates in 2019', fontsize=25)\n",
    "ax.set_xlabel('Mortality Rate', fontsize=20)\n",
    "ax.set_ylabel('Country Name', fontsize=20)\n",
    "ax.spines['right'].set_visible(True)\n",
    "ax.spines['top'].set_visible(False)\n",
    "ax.yaxis.grid(False)\n",
    "ax.legend_=None\n",
    "ax.set_xlim([0, 2.5])\n",
    "\n",
    "plt.savefig(fname = 'LowestRates_2019')"
   ]
  },
  {
   "cell_type": "code",
   "execution_count": 242,
   "id": "brutal-opera",
   "metadata": {},
   "outputs": [
    {
     "ename": "NameError",
     "evalue": "name 'go' is not defined",
     "output_type": "error",
     "traceback": [
      "\u001b[0;31m---------------------------------------------------------------------------\u001b[0m",
      "\u001b[0;31mNameError\u001b[0m                                 Traceback (most recent call last)",
      "\u001b[0;32m<ipython-input-242-4e1f6e5ed059>\u001b[0m in \u001b[0;36m<module>\u001b[0;34m\u001b[0m\n\u001b[1;32m      8\u001b[0m             colorbar = {'title':'Mortality Rate', 'len':200,'lenmode':'pixels' })\n\u001b[1;32m      9\u001b[0m \u001b[0mlayout\u001b[0m \u001b[0;34m=\u001b[0m \u001b[0mdict\u001b[0m\u001b[0;34m(\u001b[0m\u001b[0mgeo\u001b[0m \u001b[0;34m=\u001b[0m \u001b[0;34m{\u001b[0m\u001b[0;34m'scope'\u001b[0m\u001b[0;34m:\u001b[0m\u001b[0;34m'world'\u001b[0m\u001b[0;34m}\u001b[0m\u001b[0;34m,\u001b[0m\u001b[0mtitle\u001b[0m\u001b[0;34m=\u001b[0m\u001b[0;34m\"Global Child Mortality Rate in 2019\"\u001b[0m\u001b[0;34m)\u001b[0m\u001b[0;34m\u001b[0m\u001b[0;34m\u001b[0m\u001b[0m\n\u001b[0;32m---> 10\u001b[0;31m \u001b[0mcol_map\u001b[0m \u001b[0;34m=\u001b[0m \u001b[0mgo\u001b[0m\u001b[0;34m.\u001b[0m\u001b[0mFigure\u001b[0m\u001b[0;34m(\u001b[0m\u001b[0mdata\u001b[0m \u001b[0;34m=\u001b[0m \u001b[0;34m[\u001b[0m\u001b[0mdata\u001b[0m\u001b[0;34m]\u001b[0m\u001b[0;34m,\u001b[0m\u001b[0mlayout\u001b[0m \u001b[0;34m=\u001b[0m \u001b[0mlayout\u001b[0m\u001b[0;34m)\u001b[0m\u001b[0;34m\u001b[0m\u001b[0;34m\u001b[0m\u001b[0m\n\u001b[0m\u001b[1;32m     11\u001b[0m \u001b[0mcol_map\u001b[0m\u001b[0;34m.\u001b[0m\u001b[0mshow\u001b[0m\u001b[0;34m(\u001b[0m\u001b[0;34m)\u001b[0m\u001b[0;34m\u001b[0m\u001b[0;34m\u001b[0m\u001b[0m\n",
      "\u001b[0;31mNameError\u001b[0m: name 'go' is not defined"
     ]
    }
   ],
   "source": [
    "x = cleaned_mortality.groupby([\"Country Name\"])[\"2019\"].mean()\n",
    "data = dict(type = 'choropleth',\n",
    "            locations = x.index,\n",
    "            locationmode = 'country names',\n",
    "            colorscale = 'Portland',\n",
    "            text = x.index,\n",
    "            z = x,\n",
    "            colorbar = {'title':'Mortality Rate', 'len':200,'lenmode':'pixels' })\n",
    "layout = dict(geo = {'scope':'world'},title=\"Global Child Mortality Rate in 2019\")\n",
    "col_map = go.Figure(data = [data],layout = layout)\n",
    "col_map.show()"
   ]
  },
  {
   "cell_type": "code",
   "execution_count": null,
   "id": "regulation-mathematics",
   "metadata": {
    "tags": []
   },
   "outputs": [],
   "source": [
    "world = gpd.read_file(gpd.datasets.get_path('naturalearth_lowres'))\n",
    "\n",
    "# plot world's continents first as base layer\n",
    "ax1 = continents.plot(figsize=(12, 8), cmap='Set2')"
   ]
  },
  {
   "cell_type": "code",
   "execution_count": null,
   "id": "collective-density",
   "metadata": {
    "tags": []
   },
   "outputs": [],
   "source": [
    "merged = world.merge(cleaned_mortality, how='left', left_on=None, right_on=None)\n",
    "merged = merged[['Country Name', 'Country Code', 'Indicator Name', 'Indicator Code', '2000,\n",
    "                '2001', '2002', '2003', '2004', '2005', '2006', '2007', '2008', '2009',\n",
    "                 '2010', '2011', '2012', '2013', '2014', '2016', '2017', '2018', '2019']]\n",
    "merged.head"
   ]
  },
  {
   "cell_type": "code",
   "execution_count": null,
   "id": "weekly-tattoo",
   "metadata": {},
   "outputs": [],
   "source": [
    "# set the value column that will be visualised\n",
    "variable = '2019'\n",
    "\n",
    "# set the range for the choropleth values\n",
    "vmin, vmax = 0, 150\n",
    "\n",
    "# create figure and axes for Matplotlib\n",
    "fig, ax = plt.subplots(1, figsize=(30, 10))\n",
    "\n",
    "# remove the axis\n",
    "ax.axis('off')\n",
    "\n",
    "# add a title and annotation\n",
    "ax.set_title('Mortality Rate in 2019', fontdict={'fontsize': '25', 'fontweight' : '3'})\n",
    "\n",
    "# Create colorbar legend\n",
    "sm = plt.cm.ScalarMappable(cmap='Blues', norm=plt.Normalize(vmin=vmin, vmax=vmax))\n",
    "# empty array for the data range\n",
    "sm.set_array([]) # or alternatively sm._A = []. Not sure why this step is necessary, but many recommends it\n",
    "\n",
    "# add the colorbar to the figure\n",
    "fig.colorbar(sm)\n",
    "\n",
    "# create map\n",
    "continents.plot(column=variable, cmap='Blues', linewidth=0.8, ax=ax, edgecolor='0.8')"
   ]
  },
  {
   "cell_type": "markdown",
   "id": "raised-tiger",
   "metadata": {
    "tags": []
   },
   "source": [
    "### Causes of death in children under 5"
   ]
  },
  {
   "cell_type": "code",
   "execution_count": null,
   "id": "orange-reservation",
   "metadata": {},
   "outputs": [],
   "source": [
    "cause = pd.read_csv('Databases/causes-of-death-in-children-under-5.csv')\n",
    "cause.head(2)"
   ]
  },
  {
   "cell_type": "code",
   "execution_count": null,
   "id": "dense-niagara",
   "metadata": {},
   "outputs": [],
   "source": [
    "cause.info()"
   ]
  },
  {
   "cell_type": "code",
   "execution_count": null,
   "id": "convenient-mediterranean",
   "metadata": {},
   "outputs": [],
   "source": [
    "cause.describe()"
   ]
  },
  {
   "cell_type": "code",
   "execution_count": null,
   "id": "collect-theme",
   "metadata": {
    "tags": []
   },
   "outputs": [],
   "source": [
    "cause.describe(include=object)"
   ]
  },
  {
   "cell_type": "code",
   "execution_count": null,
   "id": "agricultural-stable",
   "metadata": {
    "tags": []
   },
   "outputs": [],
   "source": [
    "cause.isnull().sum()*100/cause.shape[0]"
   ]
  },
  {
   "cell_type": "code",
   "execution_count": null,
   "id": "cross-fight",
   "metadata": {
    "tags": []
   },
   "outputs": [],
   "source": [
    "cause.duplicated().sum()"
   ]
  },
  {
   "cell_type": "markdown",
   "id": "sacred-stuff",
   "metadata": {},
   "source": [
    "#### Since there are 2.14% nulls per cause of deaths, these can also be dropped in the table at it has neglible effect in the aggregated and summarized analysis. "
   ]
  },
  {
   "cell_type": "code",
   "execution_count": null,
   "id": "environmental-catalog",
   "metadata": {},
   "outputs": [],
   "source": [
    "cause.dropna(axis=0, inplace=True)\n",
    "cause.head()"
   ]
  },
  {
   "cell_type": "markdown",
   "id": "controlling-developer",
   "metadata": {},
   "source": [
    "#### Since 2020 is not available and the years below 2000 will not provide any sufficient recent conclusions and recommendations, these years will not be included or will be dropped to accomodate other databases which has lesser years as well. "
   ]
  },
  {
   "cell_type": "code",
   "execution_count": null,
   "id": "light-collector",
   "metadata": {},
   "outputs": [],
   "source": [
    "cause.drop(cause.index[cause['Year'] < 2000], inplace=True)\n",
    "cleaned_cause = cause\n",
    "cleaned_cause.head()"
   ]
  },
  {
   "cell_type": "code",
   "execution_count": null,
   "id": "excellent-taylor",
   "metadata": {},
   "outputs": [],
   "source": [
    "cleaned_cause = cleaned_cause.rename(columns={\"Entity\": \"Country Name\", \"Code\": \"Country Code\"})\n",
    "cleaned_cause.head()"
   ]
  },
  {
   "cell_type": "code",
   "execution_count": null,
   "id": "stylish-quarter",
   "metadata": {},
   "outputs": [],
   "source": [
    "cleaned_cause.isnull().sum()*100/cleaned_cause.shape[0]"
   ]
  },
  {
   "cell_type": "code",
   "execution_count": null,
   "id": "resistant-seating",
   "metadata": {},
   "outputs": [],
   "source": [
    "cleaned_cause['Country Name'].unique()"
   ]
  },
  {
   "cell_type": "code",
   "execution_count": null,
   "id": "piano-noise",
   "metadata": {},
   "outputs": [],
   "source": [
    "cleaned_cause.to_csv('Databases/cleaned_cause.csv')"
   ]
  },
  {
   "cell_type": "markdown",
   "id": "fatty-level",
   "metadata": {
    "tags": []
   },
   "source": [
    "<hr>\n",
    "\n",
    "### Malnutrition across the globe (Data of countries from 1983-2019)"
   ]
  },
  {
   "cell_type": "code",
   "execution_count": null,
   "id": "annoying-logan",
   "metadata": {},
   "outputs": [],
   "source": [
    "malnutrition = pd.read_csv('Databases/malnutrition_country_avg.csv')\n",
    "malnutrition.head()"
   ]
  },
  {
   "cell_type": "code",
   "execution_count": null,
   "id": "south-passage",
   "metadata": {},
   "outputs": [],
   "source": [
    "malnutrition.info()"
   ]
  },
  {
   "cell_type": "code",
   "execution_count": null,
   "id": "generous-basic",
   "metadata": {},
   "outputs": [],
   "source": [
    "malnutrition.describe()"
   ]
  },
  {
   "cell_type": "code",
   "execution_count": null,
   "id": "mighty-oriental",
   "metadata": {},
   "outputs": [],
   "source": [
    "malnutrition.describe(include=object)"
   ]
  },
  {
   "cell_type": "code",
   "execution_count": null,
   "id": "prerequisite-merit",
   "metadata": {},
   "outputs": [],
   "source": [
    "malnutrition.isnull().sum()*100/malnutrition.shape[0]"
   ]
  },
  {
   "cell_type": "code",
   "execution_count": null,
   "id": "distinct-three",
   "metadata": {},
   "outputs": [],
   "source": [
    "malnutrition.duplicated().sum()"
   ]
  },
  {
   "cell_type": "code",
   "execution_count": null,
   "id": "employed-bulgarian",
   "metadata": {},
   "outputs": [],
   "source": [
    "malnutrition.dropna(axis=0, inplace=True)\n",
    "cleaned_malnutrition = malnutrition\n",
    "cleaned_malnutrition = cleaned_malnutrition.rename(columns={\"Country\": \"Country Name\"})\n",
    "cleaned_malnutrition['Country Name'] = cleaned_malnutrition['Country Name'].str.title()\n",
    "cleaned_malnutrition.head()"
   ]
  },
  {
   "cell_type": "code",
   "execution_count": null,
   "id": "perceived-injection",
   "metadata": {},
   "outputs": [],
   "source": [
    "cleaned_malnutrition.isnull().sum()*100/cleaned_malnutrition.shape[0]"
   ]
  },
  {
   "cell_type": "code",
   "execution_count": null,
   "id": "radio-saturn",
   "metadata": {},
   "outputs": [],
   "source": [
    "cleaned_malnutrition['Country Name'].unique()"
   ]
  },
  {
   "cell_type": "code",
   "execution_count": null,
   "id": "biblical-recruitment",
   "metadata": {
    "tags": []
   },
   "outputs": [],
   "source": [
    "countries = pd.read_csv('Databases/countrynamesncodes.csv')\n",
    "countries.head()"
   ]
  },
  {
   "cell_type": "markdown",
   "id": "threatened-mexico",
   "metadata": {
    "tags": []
   },
   "source": [
    "#### Since the table does not contain a country code column, the best solution was to merge with a country code dataset from IBAN using Alpha-3 coding. `See datasets section for the source reference.`"
   ]
  },
  {
   "cell_type": "code",
   "execution_count": null,
   "id": "serial-techno",
   "metadata": {},
   "outputs": [],
   "source": [
    "cleaned_malnutrition = pd.merge(cleaned_malnutrition, countries, how='left', on='Country Name')\n",
    "column_to_reorder = cleaned_malnutrition.pop('Country Code')\n",
    "cleaned_malnutrition.insert(1, 'Country Code', column_to_reorder)\n",
    "cleaned_malnutrition.head()"
   ]
  },
  {
   "cell_type": "code",
   "execution_count": null,
   "id": "consistent-lloyd",
   "metadata": {
    "tags": []
   },
   "outputs": [],
   "source": [
    "cleaned_malnutrition.isnull().sum()*100/cleaned_malnutrition.shape[0]"
   ]
  },
  {
   "cell_type": "markdown",
   "id": "competent-ground",
   "metadata": {},
   "source": [
    "#### Some countries will not be included in the possible merges because they are not given country codes, but these will not be dropped as the malnutrition table will mostly be utilized for determining the income classification of each country. "
   ]
  },
  {
   "cell_type": "code",
   "execution_count": null,
   "id": "toxic-nicholas",
   "metadata": {},
   "outputs": [],
   "source": [
    "cleaned_malnutrition.to_csv('Databases/cleaned_malnutrition.csv')"
   ]
  },
  {
   "cell_type": "markdown",
   "id": "intelligent-personality",
   "metadata": {
    "tags": []
   },
   "source": [
    "<hr>\n",
    "<hr>\n",
    "\n",
    "## Data Visualization"
   ]
  },
  {
   "cell_type": "code",
   "execution_count": null,
   "id": "opened-relief",
   "metadata": {},
   "outputs": [],
   "source": []
  }
 ],
 "metadata": {
  "kernelspec": {
   "display_name": "Python 3",
   "language": "python",
   "name": "python3"
  },
  "language_info": {
   "codemirror_mode": {
    "name": "ipython",
    "version": 3
   },
   "file_extension": ".py",
   "mimetype": "text/x-python",
   "name": "python",
   "nbconvert_exporter": "python",
   "pygments_lexer": "ipython3",
   "version": "3.8.5"
  }
 },
 "nbformat": 4,
 "nbformat_minor": 5
}
